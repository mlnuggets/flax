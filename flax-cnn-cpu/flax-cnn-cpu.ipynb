{
 "cells": [
  {
   "cell_type": "markdown",
   "source": [
    "Dataset is obtained from [Kaggle](https://www.kaggle.com/c/dogs-vs-cats).\n",
    "\n",
    "Click the image below to read the post online.\n",
    "\n",
    "<a target=\"_blank\" href=\"https://www.machinelearningnuggets.com/image-classification-with-jax-flax\n",
    "\"><img src=\"https://digitalpress.fra1.cdn.digitaloceanspaces.com/mhujhsj/2022/07/logo.png\" alt=\"Open in ML Nuggets\"></a>"
   ],
   "metadata": {
    "collapsed": false,
    "pycharm": {
     "name": "#%% md\n"
    }
   }
  },
  {
   "cell_type": "code",
   "execution_count": null,
   "outputs": [],
   "source": [
    "pip install wget"
   ],
   "metadata": {
    "collapsed": false,
    "pycharm": {
     "name": "#%%\n"
    }
   }
  },
  {
   "cell_type": "code",
   "execution_count": null,
   "id": "17b02908",
   "metadata": {
    "execution": {
     "iopub.execute_input": "2022-07-04T18:08:22.291571Z",
     "iopub.status.busy": "2022-07-04T18:08:22.291193Z",
     "iopub.status.idle": "2022-07-04T18:08:35.150754Z",
     "shell.execute_reply": "2022-07-04T18:08:35.148836Z"
    },
    "id": "ecEsht3fGXrY",
    "outputId": "713659f2-539f-4d75-8d35-48a1e78bc258",
    "papermill": {
     "duration": 12.874593,
     "end_time": "2022-07-04T18:08:35.153679",
     "exception": false,
     "start_time": "2022-07-04T18:08:22.279086",
     "status": "completed"
    },
    "tags": [],
    "pycharm": {
     "is_executing": true
    }
   },
   "outputs": [],
   "source": [
    "pip install flax"
   ]
  },
  {
   "cell_type": "code",
   "execution_count": 5,
   "id": "b181d393",
   "metadata": {
    "execution": {
     "iopub.execute_input": "2022-07-04T18:08:35.179115Z",
     "iopub.status.busy": "2022-07-04T18:08:35.178204Z",
     "iopub.status.idle": "2022-07-04T18:10:31.086518Z",
     "shell.execute_reply": "2022-07-04T18:10:31.085250Z"
    },
    "id": "I20ECd4mhjn7",
    "outputId": "99877c46-22bf-4c6b-8f70-1f25a2e2fd5f",
    "papermill": {
     "duration": 115.935491,
     "end_time": "2022-07-04T18:10:31.100682",
     "exception": false,
     "start_time": "2022-07-04T18:08:35.165191",
     "status": "completed"
    },
    "tags": []
   },
   "outputs": [
    {
     "data": {
      "text/plain": [
       "'train.zip'"
      ]
     },
     "execution_count": 5,
     "metadata": {},
     "output_type": "execute_result"
    }
   ],
   "source": [
    "import wget \n",
    "wget.download(\"https://namespace.co.ke/ml/train.zip\")"
   ]
  },
  {
   "cell_type": "code",
   "execution_count": 6,
   "id": "6391ed32",
   "metadata": {
    "execution": {
     "iopub.execute_input": "2022-07-04T18:10:31.126910Z",
     "iopub.status.busy": "2022-07-04T18:10:31.126529Z",
     "iopub.status.idle": "2022-07-04T18:10:38.754802Z",
     "shell.execute_reply": "2022-07-04T18:10:38.753442Z"
    },
    "id": "tV-Wr46ohlzD",
    "papermill": {
     "duration": 7.645292,
     "end_time": "2022-07-04T18:10:38.757642",
     "exception": false,
     "start_time": "2022-07-04T18:10:31.112350",
     "status": "completed"
    },
    "tags": []
   },
   "outputs": [],
   "source": [
    "import zipfile\n",
    "with zipfile.ZipFile('train.zip', 'r') as zip_ref:\n",
    "  zip_ref.extractall('.')"
   ]
  },
  {
   "cell_type": "markdown",
   "id": "fd6d01b6",
   "metadata": {
    "id": "vr8fzlsJhY4l",
    "papermill": {
     "duration": 0.011679,
     "end_time": "2022-07-04T18:10:38.781288",
     "exception": false,
     "start_time": "2022-07-04T18:10:38.769609",
     "status": "completed"
    },
    "tags": []
   },
   "source": [
    "## Perform standard imports"
   ]
  },
  {
   "cell_type": "code",
   "execution_count": 7,
   "id": "ea3f6d1d",
   "metadata": {
    "execution": {
     "iopub.execute_input": "2022-07-04T18:10:38.806819Z",
     "iopub.status.busy": "2022-07-04T18:10:38.806457Z",
     "iopub.status.idle": "2022-07-04T18:10:41.049445Z",
     "shell.execute_reply": "2022-07-04T18:10:41.048209Z"
    },
    "id": "2DccX5tHhY4l",
    "papermill": {
     "duration": 2.258747,
     "end_time": "2022-07-04T18:10:41.052363",
     "exception": false,
     "start_time": "2022-07-04T18:10:38.793616",
     "status": "completed"
    },
    "tags": []
   },
   "outputs": [],
   "source": [
    "import torch\n",
    "from torch.utils.data import DataLoader\n",
    "import os\n",
    "from PIL import Image\n",
    "from torchvision import transforms\n",
    "from torch.utils.data import Dataset\n",
    "import numpy as np\n",
    "import pandas as pd\n",
    "import matplotlib.pyplot as plt\n",
    "%matplotlib inline\n",
    "# ignore harmless warnings\n",
    "import warnings\n",
    "warnings.filterwarnings(\"ignore\")"
   ]
  },
  {
   "cell_type": "code",
   "execution_count": 8,
   "id": "92133173",
   "metadata": {
    "execution": {
     "iopub.execute_input": "2022-07-04T18:10:41.081096Z",
     "iopub.status.busy": "2022-07-04T18:10:41.079933Z",
     "iopub.status.idle": "2022-07-04T18:10:44.003059Z",
     "shell.execute_reply": "2022-07-04T18:10:44.001936Z"
    },
    "id": "LwrVSQXfGXra",
    "papermill": {
     "duration": 2.941095,
     "end_time": "2022-07-04T18:10:44.006508",
     "exception": false,
     "start_time": "2022-07-04T18:10:41.065413",
     "status": "completed"
    },
    "tags": []
   },
   "outputs": [],
   "source": [
    "import jax\n",
    "from jax import numpy as jnp\n",
    "import flax\n",
    "from flax import linen as nn  \n",
    "from flax.training import train_state\n",
    "import optax"
   ]
  },
  {
   "cell_type": "code",
   "execution_count": 9,
   "id": "1565d02a",
   "metadata": {
    "execution": {
     "iopub.execute_input": "2022-07-04T18:10:44.031688Z",
     "iopub.status.busy": "2022-07-04T18:10:44.031120Z",
     "iopub.status.idle": "2022-07-04T18:10:44.040426Z",
     "shell.execute_reply": "2022-07-04T18:10:44.039122Z"
    },
    "id": "466mN5btGXrb",
    "papermill": {
     "duration": 0.024502,
     "end_time": "2022-07-04T18:10:44.042709",
     "exception": false,
     "start_time": "2022-07-04T18:10:44.018207",
     "status": "completed"
    },
    "tags": []
   },
   "outputs": [],
   "source": [
    "class CatsDogsDataset(Dataset):\n",
    "    def __init__(self, root_dir, annotation_file, transform=None):\n",
    "        self.root_dir = root_dir\n",
    "        self.annotations = pd.read_csv(annotation_file)\n",
    "        self.transform = transform\n",
    "\n",
    "    def __len__(self):\n",
    "        return len(self.annotations)\n",
    "\n",
    "    def __getitem__(self, index):\n",
    "        img_id = self.annotations.iloc[index, 0]\n",
    "        img = Image.open(os.path.join(self.root_dir, img_id)).convert(\"RGB\")\n",
    "        y_label = torch.tensor(float(self.annotations.iloc[index, 1]))\n",
    "\n",
    "        if self.transform is not None:\n",
    "            img = self.transform(img)\n",
    "\n",
    "        return (img, y_label)"
   ]
  },
  {
   "cell_type": "code",
   "execution_count": 10,
   "id": "6acc554a",
   "metadata": {
    "execution": {
     "iopub.execute_input": "2022-07-04T18:10:44.067427Z",
     "iopub.status.busy": "2022-07-04T18:10:44.067001Z",
     "iopub.status.idle": "2022-07-04T18:10:47.428784Z",
     "shell.execute_reply": "2022-07-04T18:10:47.427794Z"
    },
    "id": "vMQpbnK1GXrb",
    "papermill": {
     "duration": 3.377732,
     "end_time": "2022-07-04T18:10:47.431532",
     "exception": false,
     "start_time": "2022-07-04T18:10:44.053800",
     "status": "completed"
    },
    "tags": []
   },
   "outputs": [],
   "source": [
    "train_df = pd.DataFrame(columns=[\"img_path\",\"label\"])\n",
    "train_df[\"img_path\"] = os.listdir(\"train/\")\n",
    "for idx, i in enumerate(os.listdir(\"train/\")):\n",
    "    if \"cat\" in i:\n",
    "        train_df[\"label\"][idx] = 0\n",
    "    if \"dog\" in i:\n",
    "        train_df[\"label\"][idx] = 1\n",
    "\n",
    "train_df.to_csv (r'train_csv.csv', index = False, header=True)"
   ]
  },
  {
   "cell_type": "code",
   "execution_count": 11,
   "id": "297d6ba0",
   "metadata": {
    "execution": {
     "iopub.execute_input": "2022-07-04T18:10:49.101366Z",
     "iopub.status.busy": "2022-07-04T18:10:49.100284Z",
     "iopub.status.idle": "2022-07-04T18:10:49.107410Z",
     "shell.execute_reply": "2022-07-04T18:10:49.106209Z"
    },
    "id": "Y-tyV6r3GXrb",
    "papermill": {
     "duration": 1.665381,
     "end_time": "2022-07-04T18:10:49.109808",
     "exception": false,
     "start_time": "2022-07-04T18:10:47.444427",
     "status": "completed"
    },
    "tags": []
   },
   "outputs": [],
   "source": [
    "def custom_collate_fn(batch):\n",
    "    transposed_data = list(zip(*batch))\n",
    "    labels = np.array(transposed_data[1])\n",
    "    imgs = np.stack(transposed_data[0])\n",
    "    return imgs, labels"
   ]
  },
  {
   "cell_type": "code",
   "execution_count": 12,
   "id": "98da04e0",
   "metadata": {
    "execution": {
     "iopub.execute_input": "2022-07-04T18:10:49.143979Z",
     "iopub.status.busy": "2022-07-04T18:10:49.143128Z",
     "iopub.status.idle": "2022-07-04T18:10:49.222180Z",
     "shell.execute_reply": "2022-07-04T18:10:49.216491Z"
    },
    "id": "gPR-UkEqGXrc",
    "papermill": {
     "duration": 0.113262,
     "end_time": "2022-07-04T18:10:49.237757",
     "exception": false,
     "start_time": "2022-07-04T18:10:49.124495",
     "status": "completed"
    },
    "tags": []
   },
   "outputs": [],
   "source": [
    "size_image = 64\n",
    "batch_size = 32\n",
    "\n",
    "transform = transforms.Compose([\n",
    "    transforms.Resize((size_image,size_image)),\n",
    "    np.array])\n",
    "dataset = CatsDogsDataset(\"train\",\"train_csv.csv\",transform=transform)\n",
    "train_set, validation_set = torch.utils.data.random_split(dataset,[20000,5000])\n",
    "train_loader = DataLoader(dataset=train_set, collate_fn=custom_collate_fn,shuffle=True, batch_size=batch_size)\n",
    "validation_loader = DataLoader(dataset=validation_set,collate_fn=custom_collate_fn, shuffle=False, batch_size=batch_size)"
   ]
  },
  {
   "cell_type": "code",
   "execution_count": 13,
   "id": "4dd3440a",
   "metadata": {
    "execution": {
     "iopub.execute_input": "2022-07-04T18:10:49.269862Z",
     "iopub.status.busy": "2022-07-04T18:10:49.268112Z",
     "iopub.status.idle": "2022-07-04T18:10:49.468388Z",
     "shell.execute_reply": "2022-07-04T18:10:49.467109Z"
    },
    "id": "qeV7yPeRmUCa",
    "outputId": "6d6ee787-2203-4bab-8b5d-fc8f94e6e533",
    "papermill": {
     "duration": 0.219416,
     "end_time": "2022-07-04T18:10:49.471494",
     "exception": false,
     "start_time": "2022-07-04T18:10:49.252078",
     "status": "completed"
    },
    "tags": []
   },
   "outputs": [
    {
     "name": "stdout",
     "output_type": "stream",
     "text": [
      "(32, 64, 64, 3)\n",
      "(32,)\n"
     ]
    }
   ],
   "source": [
    "(image_batch, label_batch) = next(iter(train_loader))\n",
    "print(image_batch.shape)\n",
    "print(label_batch.shape)"
   ]
  },
  {
   "cell_type": "code",
   "execution_count": 14,
   "id": "df226d35",
   "metadata": {
    "execution": {
     "iopub.execute_input": "2022-07-04T18:10:49.498085Z",
     "iopub.status.busy": "2022-07-04T18:10:49.497668Z",
     "iopub.status.idle": "2022-07-04T18:10:49.504903Z",
     "shell.execute_reply": "2022-07-04T18:10:49.503813Z"
    },
    "id": "cwRi3l2bGXrc",
    "outputId": "b54faa60-7559-42d6-be92-67722d6fa936",
    "papermill": {
     "duration": 0.023652,
     "end_time": "2022-07-04T18:10:49.507239",
     "exception": false,
     "start_time": "2022-07-04T18:10:49.483587",
     "status": "completed"
    },
    "tags": []
   },
   "outputs": [
    {
     "data": {
      "text/plain": [
       "32"
      ]
     },
     "execution_count": 14,
     "metadata": {},
     "output_type": "execute_result"
    }
   ],
   "source": [
    "image_batch.shape[0]"
   ]
  },
  {
   "cell_type": "code",
   "execution_count": 15,
   "id": "240fceaa",
   "metadata": {
    "execution": {
     "iopub.execute_input": "2022-07-04T18:10:49.534485Z",
     "iopub.status.busy": "2022-07-04T18:10:49.533888Z",
     "iopub.status.idle": "2022-07-04T18:10:49.546760Z",
     "shell.execute_reply": "2022-07-04T18:10:49.545192Z"
    },
    "id": "x0S5lwhqGXrd",
    "papermill": {
     "duration": 0.030855,
     "end_time": "2022-07-04T18:10:49.550126",
     "exception": false,
     "start_time": "2022-07-04T18:10:49.519271",
     "status": "completed"
    },
    "tags": []
   },
   "outputs": [],
   "source": [
    "class CNN(nn.Module):\n",
    "\n",
    "  @nn.compact\n",
    "  def __call__(self, x):\n",
    "    x = nn.Conv(features=32, kernel_size=(3, 3))(x)\n",
    "    x = nn.relu(x)\n",
    "    x = nn.avg_pool(x, window_shape=(2, 2), strides=(2, 2))\n",
    "    x = nn.Conv(features=64, kernel_size=(3, 3))(x)\n",
    "    x = nn.relu(x)\n",
    "    x = nn.avg_pool(x, window_shape=(2, 2), strides=(2, 2))\n",
    "    x = x.reshape((x.shape[0], -1))  \n",
    "    x = nn.Dense(features=256)(x)\n",
    "    x = nn.relu(x)\n",
    "    x = nn.Dense(features=2)(x)\n",
    "    x = nn.log_softmax(x)\n",
    "    return x"
   ]
  },
  {
   "cell_type": "code",
   "execution_count": 16,
   "id": "0821b42d",
   "metadata": {
    "execution": {
     "iopub.execute_input": "2022-07-04T18:10:49.577891Z",
     "iopub.status.busy": "2022-07-04T18:10:49.577488Z",
     "iopub.status.idle": "2022-07-04T18:10:49.583781Z",
     "shell.execute_reply": "2022-07-04T18:10:49.582452Z"
    },
    "id": "nHaUTn7-GXre",
    "papermill": {
     "duration": 0.023934,
     "end_time": "2022-07-04T18:10:49.586397",
     "exception": false,
     "start_time": "2022-07-04T18:10:49.562463",
     "status": "completed"
    },
    "tags": []
   },
   "outputs": [],
   "source": [
    "def cross_entropy_loss(*, logits, labels):\n",
    "  labels_onehot = jax.nn.one_hot(labels, num_classes=2)\n",
    "  return optax.softmax_cross_entropy(logits=logits, labels=labels_onehot).mean()"
   ]
  },
  {
   "cell_type": "code",
   "execution_count": 17,
   "id": "a8a464c9",
   "metadata": {
    "execution": {
     "iopub.execute_input": "2022-07-04T18:10:49.612313Z",
     "iopub.status.busy": "2022-07-04T18:10:49.611888Z",
     "iopub.status.idle": "2022-07-04T18:10:49.617942Z",
     "shell.execute_reply": "2022-07-04T18:10:49.616913Z"
    },
    "id": "6VA8Q277Gx5w",
    "papermill": {
     "duration": 0.02158,
     "end_time": "2022-07-04T18:10:49.620041",
     "exception": false,
     "start_time": "2022-07-04T18:10:49.598461",
     "status": "completed"
    },
    "tags": []
   },
   "outputs": [],
   "source": [
    "def compute_metrics(*, logits, labels):\n",
    "  loss = cross_entropy_loss(logits=logits, labels=labels)\n",
    "  accuracy = jnp.mean(jnp.argmax(logits, -1) == labels)\n",
    "  metrics = {\n",
    "      'loss': loss,\n",
    "      'accuracy': accuracy,\n",
    "  }\n",
    "  return metrics"
   ]
  },
  {
   "cell_type": "code",
   "execution_count": 18,
   "id": "e2fba9a3",
   "metadata": {
    "execution": {
     "iopub.execute_input": "2022-07-04T18:10:49.645622Z",
     "iopub.status.busy": "2022-07-04T18:10:49.645238Z",
     "iopub.status.idle": "2022-07-04T18:10:49.652509Z",
     "shell.execute_reply": "2022-07-04T18:10:49.651095Z"
    },
    "id": "dDgEudDnG0Kj",
    "papermill": {
     "duration": 0.023294,
     "end_time": "2022-07-04T18:10:49.655477",
     "exception": false,
     "start_time": "2022-07-04T18:10:49.632183",
     "status": "completed"
    },
    "tags": []
   },
   "outputs": [],
   "source": [
    "def create_train_state(rng, learning_rate, momentum):\n",
    "  \"\"\"Creates initial `TrainState`.\"\"\"\n",
    "  cnn = CNN()\n",
    "  params = cnn.init(rng, jnp.ones([1, size_image, size_image, 3]))['params']\n",
    "  tx = optax.sgd(learning_rate, momentum)\n",
    "  return train_state.TrainState.create(\n",
    "      apply_fn=cnn.apply, params=params, tx=tx)"
   ]
  },
  {
   "cell_type": "code",
   "execution_count": 19,
   "id": "94055424",
   "metadata": {
    "execution": {
     "iopub.execute_input": "2022-07-04T18:10:49.684439Z",
     "iopub.status.busy": "2022-07-04T18:10:49.684061Z",
     "iopub.status.idle": "2022-07-04T18:10:49.689994Z",
     "shell.execute_reply": "2022-07-04T18:10:49.688871Z"
    },
    "papermill": {
     "duration": 0.023073,
     "end_time": "2022-07-04T18:10:49.692353",
     "exception": false,
     "start_time": "2022-07-04T18:10:49.669280",
     "status": "completed"
    },
    "tags": []
   },
   "outputs": [],
   "source": [
    "def compute_loss(params,images,labels):\n",
    "    logits = CNN().apply({'params': params}, images)\n",
    "    loss = cross_entropy_loss(logits=logits, labels=labels)\n",
    "    return loss, logits"
   ]
  },
  {
   "cell_type": "code",
   "execution_count": 20,
   "id": "a03d421f",
   "metadata": {
    "execution": {
     "iopub.execute_input": "2022-07-04T18:10:49.722488Z",
     "iopub.status.busy": "2022-07-04T18:10:49.721796Z",
     "iopub.status.idle": "2022-07-04T18:10:49.727722Z",
     "shell.execute_reply": "2022-07-04T18:10:49.726882Z"
    },
    "id": "Wvxo6DCkG_n3",
    "papermill": {
     "duration": 0.023257,
     "end_time": "2022-07-04T18:10:49.730185",
     "exception": false,
     "start_time": "2022-07-04T18:10:49.706928",
     "status": "completed"
    },
    "tags": []
   },
   "outputs": [],
   "source": [
    "@jax.jit\n",
    "def train_step(state,images, labels):\n",
    "  \"\"\"Train for a single step.\"\"\"\n",
    "  (_, logits), grads = jax.value_and_grad(compute_loss, has_aux=True)(state.params,images,labels)\n",
    "  state = state.apply_gradients(grads=grads) \n",
    "  metrics = compute_metrics(logits=logits, labels=labels) \n",
    "  return state, metrics"
   ]
  },
  {
   "cell_type": "code",
   "execution_count": 21,
   "id": "9580b05c",
   "metadata": {
    "execution": {
     "iopub.execute_input": "2022-07-04T18:10:49.758472Z",
     "iopub.status.busy": "2022-07-04T18:10:49.757316Z",
     "iopub.status.idle": "2022-07-04T18:10:49.763139Z",
     "shell.execute_reply": "2022-07-04T18:10:49.762309Z"
    },
    "papermill": {
     "duration": 0.022339,
     "end_time": "2022-07-04T18:10:49.765557",
     "exception": false,
     "start_time": "2022-07-04T18:10:49.743218",
     "status": "completed"
    },
    "tags": []
   },
   "outputs": [],
   "source": [
    "@jax.jit\n",
    "def eval_step(state, images, labels):\n",
    "    logits = CNN().apply({'params': state.params}, images)\n",
    "    return compute_metrics(logits=logits, labels=labels)"
   ]
  },
  {
   "cell_type": "code",
   "execution_count": 22,
   "id": "ae5184d2",
   "metadata": {
    "execution": {
     "iopub.execute_input": "2022-07-04T18:10:49.797103Z",
     "iopub.status.busy": "2022-07-04T18:10:49.796408Z",
     "iopub.status.idle": "2022-07-04T18:10:49.803436Z",
     "shell.execute_reply": "2022-07-04T18:10:49.802567Z"
    },
    "id": "caaI0btuXZlv",
    "papermill": {
     "duration": 0.025846,
     "end_time": "2022-07-04T18:10:49.805998",
     "exception": false,
     "start_time": "2022-07-04T18:10:49.780152",
     "status": "completed"
    },
    "tags": []
   },
   "outputs": [],
   "source": [
    "def train_one_epoch(state, dataloader):\n",
    "    \"\"\"Train for 1 epoch on the training set.\"\"\"\n",
    "    batch_metrics = []\n",
    "    for cnt, (images, labels) in enumerate(dataloader):\n",
    "        images = images / 255.0\n",
    "        state, metrics = train_step(state, images, labels)\n",
    "        batch_metrics.append(metrics)\n",
    "\n",
    "    batch_metrics_np = jax.device_get(batch_metrics)  \n",
    "    epoch_metrics_np = {\n",
    "        k: np.mean([metrics[k] for metrics in batch_metrics_np])\n",
    "        for k in batch_metrics_np[0]\n",
    "    }\n",
    "\n",
    "    return state, epoch_metrics_np\n"
   ]
  },
  {
   "cell_type": "code",
   "execution_count": 23,
   "id": "f853a397",
   "metadata": {
    "execution": {
     "iopub.execute_input": "2022-07-04T18:10:49.835735Z",
     "iopub.status.busy": "2022-07-04T18:10:49.834969Z",
     "iopub.status.idle": "2022-07-04T18:10:49.840972Z",
     "shell.execute_reply": "2022-07-04T18:10:49.840222Z"
    },
    "id": "gjtmSshta810",
    "papermill": {
     "duration": 0.023969,
     "end_time": "2022-07-04T18:10:49.843542",
     "exception": false,
     "start_time": "2022-07-04T18:10:49.819573",
     "status": "completed"
    },
    "tags": []
   },
   "outputs": [],
   "source": [
    "def evaluate_model(state, test_imgs, test_lbls):\n",
    "    \"\"\"Evaluate on the validation set.\"\"\"\n",
    "    metrics = eval_step(state, test_imgs, test_lbls)\n",
    "    metrics = jax.device_get(metrics) \n",
    "    metrics = jax.tree_map(lambda x: x.item(), metrics)  \n",
    "    return metrics"
   ]
  },
  {
   "cell_type": "code",
   "execution_count": 24,
   "id": "89376372",
   "metadata": {
    "execution": {
     "iopub.execute_input": "2022-07-04T18:10:49.871720Z",
     "iopub.status.busy": "2022-07-04T18:10:49.871003Z",
     "iopub.status.idle": "2022-07-04T18:10:50.722909Z",
     "shell.execute_reply": "2022-07-04T18:10:50.721753Z"
    },
    "id": "-JweuJbpItSe",
    "papermill": {
     "duration": 0.86975,
     "end_time": "2022-07-04T18:10:50.725765",
     "exception": false,
     "start_time": "2022-07-04T18:10:49.856015",
     "status": "completed"
    },
    "tags": []
   },
   "outputs": [],
   "source": [
    "rng = jax.random.PRNGKey(0)\n",
    "rng, init_rng = jax.random.split(rng)"
   ]
  },
  {
   "cell_type": "code",
   "execution_count": 25,
   "id": "c2a41a95",
   "metadata": {
    "execution": {
     "iopub.execute_input": "2022-07-04T18:10:50.756826Z",
     "iopub.status.busy": "2022-07-04T18:10:50.756422Z",
     "iopub.status.idle": "2022-07-04T18:10:50.761966Z",
     "shell.execute_reply": "2022-07-04T18:10:50.760477Z"
    },
    "id": "P6xSKSVOItGy",
    "papermill": {
     "duration": 0.023499,
     "end_time": "2022-07-04T18:10:50.764954",
     "exception": false,
     "start_time": "2022-07-04T18:10:50.741455",
     "status": "completed"
    },
    "tags": []
   },
   "outputs": [],
   "source": [
    "learning_rate = 0.1\n",
    "momentum = 0.9\n",
    "seed = 0 "
   ]
  },
  {
   "cell_type": "code",
   "execution_count": 26,
   "id": "104bf11e",
   "metadata": {
    "execution": {
     "iopub.execute_input": "2022-07-04T18:10:50.795555Z",
     "iopub.status.busy": "2022-07-04T18:10:50.795151Z",
     "iopub.status.idle": "2022-07-04T18:10:53.227967Z",
     "shell.execute_reply": "2022-07-04T18:10:53.227069Z"
    },
    "id": "UgOX6YYrI9-T",
    "papermill": {
     "duration": 2.45151,
     "end_time": "2022-07-04T18:10:53.230456",
     "exception": false,
     "start_time": "2022-07-04T18:10:50.778946",
     "status": "completed"
    },
    "tags": []
   },
   "outputs": [],
   "source": [
    "state = create_train_state(init_rng, learning_rate, momentum)\n",
    "del init_rng  # Must not be used anymore."
   ]
  },
  {
   "cell_type": "code",
   "execution_count": 27,
   "id": "47c40138",
   "metadata": {
    "execution": {
     "iopub.execute_input": "2022-07-04T18:10:53.262217Z",
     "iopub.status.busy": "2022-07-04T18:10:53.261532Z",
     "iopub.status.idle": "2022-07-04T18:10:53.267358Z",
     "shell.execute_reply": "2022-07-04T18:10:53.265540Z"
    },
    "id": "4qksteoPJAGw",
    "papermill": {
     "duration": 0.025816,
     "end_time": "2022-07-04T18:10:53.270639",
     "exception": false,
     "start_time": "2022-07-04T18:10:53.244823",
     "status": "completed"
    },
    "tags": []
   },
   "outputs": [],
   "source": [
    "num_epochs = 30"
   ]
  },
  {
   "cell_type": "code",
   "execution_count": 28,
   "id": "2b2543eb",
   "metadata": {
    "execution": {
     "iopub.execute_input": "2022-07-04T18:10:53.302436Z",
     "iopub.status.busy": "2022-07-04T18:10:53.301459Z",
     "iopub.status.idle": "2022-07-04T18:10:53.472229Z",
     "shell.execute_reply": "2022-07-04T18:10:53.470955Z"
    },
    "id": "_DxIwbNKLlK4",
    "outputId": "07eeccc4-ba07-4f4c-d24d-7af5c393eed7",
    "papermill": {
     "duration": 0.190089,
     "end_time": "2022-07-04T18:10:53.475401",
     "exception": false,
     "start_time": "2022-07-04T18:10:53.285312",
     "status": "completed"
    },
    "tags": []
   },
   "outputs": [],
   "source": [
    "(test_images, test_labels) = next(iter(validation_loader))\n",
    "test_images = test_images / 255.0"
   ]
  },
  {
   "cell_type": "code",
   "execution_count": null,
   "id": "34b32e2e",
   "metadata": {
    "execution": {
     "iopub.execute_input": "2022-07-04T18:10:53.506761Z",
     "iopub.status.busy": "2022-07-04T18:10:53.505803Z",
     "iopub.status.idle": "2022-07-04T20:04:45.428074Z",
     "shell.execute_reply": "2022-07-04T20:04:45.424466Z"
    },
    "id": "B3vRWCr6aUNf",
    "outputId": "a1334cf9-bfe4-4db5-bbf8-d7ecd200b624",
    "papermill": {
     "duration": 6831.953211,
     "end_time": "2022-07-04T20:04:45.443357",
     "exception": false,
     "start_time": "2022-07-04T18:10:53.490146",
     "status": "completed"
    },
    "tags": [],
    "pycharm": {
     "is_executing": true
    }
   },
   "outputs": [],
   "source": [
    "state = create_train_state(jax.random.PRNGKey(seed), learning_rate, momentum)\n",
    "training_loss = []\n",
    "training_accuracy = []\n",
    "testing_loss = []\n",
    "testing_accuracy = []\n",
    "for epoch in range(1, num_epochs + 1):\n",
    "    train_state, train_metrics = train_one_epoch(state, train_loader)\n",
    "    training_loss.append(train_metrics['loss'])\n",
    "    training_accuracy.append(train_metrics['accuracy'])\n",
    "    print(f\"Train epoch: {epoch}, loss: {train_metrics['loss']}, accuracy: {train_metrics['accuracy'] * 100}\")\n",
    "\n",
    "    test_metrics = evaluate_model(train_state, test_images, test_labels)\n",
    "    testing_loss.append(test_metrics['loss'])\n",
    "    testing_accuracy.append(test_metrics['accuracy'])\n",
    "    print(f\"Test epoch: {epoch}, loss: {test_metrics['loss']}, accuracy: {test_metrics['accuracy'] * 100}\")"
   ]
  },
  {
   "cell_type": "code",
   "execution_count": null,
   "id": "3a8c2417",
   "metadata": {
    "execution": {
     "iopub.execute_input": "2022-07-04T20:04:45.477700Z",
     "iopub.status.busy": "2022-07-04T20:04:45.475899Z",
     "iopub.status.idle": "2022-07-04T20:04:45.805165Z",
     "shell.execute_reply": "2022-07-04T20:04:45.800981Z"
    },
    "papermill": {
     "duration": 0.350558,
     "end_time": "2022-07-04T20:04:45.807997",
     "exception": false,
     "start_time": "2022-07-04T20:04:45.457439",
     "status": "completed"
    },
    "tags": [],
    "pycharm": {
     "is_executing": true
    }
   },
   "outputs": [],
   "source": [
    "plt.plot(training_accuracy, label=\"Training\")\n",
    "plt.plot(testing_accuracy, label=\"Test\")\n",
    "plt.xlabel(\"Epoch\")\n",
    "plt.ylabel(\"Accuracy\")\n",
    "plt.legend()\n",
    "plt.show()"
   ]
  },
  {
   "cell_type": "code",
   "execution_count": null,
   "id": "336b93de",
   "metadata": {
    "execution": {
     "iopub.execute_input": "2022-07-04T20:04:45.841392Z",
     "iopub.status.busy": "2022-07-04T20:04:45.840326Z",
     "iopub.status.idle": "2022-07-04T20:04:46.062198Z",
     "shell.execute_reply": "2022-07-04T20:04:46.060980Z"
    },
    "papermill": {
     "duration": 0.241431,
     "end_time": "2022-07-04T20:04:46.065146",
     "exception": false,
     "start_time": "2022-07-04T20:04:45.823715",
     "status": "completed"
    },
    "tags": [],
    "pycharm": {
     "is_executing": true
    }
   },
   "outputs": [],
   "source": [
    "plt.plot(training_loss, label=\"Training\")\n",
    "plt.plot(testing_loss, label=\"Test\")\n",
    "plt.xlabel(\"Epoch\")\n",
    "plt.ylabel(\"Accuracy\")\n",
    "plt.legend()\n",
    "plt.show()"
   ]
  },
  {
   "cell_type": "markdown",
   "id": "031e53e4",
   "metadata": {
    "papermill": {
     "duration": 0.016389,
     "end_time": "2022-07-04T20:04:46.097886",
     "exception": false,
     "start_time": "2022-07-04T20:04:46.081497",
     "status": "completed"
    },
    "tags": [],
    "pycharm": {
     "name": "#%% md\n"
    }
   },
   "source": [
    "## Where to go from here\n",
    "Follow us on [LinkedIn](https://www.linkedin.com/company/mlnuggets), [Twitter](https://twitter.com/ml_nuggets), [GitHub](https://github.com/mlnuggets) and subscribe to our [blog](https://www.machinelearningnuggets.com/#/portal) so that you don't miss a new issue."
   ]
  }
 ],
 "metadata": {
  "kernelspec": {
   "display_name": "Python 3",
   "language": "python",
   "name": "python3"
  },
  "language_info": {
   "codemirror_mode": {
    "name": "ipython",
    "version": 3
   },
   "file_extension": ".py",
   "mimetype": "text/x-python",
   "name": "python",
   "nbconvert_exporter": "python",
   "pygments_lexer": "ipython3",
   "version": "3.7.12"
  },
  "papermill": {
   "default_parameters": {},
   "duration": 7014.77428,
   "end_time": "2022-07-04T20:04:49.369562",
   "environment_variables": {},
   "exception": null,
   "input_path": "__notebook__.ipynb",
   "output_path": "__notebook__.ipynb",
   "parameters": {},
   "start_time": "2022-07-04T18:07:54.595282",
   "version": "2.3.4"
  }
 },
 "nbformat": 4,
 "nbformat_minor": 5
}