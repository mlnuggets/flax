{
  "metadata": {
    "kernelspec": {
      "language": "python",
      "display_name": "Python 3",
      "name": "python3"
    },
    "language_info": {
      "name": "python",
      "version": "3.7.12",
      "mimetype": "text/x-python",
      "codemirror_mode": {
        "name": "ipython",
        "version": 3
      },
      "pygments_lexer": "ipython3",
      "nbconvert_exporter": "python",
      "file_extension": ".py"
    },
    "colab": {
      "provenance": []
    },
    "accelerator": "GPU",
    "gpuClass": "standard"
  },
  "nbformat_minor": 0,
  "nbformat": 4,
  "cells": [
    {
      "cell_type": "markdown",
      "source": [
        "# Transfer learning with JAX and Flax\n",
        "\n",
        "Click the image below to read the post online.\n",
        "\n",
        "<a target=\"_blank\" href=\"https://www.machinelearningnuggets.com/transfer-learning-with-jax-flax\n",
        "\"><img src=\"https://www.machinelearningnuggets.com/ezoimgfmt/digitalpress.fra1.cdn.digitaloceanspaces.com/mhujhsj/2022/07/logho-1.png?ezimgfmt=ng:webp/ngcb1\" alt=\"Open in ML Nuggets\"></a>"
      ],
      "metadata": {
        "id": "olQL4lytg0Pv"
      }
    },
    {
      "cell_type": "markdown",
      "source": [
        "# Imports"
      ],
      "metadata": {
        "id": "EfYdEOsbg0Pz"
      }
    },
    {
      "cell_type": "code",
      "source": [
        "# install jax-resnet library\n",
        "!pip install jax-resnet"
      ],
      "metadata": {
        "_kg_hide-output": true,
        "id": "71fPKM61g0Pz",
        "execution": {
          "iopub.status.busy": "2022-08-31T18:14:59.815336Z",
          "iopub.execute_input": "2022-08-31T18:14:59.815946Z",
          "iopub.status.idle": "2022-08-31T18:14:59.820851Z",
          "shell.execute_reply.started": "2022-08-31T18:14:59.815883Z",
          "shell.execute_reply": "2022-08-31T18:14:59.819928Z"
        },
        "trusted": true
      },
      "execution_count": null,
      "outputs": []
    },
    {
      "cell_type": "code",
      "source": [
        "pip install wget"
      ],
      "metadata": {
        "id": "0WnoEXJqI7A4"
      },
      "execution_count": null,
      "outputs": []
    },
    {
      "cell_type": "code",
      "source": [
        "pip install flax"
      ],
      "metadata": {
        "id": "pZT1s0izI7jv"
      },
      "execution_count": null,
      "outputs": []
    },
    {
      "cell_type": "code",
      "source": [
        "import numpy as np\n",
        "import pandas as pd\n",
        "from PIL import Image\n",
        "\n",
        "\n",
        "import jax\n",
        "import optax\n",
        "import flax\n",
        "import jax.numpy as jnp\n",
        "from jax_resnet import pretrained_resnet, slice_variables, Sequential\n",
        "from flax.training import train_state\n",
        "from flax import linen as nn\n",
        "from flax.core import FrozenDict,frozen_dict\n",
        "from functools import partial\n",
        "import os\n",
        "import torch\n",
        "from torch.utils.data import DataLoader\n",
        "from torchvision import transforms\n",
        "from torch.utils.data import Dataset\n",
        "import matplotlib.pyplot as plt\n",
        "%matplotlib inline\n",
        "# ignore harmless warnings\n",
        "import warnings\n",
        "warnings.filterwarnings(\"ignore\")"
      ],
      "metadata": {
        "_uuid": "8f2839f25d086af736a60e9eeb907d3b93b6e0e5",
        "_cell_guid": "b1076dfc-b9ad-4769-8c92-a6c4dae69d19",
        "id": "G-TnjxE8g0Pz",
        "execution": {
          "iopub.status.busy": "2022-08-31T18:14:59.827826Z",
          "iopub.execute_input": "2022-08-31T18:14:59.828542Z",
          "iopub.status.idle": "2022-08-31T18:15:01.400594Z",
          "shell.execute_reply.started": "2022-08-31T18:14:59.828508Z",
          "shell.execute_reply": "2022-08-31T18:15:01.399612Z"
        },
        "trusted": true
      },
      "execution_count": null,
      "outputs": []
    },
    {
      "cell_type": "code",
      "source": [
        "import wget \n",
        "wget.download(\"https://ml.machinelearningnuggets.com/train.zip\")"
      ],
      "metadata": {
        "id": "KgvEvcnjhQMd",
        "execution": {
          "iopub.status.busy": "2022-08-31T18:15:01.422803Z",
          "iopub.execute_input": "2022-08-31T18:15:01.423121Z",
          "iopub.status.idle": "2022-08-31T18:15:01.429674Z",
          "shell.execute_reply.started": "2022-08-31T18:15:01.423096Z",
          "shell.execute_reply": "2022-08-31T18:15:01.428666Z"
        },
        "trusted": true
      },
      "execution_count": null,
      "outputs": []
    },
    {
      "cell_type": "code",
      "source": [
        "import zipfile\n",
        "with zipfile.ZipFile('train.zip', 'r') as zip_ref:\n",
        "  zip_ref.extractall('.')"
      ],
      "metadata": {
        "id": "ctSXUWo4hQO2",
        "execution": {
          "iopub.status.busy": "2022-08-31T18:15:01.431009Z",
          "iopub.execute_input": "2022-08-31T18:15:01.431515Z",
          "iopub.status.idle": "2022-08-31T18:15:01.440912Z",
          "shell.execute_reply.started": "2022-08-31T18:15:01.431479Z",
          "shell.execute_reply": "2022-08-31T18:15:01.440064Z"
        },
        "trusted": true
      },
      "execution_count": null,
      "outputs": []
    },
    {
      "cell_type": "code",
      "source": [
        "class CatsDogsDataset(Dataset):\n",
        "    def __init__(self, root_dir, annotation_file, transform=None):\n",
        "        self.root_dir = root_dir\n",
        "        self.annotations = pd.read_csv(annotation_file)\n",
        "        self.transform = transform\n",
        "\n",
        "    def __len__(self):\n",
        "        return len(self.annotations)\n",
        "\n",
        "    def __getitem__(self, index):\n",
        "        img_id = self.annotations.iloc[index, 0]\n",
        "        img = Image.open(os.path.join(self.root_dir, img_id)).convert(\"RGB\")\n",
        "        y_label = torch.tensor(float(self.annotations.iloc[index, 1]))\n",
        "\n",
        "        if self.transform is not None:\n",
        "            img = self.transform(img)\n",
        "\n",
        "        return (img, y_label)"
      ],
      "metadata": {
        "id": "zK42D8Smg7NP",
        "execution": {
          "iopub.status.busy": "2022-08-31T18:15:01.443390Z",
          "iopub.execute_input": "2022-08-31T18:15:01.444584Z",
          "iopub.status.idle": "2022-08-31T18:15:01.452719Z",
          "shell.execute_reply.started": "2022-08-31T18:15:01.444545Z",
          "shell.execute_reply": "2022-08-31T18:15:01.451687Z"
        },
        "trusted": true
      },
      "execution_count": null,
      "outputs": []
    },
    {
      "cell_type": "code",
      "source": [
        "train_df = pd.DataFrame(columns=[\"img_path\",\"label\"])\n",
        "train_df[\"img_path\"] = os.listdir(\"train/\")\n",
        "for idx, i in enumerate(os.listdir(\"train/\")):\n",
        "    if \"cat\" in i:\n",
        "        train_df[\"label\"][idx] = 0\n",
        "    if \"dog\" in i:\n",
        "        train_df[\"label\"][idx] = 1\n",
        "\n",
        "train_df.to_csv (r'train_csv.csv', index = False, header=True)"
      ],
      "metadata": {
        "id": "3YBgIcCAhCms",
        "execution": {
          "iopub.status.busy": "2022-08-31T18:15:01.454302Z",
          "iopub.execute_input": "2022-08-31T18:15:01.454755Z",
          "iopub.status.idle": "2022-08-31T18:15:04.427196Z",
          "shell.execute_reply.started": "2022-08-31T18:15:01.454716Z",
          "shell.execute_reply": "2022-08-31T18:15:04.426259Z"
        },
        "trusted": true
      },
      "execution_count": null,
      "outputs": []
    },
    {
      "cell_type": "code",
      "source": [
        "df = pd.read_csv(\"train_csv.csv\")\n",
        "df.head()"
      ],
      "metadata": {
        "id": "lVlK2kMxfqvr"
      },
      "execution_count": null,
      "outputs": []
    },
    {
      "cell_type": "code",
      "source": [
        "def custom_collate_fn(batch):\n",
        "    transposed_data = list(zip(*batch))\n",
        "    labels = np.array(transposed_data[1])\n",
        "    imgs = np.stack(transposed_data[0])\n",
        "    return imgs, labels"
      ],
      "metadata": {
        "id": "CFcKUifxhCvS",
        "execution": {
          "iopub.status.busy": "2022-08-31T18:15:04.428622Z",
          "iopub.execute_input": "2022-08-31T18:15:04.429110Z",
          "iopub.status.idle": "2022-08-31T18:15:04.434890Z",
          "shell.execute_reply.started": "2022-08-31T18:15:04.429075Z",
          "shell.execute_reply": "2022-08-31T18:15:04.433696Z"
        },
        "trusted": true
      },
      "execution_count": null,
      "outputs": []
    },
    {
      "cell_type": "code",
      "source": [
        "\n",
        "config = {\n",
        "    'NUM_LABELS': 2,\n",
        "    'BATCH_SIZE': 32,\n",
        "    'N_EPOCHS': 5,\n",
        "    'LR': 0.001,\n",
        "    'IMAGE_SIZE': 224,\n",
        "    'WEIGHT_DECAY': 1e-5,\n",
        "    'FREEZE_BACKBONE': True,\n",
        "}"
      ],
      "metadata": {
        "execution": {
          "iopub.status.busy": "2022-08-31T18:15:04.436607Z",
          "iopub.execute_input": "2022-08-31T18:15:04.437249Z",
          "iopub.status.idle": "2022-08-31T18:15:04.449690Z",
          "shell.execute_reply.started": "2022-08-31T18:15:04.437215Z",
          "shell.execute_reply": "2022-08-31T18:15:04.448477Z"
        },
        "trusted": true,
        "id": "Swzg1wTLIoPp"
      },
      "execution_count": null,
      "outputs": []
    },
    {
      "cell_type": "code",
      "source": [
        "transform = transforms.Compose([\n",
        "    transforms.Resize((config[\"IMAGE_SIZE\"],config[\"IMAGE_SIZE\"])),\n",
        "    np.array])\n",
        "dataset = CatsDogsDataset(\"train\",\"train_csv.csv\",transform=transform)\n",
        "train_set, validation_set = torch.utils.data.random_split(dataset,[20000,5000])\n",
        "train_loader = DataLoader(dataset=train_set, collate_fn=custom_collate_fn,shuffle=True, batch_size=config[\"BATCH_SIZE\"])\n",
        "validation_loader = DataLoader(dataset=validation_set,collate_fn=custom_collate_fn, shuffle=False, batch_size=config[\"BATCH_SIZE\"])"
      ],
      "metadata": {
        "id": "ELt53v9WhKiA",
        "execution": {
          "iopub.status.busy": "2022-08-31T18:15:04.452965Z",
          "iopub.execute_input": "2022-08-31T18:15:04.453232Z",
          "iopub.status.idle": "2022-08-31T18:15:04.478081Z",
          "shell.execute_reply.started": "2022-08-31T18:15:04.453208Z",
          "shell.execute_reply": "2022-08-31T18:15:04.477227Z"
        },
        "trusted": true
      },
      "execution_count": null,
      "outputs": []
    },
    {
      "cell_type": "code",
      "source": [
        "(image_batch, label_batch) = next(iter(train_loader))\n",
        "print(image_batch.shape)\n",
        "print(label_batch.shape)"
      ],
      "metadata": {
        "id": "c2fqsjrchj8S",
        "execution": {
          "iopub.status.busy": "2022-08-31T18:15:04.480381Z",
          "iopub.execute_input": "2022-08-31T18:15:04.481109Z",
          "iopub.status.idle": "2022-08-31T18:15:04.633369Z",
          "shell.execute_reply.started": "2022-08-31T18:15:04.481075Z",
          "shell.execute_reply": "2022-08-31T18:15:04.632416Z"
        },
        "trusted": true
      },
      "execution_count": null,
      "outputs": []
    },
    {
      "cell_type": "markdown",
      "source": [
        "#  Model"
      ],
      "metadata": {
        "id": "mrCNNcveg0P1"
      }
    },
    {
      "cell_type": "code",
      "source": [
        "\"\"\"\n",
        "reference - https://www.kaggle.com/code/alexlwh/happywhale-flax-jax-tpu-gpu-resnet-baseline\n",
        "\"\"\"\n",
        "class Head(nn.Module):\n",
        "    '''head model'''\n",
        "    batch_norm_cls: partial = partial(nn.BatchNorm, momentum=0.9)\n",
        "    @nn.compact\n",
        "    def __call__(self, inputs, train: bool):\n",
        "        output_n = inputs.shape[-1]\n",
        "        x = self.batch_norm_cls(use_running_average=not train)(inputs)\n",
        "        x = nn.Dropout(rate=0.25)(x, deterministic=not train)\n",
        "        x = nn.Dense(features=output_n)(x)\n",
        "        x = nn.relu(x)\n",
        "        x = self.batch_norm_cls(use_running_average=not train)(x)\n",
        "        x = nn.Dropout(rate=0.5)(x, deterministic=not train)\n",
        "        x = nn.Dense(features=config[\"NUM_LABELS\"])(x)\n",
        "        return x\n",
        "\n",
        "class Model(nn.Module):\n",
        "    '''Combines backbone and head model'''\n",
        "    backbone: Sequential\n",
        "    head: Head\n",
        "        \n",
        "    def __call__(self, inputs, train: bool):\n",
        "        x = self.backbone(inputs)\n",
        "        # average pool layer\n",
        "        x = jnp.mean(x, axis=(1, 2))\n",
        "        x = self.head(x, train)\n",
        "        return x\n",
        "\n",
        "    \n",
        "def get_backbone_and_params(model_arch: str):\n",
        "    '''\n",
        "    Get backbone and params\n",
        "    1. Loads pretrained model (resnet50)\n",
        "    2. Get model and param structure except last 2 layers\n",
        "    3. Extract the corresponding subset of the variables dict\n",
        "    INPUT : model_arch\n",
        "    RETURNS backbone , backbone_params\n",
        "    '''\n",
        "    if model_arch == 'resnet50':\n",
        "        resnet_tmpl, params = pretrained_resnet(50)\n",
        "        model = resnet_tmpl()\n",
        "    else:\n",
        "        raise NotImplementedError\n",
        "        \n",
        "    # get model & param structure for backbone\n",
        "    start, end = 0, len(model.layers) - 2\n",
        "    backbone = Sequential(model.layers[start:end])\n",
        "    backbone_params = slice_variables(params, start, end)\n",
        "    return backbone, backbone_params\n",
        "\n",
        "\n",
        "def get_model_and_variables(model_arch: str, head_init_key: int):\n",
        "    '''\n",
        "    Get model and variables \n",
        "    1. Initialise inputs(shape=(1,image_size,image_size,3))\n",
        "    2. Get backbone and params\n",
        "    3. Apply backbone model and get outputs\n",
        "    4. Initialise head\n",
        "    5. Create final model using backbone and head\n",
        "    6. Combine params from backbone and head\n",
        "    \n",
        "    INPUT model_arch, head_init_key\n",
        "    RETURNS  model, variables \n",
        "    '''\n",
        "    \n",
        "    #backbone\n",
        "    inputs = jnp.ones((1, config['IMAGE_SIZE'],config['IMAGE_SIZE'], 3), jnp.float32)\n",
        "    backbone, backbone_params = get_backbone_and_params(model_arch)\n",
        "    key = jax.random.PRNGKey(head_init_key)\n",
        "    backbone_output = backbone.apply(backbone_params, inputs, mutable=False)\n",
        "    \n",
        "    #head\n",
        "    head_inputs = jnp.ones((1, backbone_output.shape[-1]), jnp.float32)\n",
        "    head = Head()\n",
        "    head_params = head.init(key, head_inputs, train=False)\n",
        "    \n",
        "    #final model\n",
        "    model = Model(backbone, head)\n",
        "    variables = FrozenDict({\n",
        "        'params': {\n",
        "            'backbone': backbone_params['params'],\n",
        "            'head': head_params['params']\n",
        "        },\n",
        "        'batch_stats': {\n",
        "            'backbone': backbone_params['batch_stats'],\n",
        "            'head': head_params['batch_stats']\n",
        "        }\n",
        "    })\n",
        "    return model, variables\n"
      ],
      "metadata": {
        "id": "1f0ibNPfg0P1",
        "execution": {
          "iopub.status.busy": "2022-08-31T18:15:04.639159Z",
          "iopub.execute_input": "2022-08-31T18:15:04.640087Z",
          "iopub.status.idle": "2022-08-31T18:15:04.657458Z",
          "shell.execute_reply.started": "2022-08-31T18:15:04.640047Z",
          "shell.execute_reply": "2022-08-31T18:15:04.656311Z"
        },
        "trusted": true
      },
      "execution_count": null,
      "outputs": []
    },
    {
      "cell_type": "code",
      "source": [
        "model, variables = get_model_and_variables('resnet50', 0)\n",
        "inputs = jnp.ones((1,config['IMAGE_SIZE'], config['IMAGE_SIZE'],3), jnp.float32)\n",
        "key = jax.random.PRNGKey(0)\n",
        "model_apply = model.apply(variables, inputs, train=False, mutable=False)"
      ],
      "metadata": {
        "id": "dAdeC6e5g0P4",
        "execution": {
          "iopub.status.busy": "2022-08-31T18:15:04.659103Z",
          "iopub.execute_input": "2022-08-31T18:15:04.660195Z",
          "iopub.status.idle": "2022-08-31T18:15:20.877417Z",
          "shell.execute_reply.started": "2022-08-31T18:15:04.660155Z",
          "shell.execute_reply": "2022-08-31T18:15:20.876375Z"
        },
        "trusted": true
      },
      "execution_count": null,
      "outputs": []
    },
    {
      "cell_type": "code",
      "source": [
        "model_apply"
      ],
      "metadata": {
        "id": "2p2wMCf8g0P4",
        "execution": {
          "iopub.status.busy": "2022-08-31T18:15:20.878918Z",
          "iopub.execute_input": "2022-08-31T18:15:20.880022Z",
          "iopub.status.idle": "2022-08-31T18:15:20.890586Z",
          "shell.execute_reply.started": "2022-08-31T18:15:20.879984Z",
          "shell.execute_reply": "2022-08-31T18:15:20.889255Z"
        },
        "trusted": true
      },
      "execution_count": null,
      "outputs": []
    },
    {
      "cell_type": "code",
      "source": [
        "\"\"\"\n",
        "reference - https://github.com/deepmind/optax/issues/159#issuecomment-896459491\n",
        "\"\"\"\n",
        "def zero_grads():\n",
        "    '''\n",
        "    Zero out the previous gradient computation\n",
        "    '''\n",
        "    def init_fn(_): \n",
        "        return ()\n",
        "    def update_fn(updates, state, params=None):\n",
        "        return jax.tree_map(jnp.zeros_like, updates), ()\n",
        "    return optax.GradientTransformation(init_fn, update_fn)"
      ],
      "metadata": {
        "id": "xrBhsz3pg0P5",
        "execution": {
          "iopub.status.busy": "2022-08-31T18:15:20.936098Z",
          "iopub.execute_input": "2022-08-31T18:15:20.936424Z",
          "iopub.status.idle": "2022-08-31T18:15:20.945494Z",
          "shell.execute_reply.started": "2022-08-31T18:15:20.936382Z",
          "shell.execute_reply": "2022-08-31T18:15:20.944414Z"
        },
        "trusted": true
      },
      "execution_count": null,
      "outputs": []
    },
    {
      "cell_type": "code",
      "source": [
        "\"\"\"\n",
        "reference - https://colab.research.google.com/drive/1g_pt2Rc3bv6H6qchvGHD-BpgF-Pt4vrC#scrollTo=TqDvTL_tIQCH&line=2&uniqifier=1\n",
        "\"\"\"\n",
        "def create_mask(params, label_fn):\n",
        "    def _map(params, mask, label_fn):\n",
        "        for k in params:\n",
        "            if label_fn(k):\n",
        "                mask[k] = 'zero'\n",
        "            else:\n",
        "                if isinstance(params[k], FrozenDict):\n",
        "                    mask[k] = {}\n",
        "                    _map(params[k], mask[k], label_fn)\n",
        "                else:\n",
        "                    mask[k] = 'adam'\n",
        "    mask = {}\n",
        "    _map(params, mask, label_fn)\n",
        "    return frozen_dict.freeze(mask)"
      ],
      "metadata": {
        "id": "tcZsS65Jg0P5",
        "execution": {
          "iopub.status.busy": "2022-08-31T18:15:20.947740Z",
          "iopub.execute_input": "2022-08-31T18:15:20.948360Z",
          "iopub.status.idle": "2022-08-31T18:15:20.956456Z",
          "shell.execute_reply.started": "2022-08-31T18:15:20.948327Z",
          "shell.execute_reply": "2022-08-31T18:15:20.955167Z"
        },
        "trusted": true
      },
      "execution_count": null,
      "outputs": []
    },
    {
      "cell_type": "code",
      "source": [
        "adamw = optax.adamw(\n",
        "    learning_rate=config['LR'],\n",
        "    b1=0.9, b2=0.999, \n",
        "    eps=1e-6, weight_decay=1e-2\n",
        ")\n",
        "optimizer = optax.multi_transform(\n",
        "    {'adam': adamw, 'zero': zero_grads()},\n",
        "    create_mask(variables['params'], lambda s: s.startswith('backbone'))\n",
        ")"
      ],
      "metadata": {
        "execution": {
          "iopub.status.busy": "2022-08-31T18:15:20.958199Z",
          "iopub.execute_input": "2022-08-31T18:15:20.958580Z",
          "iopub.status.idle": "2022-08-31T18:15:20.969050Z",
          "shell.execute_reply.started": "2022-08-31T18:15:20.958546Z",
          "shell.execute_reply": "2022-08-31T18:15:20.968160Z"
        },
        "trusted": true,
        "id": "dIZGZ_B2IoPs"
      },
      "execution_count": null,
      "outputs": []
    },
    {
      "cell_type": "code",
      "source": [
        "def cross_entropy_loss(*, logits, labels):\n",
        "  labels_onehot = jax.nn.one_hot(labels, num_classes=config[\"NUM_LABELS\"])\n",
        "  return optax.softmax_cross_entropy(logits=logits, labels=labels_onehot).mean()"
      ],
      "metadata": {
        "id": "C445ZHZXg0P5",
        "execution": {
          "iopub.status.busy": "2022-08-31T18:15:20.970403Z",
          "iopub.execute_input": "2022-08-31T18:15:20.970988Z",
          "iopub.status.idle": "2022-08-31T18:15:20.979404Z",
          "shell.execute_reply.started": "2022-08-31T18:15:20.970914Z",
          "shell.execute_reply": "2022-08-31T18:15:20.978497Z"
        },
        "trusted": true
      },
      "execution_count": null,
      "outputs": []
    },
    {
      "cell_type": "code",
      "source": [
        "def compute_loss(params, batch_stats, images, labels):\n",
        "    logits,batch_stats = model.apply({'params': params,'batch_stats': batch_stats},images, train=True,rngs={'dropout': jax.random.PRNGKey(0)}, mutable=['batch_stats'])\n",
        "    loss = cross_entropy_loss(logits=logits, labels=labels)\n",
        "    return loss, (logits, batch_stats)"
      ],
      "metadata": {
        "id": "4d4f_W19_yXv"
      },
      "execution_count": null,
      "outputs": []
    },
    {
      "cell_type": "code",
      "source": [
        "def compute_metrics(*, logits, labels):\n",
        "  loss = cross_entropy_loss(logits=logits, labels=labels)\n",
        "  accuracy = jnp.mean(jnp.argmax(logits, -1) == labels)\n",
        "  metrics = {\n",
        "      'loss': loss,\n",
        "      'accuracy': accuracy,\n",
        "  }\n",
        "  return metrics"
      ],
      "metadata": {
        "execution": {
          "iopub.status.busy": "2022-08-31T18:15:20.981014Z",
          "iopub.execute_input": "2022-08-31T18:15:20.981498Z",
          "iopub.status.idle": "2022-08-31T18:15:20.989971Z",
          "shell.execute_reply.started": "2022-08-31T18:15:20.981464Z",
          "shell.execute_reply": "2022-08-31T18:15:20.988964Z"
        },
        "trusted": true,
        "id": "NFApD76bIoPs"
      },
      "execution_count": null,
      "outputs": []
    },
    {
      "cell_type": "code",
      "source": [
        "class TrainState(train_state.TrainState):\n",
        "    batch_stats: FrozenDict\n"
      ],
      "metadata": {
        "id": "UGpE0YcT_tvZ"
      },
      "execution_count": null,
      "outputs": []
    },
    {
      "cell_type": "code",
      "source": [
        "state = TrainState.create(\n",
        "    apply_fn = model.apply,\n",
        "    params = variables['params'],\n",
        "    tx = optimizer,\n",
        "    batch_stats = variables['batch_stats'],\n",
        ")\n"
      ],
      "metadata": {
        "execution": {
          "iopub.status.busy": "2022-08-31T18:15:21.002181Z",
          "iopub.execute_input": "2022-08-31T18:15:21.004149Z",
          "iopub.status.idle": "2022-08-31T18:15:21.114148Z",
          "shell.execute_reply.started": "2022-08-31T18:15:21.004113Z",
          "shell.execute_reply": "2022-08-31T18:15:21.113140Z"
        },
        "trusted": true,
        "id": "GB4AR0G-IoPs"
      },
      "execution_count": null,
      "outputs": []
    },
    {
      "cell_type": "code",
      "source": [
        "@jax.jit\n",
        "def train_step(state: TrainState,images, labels):\n",
        "  \"\"\"Train for a single step.\"\"\"\n",
        "  (batch_loss, (logits, batch_stats)), grads= jax.value_and_grad(compute_loss, has_aux=True)(state.params,state.batch_stats, images,labels)\n",
        "  state = state.apply_gradients(grads=grads) \n",
        "  metrics = compute_metrics(logits=logits, labels=labels) \n",
        "  return state, metrics"
      ],
      "metadata": {
        "execution": {
          "iopub.status.busy": "2022-08-31T18:15:21.115595Z",
          "iopub.execute_input": "2022-08-31T18:15:21.116690Z",
          "iopub.status.idle": "2022-08-31T18:15:21.123475Z",
          "shell.execute_reply.started": "2022-08-31T18:15:21.116651Z",
          "shell.execute_reply": "2022-08-31T18:15:21.122482Z"
        },
        "trusted": true,
        "id": "TBd-ektcIoPs"
      },
      "execution_count": null,
      "outputs": []
    },
    {
      "cell_type": "code",
      "source": [
        "def train_one_epoch(state, dataloader):\n",
        "    \"\"\"Train for 1 epoch on the training set.\"\"\"\n",
        "    batch_metrics = []\n",
        "    for cnt, (images, labels) in enumerate(dataloader):\n",
        "        images = images / 255.0\n",
        "        state, metrics = train_step(state, images, labels)\n",
        "        batch_metrics.append(metrics)\n",
        "\n",
        "    batch_metrics_np = jax.device_get(batch_metrics)  \n",
        "    epoch_metrics_np = {\n",
        "        k: np.mean([metrics[k] for metrics in batch_metrics_np])\n",
        "        for k in batch_metrics_np[0]\n",
        "    }\n",
        "    return state, epoch_metrics_np"
      ],
      "metadata": {
        "id": "2XBKi-vSANgP"
      },
      "execution_count": null,
      "outputs": []
    },
    {
      "cell_type": "code",
      "source": [
        "@jax.jit\n",
        "def eval_step(batch_stats, params, images, labels):\n",
        "    logits = model.apply({'params': params,'batch_stats': batch_stats}, images, train=False,rngs={'dropout': jax.random.PRNGKey(0)})\n",
        "    return compute_metrics(logits=logits, labels=labels)"
      ],
      "metadata": {
        "execution": {
          "iopub.status.busy": "2022-08-31T18:15:21.124810Z",
          "iopub.execute_input": "2022-08-31T18:15:21.125214Z",
          "iopub.status.idle": "2022-08-31T18:15:21.138392Z",
          "shell.execute_reply.started": "2022-08-31T18:15:21.125161Z",
          "shell.execute_reply": "2022-08-31T18:15:21.137393Z"
        },
        "trusted": true,
        "id": "PsjFA_Y6IoPs"
      },
      "execution_count": null,
      "outputs": []
    },
    {
      "cell_type": "code",
      "source": [
        "def evaluate_model(state, test_imgs, test_lbls):\n",
        "    \"\"\"Evaluate on the validation set.\"\"\"\n",
        "    metrics = eval_step(state.batch_stats,state.params, test_imgs, test_lbls)\n",
        "    metrics = jax.device_get(metrics) \n",
        "    metrics = jax.tree_map(lambda x: x.item(), metrics)  \n",
        "    return metrics"
      ],
      "metadata": {
        "id": "lvju-SbpAJ1h"
      },
      "execution_count": null,
      "outputs": []
    },
    {
      "cell_type": "code",
      "source": [
        "(test_images, test_labels) = next(iter(validation_loader))\n",
        "test_images = test_images / 255.0"
      ],
      "metadata": {
        "execution": {
          "iopub.status.busy": "2022-08-31T18:15:21.162540Z",
          "iopub.execute_input": "2022-08-31T18:15:21.162954Z",
          "iopub.status.idle": "2022-08-31T18:15:21.322399Z",
          "shell.execute_reply.started": "2022-08-31T18:15:21.162912Z",
          "shell.execute_reply": "2022-08-31T18:15:21.321378Z"
        },
        "trusted": true,
        "id": "O6tfk-TSIoPt"
      },
      "execution_count": null,
      "outputs": []
    },
    {
      "cell_type": "code",
      "source": [
        "from torch.utils.tensorboard import SummaryWriter\n",
        "import torchvision.transforms.functional as F\n",
        "logdir = \"flax_logs\"\n",
        "writer = SummaryWriter(logdir)"
      ],
      "metadata": {
        "id": "CH_pvNkJjgOK",
        "execution": {
          "iopub.status.busy": "2022-08-31T18:15:21.324067Z",
          "iopub.execute_input": "2022-08-31T18:15:21.324426Z",
          "iopub.status.idle": "2022-08-31T18:15:22.898553Z",
          "shell.execute_reply.started": "2022-08-31T18:15:21.324389Z",
          "shell.execute_reply": "2022-08-31T18:15:22.897539Z"
        },
        "trusted": true
      },
      "execution_count": null,
      "outputs": []
    },
    {
      "cell_type": "code",
      "source": [
        "training_loss = []\n",
        "training_accuracy = []\n",
        "testing_loss = []\n",
        "testing_accuracy = []"
      ],
      "metadata": {
        "id": "J5zId7ddg0P6",
        "execution": {
          "iopub.status.busy": "2022-08-31T18:15:22.900995Z",
          "iopub.execute_input": "2022-08-31T18:15:22.901676Z",
          "iopub.status.idle": "2022-08-31T18:15:22.906576Z",
          "shell.execute_reply.started": "2022-08-31T18:15:22.901637Z",
          "shell.execute_reply": "2022-08-31T18:15:22.905478Z"
        },
        "trusted": true
      },
      "execution_count": null,
      "outputs": []
    },
    {
      "cell_type": "code",
      "source": [
        "def train_model(epochs):\n",
        "    for epoch in range(1, epochs + 1):\n",
        "        train_state, train_metrics = train_one_epoch(state, train_loader)\n",
        "        training_loss.append(train_metrics['loss'])\n",
        "        training_accuracy.append(train_metrics['accuracy'])\n",
        "\n",
        "        test_metrics = evaluate_model(train_state, test_images, test_labels)\n",
        "        testing_loss.append(test_metrics['loss'])\n",
        "        testing_accuracy.append(test_metrics['accuracy'])\n",
        "    \n",
        "        writer.add_scalar('Loss/train', train_metrics['loss'], epoch)\n",
        "        writer.add_scalar('Loss/test', test_metrics['loss'], epoch)\n",
        "    \n",
        "        writer.add_scalar('Accuracy/train', train_metrics['accuracy'], epoch)\n",
        "        writer.add_scalar('Accuracy/test', test_metrics['accuracy'], epoch)\n",
        "    \n",
        "        print(f\"Epoch: {epoch}, training loss: {train_metrics['loss']}, training accuracy: {train_metrics['accuracy'] * 100}, validation loss: {test_metrics['loss']}, validation accuracy: {test_metrics['accuracy'] * 100}\")\n",
        "    return train_state"
      ],
      "metadata": {
        "execution": {
          "iopub.status.busy": "2022-08-31T18:17:34.845642Z",
          "iopub.execute_input": "2022-08-31T18:17:34.846037Z",
          "iopub.status.idle": "2022-08-31T18:17:34.854466Z",
          "shell.execute_reply.started": "2022-08-31T18:17:34.846005Z",
          "shell.execute_reply": "2022-08-31T18:17:34.853479Z"
        },
        "trusted": true,
        "id": "_KWEbat7IoPt"
      },
      "execution_count": null,
      "outputs": []
    },
    {
      "cell_type": "code",
      "source": [
        "trained_model_state = train_model(config[\"N_EPOCHS\"])"
      ],
      "metadata": {
        "execution": {
          "iopub.status.busy": "2022-08-31T18:17:39.604085Z",
          "iopub.execute_input": "2022-08-31T18:17:39.605189Z",
          "iopub.status.idle": "2022-08-31T18:19:38.903019Z",
          "shell.execute_reply.started": "2022-08-31T18:17:39.605146Z",
          "shell.execute_reply": "2022-08-31T18:19:38.901959Z"
        },
        "trusted": true,
        "id": "-EAD9B6ZIoPt"
      },
      "execution_count": null,
      "outputs": []
    },
    {
      "cell_type": "code",
      "source": [
        "pip install tensorstore"
      ],
      "metadata": {
        "id": "GA1a9pn_VcxW"
      },
      "execution_count": null,
      "outputs": []
    },
    {
      "cell_type": "code",
      "source": [
        "from flax.training import checkpoints\n",
        "ckpt_dir = 'model_checkpoint/'\n",
        "checkpoints.save_checkpoint(ckpt_dir=ckpt_dir,  \n",
        "                            target=trained_model_state, \n",
        "                            step=100, \n",
        "                            prefix='resnet_model',  \n",
        "                            overwrite=True  \n",
        "                           )"
      ],
      "metadata": {
        "execution": {
          "iopub.status.busy": "2022-08-31T18:15:22.924061Z",
          "iopub.status.idle": "2022-08-31T18:15:22.925126Z",
          "shell.execute_reply.started": "2022-08-31T18:15:22.924764Z",
          "shell.execute_reply": "2022-08-31T18:15:22.924791Z"
        },
        "trusted": true,
        "id": "3_fXLqjtIoPt"
      },
      "execution_count": null,
      "outputs": []
    },
    {
      "cell_type": "code",
      "source": [
        "loaded_model = checkpoints.restore_checkpoint(\n",
        "                                             ckpt_dir=ckpt_dir,   \n",
        "                                             target=state,  \n",
        "                                             prefix='resnet_model'  \n",
        "                                            )\n",
        "                                            \n",
        "loaded_model"
      ],
      "metadata": {
        "execution": {
          "iopub.status.busy": "2022-08-31T18:15:22.927741Z",
          "iopub.status.idle": "2022-08-31T18:15:22.928107Z",
          "shell.execute_reply.started": "2022-08-31T18:15:22.927940Z",
          "shell.execute_reply": "2022-08-31T18:15:22.927956Z"
        },
        "trusted": true,
        "id": "zrYCFdJiIoPt"
      },
      "execution_count": null,
      "outputs": []
    },
    {
      "cell_type": "code",
      "source": [
        "evaluate_model(loaded_model,test_images, test_labels)"
      ],
      "metadata": {
        "execution": {
          "iopub.status.busy": "2022-08-31T18:15:22.931695Z",
          "iopub.status.idle": "2022-08-31T18:15:22.932523Z",
          "shell.execute_reply.started": "2022-08-31T18:15:22.932239Z",
          "shell.execute_reply": "2022-08-31T18:15:22.932263Z"
        },
        "trusted": true,
        "id": "MoDgXvvGIoPt"
      },
      "execution_count": null,
      "outputs": []
    },
    {
      "cell_type": "code",
      "source": [
        "%load_ext tensorboard"
      ],
      "metadata": {
        "execution": {
          "iopub.status.busy": "2022-08-31T18:15:22.934110Z",
          "iopub.status.idle": "2022-08-31T18:15:22.934944Z",
          "shell.execute_reply.started": "2022-08-31T18:15:22.934652Z",
          "shell.execute_reply": "2022-08-31T18:15:22.934676Z"
        },
        "trusted": true,
        "id": "W1_cHDa6IoPu"
      },
      "execution_count": null,
      "outputs": []
    },
    {
      "cell_type": "code",
      "source": [
        "%tensorboard --logdir={logdir}"
      ],
      "metadata": {
        "execution": {
          "iopub.status.busy": "2022-08-31T18:15:22.936379Z",
          "iopub.status.idle": "2022-08-31T18:15:22.937295Z",
          "shell.execute_reply.started": "2022-08-31T18:15:22.936998Z",
          "shell.execute_reply": "2022-08-31T18:15:22.937025Z"
        },
        "trusted": true,
        "id": "jAFLz8PVIoPu"
      },
      "execution_count": null,
      "outputs": []
    },
    {
      "cell_type": "code",
      "source": [
        "plt.plot(training_accuracy, label=\"Training\")\n",
        "plt.plot(testing_accuracy, label=\"Test\")\n",
        "plt.xlabel(\"Epoch\")\n",
        "plt.ylabel(\"Accuracy\")\n",
        "plt.legend()\n",
        "plt.show()"
      ],
      "metadata": {
        "execution": {
          "iopub.status.busy": "2022-08-31T18:15:22.938735Z",
          "iopub.status.idle": "2022-08-31T18:15:22.939532Z",
          "shell.execute_reply.started": "2022-08-31T18:15:22.939281Z",
          "shell.execute_reply": "2022-08-31T18:15:22.939305Z"
        },
        "trusted": true,
        "id": "wreXMeMJIoPu"
      },
      "execution_count": null,
      "outputs": []
    },
    {
      "cell_type": "code",
      "source": [
        "plt.plot(training_loss, label=\"Training\")\n",
        "plt.plot(testing_loss, label=\"Test\")\n",
        "plt.xlabel(\"Epoch\")\n",
        "plt.ylabel(\"Accuracy\")\n",
        "plt.legend()\n",
        "plt.show()"
      ],
      "metadata": {
        "execution": {
          "iopub.status.busy": "2022-08-31T18:15:22.940859Z",
          "iopub.status.idle": "2022-08-31T18:15:22.941641Z",
          "shell.execute_reply.started": "2022-08-31T18:15:22.941388Z",
          "shell.execute_reply": "2022-08-31T18:15:22.941411Z"
        },
        "trusted": true,
        "id": "_so9wnuHIoPu"
      },
      "execution_count": null,
      "outputs": []
    },
    {
      "cell_type": "markdown",
      "source": [
        "## Where to go from here\n",
        "Follow us on [LinkedIn](https://www.linkedin.com/company/mlnuggets), [Twitter](https://twitter.com/ml_nuggets), [GitHub](https://github.com/mlnuggets) and subscribe to our [blog](https://www.machinelearningnuggets.com/#/portal) so that you don't miss a new issue."
      ],
      "metadata": {
        "id": "br17uG5eEnun"
      }
    }
  ]
}