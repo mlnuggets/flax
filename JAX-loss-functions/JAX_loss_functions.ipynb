{
 "nbformat": 4,
 "nbformat_minor": 0,
 "metadata": {
  "colab": {
   "name": "JAX loss functions.ipynb",
   "provenance": []
  },
  "kernelspec": {
   "name": "python3",
   "display_name": "Python 3"
  },
  "language_info": {
   "name": "python"
  }
 },
 "cells": [
  {
   "cell_type": "markdown",
   "source": [
    "## JAX loss functions \n",
    "Click the image below to read the post online.\n",
    "\n",
    "<a target=\"_blank\" href=\"https://www.machinelearningnuggets.com/jax-loss-functions/\"><img src=\"https://digitalpress.fra1.cdn.digitaloceanspaces.com/mhujhsj/2022/07/logo.png\" alt=\"Open in ML Nuggets\"></a>"
   ],
   "metadata": {
    "id": "yUf0lMKMY5Lz"
   }
  },
  {
   "cell_type": "code",
   "source": [
    "pip install optax"
   ],
   "metadata": {
    "colab": {
     "base_uri": "https://localhost:8080/"
    },
    "id": "fJQSXNZJY4zi",
    "outputId": "3464b931-463d-4ac6-db73-1c02ed9e9521",
    "pycharm": {
     "is_executing": true
    }
   },
   "execution_count": null,
   "outputs": []
  },
  {
   "cell_type": "code",
   "execution_count": 5,
   "metadata": {
    "id": "3e7QxBAwKscX"
   },
   "outputs": [],
   "source": [
    "import optax"
   ]
  },
  {
   "cell_type": "code",
   "source": [
    "import jax.numpy as jnp"
   ],
   "metadata": {
    "id": "3kneVt9dNO6X"
   },
   "execution_count": 4,
   "outputs": []
  },
  {
   "cell_type": "code",
   "source": [
    "import jax\n",
    "def custom_sigmoid_binary_cross_entropy(logits, labels):\n",
    "  log_p = jax.nn.log_sigmoid(logits)\n",
    "  log_not_p = jax.nn.log_sigmoid(-logits)\n",
    "  return -labels * log_p - (1. - labels) * log_not_p"
   ],
   "metadata": {
    "id": "ymJljxkkuVy4"
   },
   "execution_count": 11,
   "outputs": []
  },
  {
   "cell_type": "code",
   "source": [
    "custom_sigmoid_binary_cross_entropy(0.5,0.0)"
   ],
   "metadata": {
    "colab": {
     "base_uri": "https://localhost:8080/"
    },
    "id": "dOyh2ncOuvHr",
    "outputId": "906811ea-94ee-460c-e047-0847fa53fded"
   },
   "execution_count": 12,
   "outputs": [
    {
     "output_type": "execute_result",
     "data": {
      "text/plain": [
       "DeviceArray(0.974077, dtype=float32, weak_type=True)"
      ]
     },
     "metadata": {},
     "execution_count": 12
    }
   ]
  },
  {
   "cell_type": "markdown",
   "source": [
    "## sigmoid binary cross entropy"
   ],
   "metadata": {
    "id": "--dTZKeoYUY5"
   }
  },
  {
   "cell_type": "code",
   "source": [
    "optax.sigmoid_binary_cross_entropy(0.5,0.0)"
   ],
   "metadata": {
    "colab": {
     "base_uri": "https://localhost:8080/"
    },
    "id": "r_qYWIDvKwOS",
    "outputId": "b3e502f9-2c30-4df4-bded-beb05d670f84"
   },
   "execution_count": 15,
   "outputs": [
    {
     "output_type": "execute_result",
     "data": {
      "text/plain": [
       "DeviceArray(0.974077, dtype=float32, weak_type=True)"
      ]
     },
     "metadata": {},
     "execution_count": 15
    }
   ]
  },
  {
   "cell_type": "markdown",
   "source": [
    "## Softmax cross entropy"
   ],
   "metadata": {
    "id": "_9Iygy16YXR_"
   }
  },
  {
   "cell_type": "code",
   "source": [
    "logits = jnp.array([0.50,0.60,0.70,0.30,0.25])\n",
    "labels = jnp.array([0.20,0.30,0.10,0.20,0.2])\n",
    "optax.softmax_cross_entropy(logits,labels)"
   ],
   "metadata": {
    "colab": {
     "base_uri": "https://localhost:8080/"
    },
    "id": "ElbvWjUbLNKB",
    "outputId": "8d358b54-530d-436d-8100-50d281b983d0"
   },
   "execution_count": 10,
   "outputs": [
    {
     "output_type": "execute_result",
     "data": {
      "text/plain": [
       "DeviceArray(1.6341426, dtype=float32)"
      ]
     },
     "metadata": {},
     "execution_count": 10
    }
   ]
  },
  {
   "cell_type": "markdown",
   "source": [
    "## Cosine distance"
   ],
   "metadata": {
    "id": "NMjtpXatYZxV"
   }
  },
  {
   "cell_type": "code",
   "source": [
    "predictions = jnp.array([0.50,0.60,0.70,0.30,0.25])\n",
    "targets = jnp.array([0.20,0.30,0.10,0.20,0.2])\n",
    "optax.cosine_distance(predictions,targets,epsilon=0.7)"
   ],
   "metadata": {
    "colab": {
     "base_uri": "https://localhost:8080/"
    },
    "id": "mxj_pQ9WP7_F",
    "outputId": "9dbd6293-5fd3-465d-88ef-88928cc49aa6"
   },
   "execution_count": 7,
   "outputs": [
    {
     "output_type": "execute_result",
     "data": {
      "text/plain": [
       "DeviceArray(0.4128204, dtype=float32)"
      ]
     },
     "metadata": {},
     "execution_count": 7
    }
   ]
  },
  {
   "cell_type": "markdown",
   "source": [
    "## cosine similarity"
   ],
   "metadata": {
    "id": "2Ukt4mC8YbvX"
   }
  },
  {
   "cell_type": "code",
   "source": [
    "predictions = jnp.array([50.0,60.0,70,30.0,25.0])\n",
    "targets = jnp.array([20.0,30.0,10.0,20.0,20.0])\n",
    "optax.cosine_similarity(predictions,targets,epsilon=0.5)"
   ],
   "metadata": {
    "colab": {
     "base_uri": "https://localhost:8080/"
    },
    "id": "bCN_yK08Ugzf",
    "outputId": "386ba2cc-14a0-4a48-b6ab-4908de58d47a"
   },
   "execution_count": 17,
   "outputs": [
    {
     "output_type": "execute_result",
     "data": {
      "text/plain": [
       "DeviceArray(0.87630975, dtype=float32)"
      ]
     },
     "metadata": {},
     "execution_count": 17
    }
   ]
  },
  {
   "cell_type": "code",
   "source": [
    "predictions = jnp.array([12.0, 20.0,29., 60.])\n",
    "targets = jnp.array([14., 18., 27., 55.])\n",
    "optax.cosine_similarity(predictions,targets)"
   ],
   "metadata": {
    "colab": {
     "base_uri": "https://localhost:8080/"
    },
    "id": "w2R2XGQRN19C",
    "outputId": "2bfea2f4-6fe2-4ac7-83cc-2a5624ce4334"
   },
   "execution_count": 30,
   "outputs": [
    {
     "output_type": "execute_result",
     "data": {
      "text/plain": [
       "DeviceArray(0.9989536, dtype=float32)"
      ]
     },
     "metadata": {},
     "execution_count": 30
    }
   ]
  },
  {
   "cell_type": "markdown",
   "source": [
    "## Huber loss"
   ],
   "metadata": {
    "id": "aNOYaBacYfQN"
   }
  },
  {
   "cell_type": "code",
   "source": [
    "logits = jnp.array([0.50,0.60,0.70,0.30,0.25])\n",
    "labels = jnp.array([0.20,0.30,0.10,0.20,0.2])\n",
    "optax.huber_loss(logits,labels)"
   ],
   "metadata": {
    "colab": {
     "base_uri": "https://localhost:8080/"
    },
    "id": "hmOLZ4TFU0PA",
    "outputId": "2ada0114-46d4-45b0-ad41-e243d923c382"
   },
   "execution_count": 9,
   "outputs": [
    {
     "output_type": "execute_result",
     "data": {
      "text/plain": [
       "DeviceArray([0.045     , 0.045     , 0.17999998, 0.005     , 0.00125   ],            dtype=float32)"
      ]
     },
     "metadata": {},
     "execution_count": 9
    }
   ]
  },
  {
   "cell_type": "markdown",
   "source": [
    "## l2 loss"
   ],
   "metadata": {
    "id": "LKh3TmeXYhNl"
   }
  },
  {
   "cell_type": "code",
   "source": [
    "predictions = jnp.array([0.50,0.60,0.70,0.30,0.25])\n",
    "targets = jnp.array([0.20,0.30,0.10,0.20,0.2])\n",
    "optax.l2_loss(predictions,targets)"
   ],
   "metadata": {
    "colab": {
     "base_uri": "https://localhost:8080/"
    },
    "id": "JP4XNaMYVeMA",
    "outputId": "11973593-f5bc-4f9d-fdfa-e3c6db44197c"
   },
   "execution_count": 10,
   "outputs": [
    {
     "output_type": "execute_result",
     "data": {
      "text/plain": [
       "DeviceArray([0.045     , 0.045     , 0.17999998, 0.005     , 0.00125   ],            dtype=float32)"
      ]
     },
     "metadata": {},
     "execution_count": 10
    }
   ]
  },
  {
   "cell_type": "markdown",
   "source": [
    "## log cosh"
   ],
   "metadata": {
    "id": "0pvgj0oDYjkR"
   }
  },
  {
   "cell_type": "code",
   "source": [
    "predictions = jnp.array([0.50,0.60,0.70,0.30,0.25])\n",
    "targets = jnp.array([0.20,0.30,0.10,0.20,0.2])\n",
    "optax.log_cosh(predictions,targets)"
   ],
   "metadata": {
    "colab": {
     "base_uri": "https://localhost:8080/"
    },
    "id": "jZ2SF7w3VpYs",
    "outputId": "3cd3b48f-ce48-422f-892a-45a5270140b2"
   },
   "execution_count": 11,
   "outputs": [
    {
     "output_type": "execute_result",
     "data": {
      "text/plain": [
       "DeviceArray([0.04434085, 0.04434085, 0.17013526, 0.00499171, 0.00124949],            dtype=float32)"
      ]
     },
     "metadata": {},
     "execution_count": 11
    }
   ]
  },
  {
   "cell_type": "markdown",
   "source": [
    "## Smooth labels"
   ],
   "metadata": {
    "id": "JXiU1I40YlIH"
   }
  },
  {
   "cell_type": "code",
   "source": [
    "labels = jnp.array([0.20,0.30,0.10,0.20,0.2])\n",
    "optax.smooth_labels(labels,alpha=0.4)"
   ],
   "metadata": {
    "colab": {
     "base_uri": "https://localhost:8080/"
    },
    "id": "YmHFEd_VXIlq",
    "outputId": "8ba332c9-503b-4497-8ed1-02fc9fd8478c"
   },
   "execution_count": 12,
   "outputs": [
    {
     "output_type": "execute_result",
     "data": {
      "text/plain": [
       "DeviceArray([0.2 , 0.26, 0.14, 0.2 , 0.2 ], dtype=float32)"
      ]
     },
     "metadata": {},
     "execution_count": 12
    }
   ]
  },
  {
   "cell_type": "markdown",
   "source": [
    "## jax_metrics"
   ],
   "metadata": {
    "id": "R_zR9MzqtLNb"
   }
  },
  {
   "cell_type": "code",
   "source": [
    "pip install jax_metrics\n"
   ],
   "metadata": {
    "id": "u8nzA144nR6t"
   },
   "execution_count": null,
   "outputs": []
  },
  {
   "cell_type": "code",
   "source": [
    "import jax_metrics as jm\n",
    "\n",
    "crossentropy = jm.losses.Crossentropy()\n",
    "\n",
    "logits = jnp.array([0.50,0.60,0.70,0.30,0.25])\n",
    "\n",
    "y = jnp.array([0.50,0.60,0.70,0.30,0.25])\n",
    "crossentropy(target=y, preds=logits) "
   ],
   "metadata": {
    "colab": {
     "base_uri": "https://localhost:8080/"
    },
    "id": "XHtaebTanRqS",
    "outputId": "abe2045e-4681-4547-fb42-fd0f67ada56a"
   },
   "execution_count": 7,
   "outputs": [
    {
     "output_type": "execute_result",
     "data": {
      "text/plain": [
       "DeviceArray(3.668735, dtype=float32)"
      ]
     },
     "metadata": {},
     "execution_count": 7
    }
   ]
  },
  {
   "cell_type": "code",
   "source": [
    "\n",
    "logits = jnp.array([0.50,0.60,0.70,0.30,0.25])\n",
    "y = jnp.array([0.50,0.60,0.70,0.30,0.25])\n",
    "jm.losses.crossentropy(target=y, preds=logits) "
   ],
   "metadata": {
    "colab": {
     "base_uri": "https://localhost:8080/"
    },
    "id": "TLbOrwcLvHs_",
    "outputId": "c4485479-8c5c-4587-8e6b-854443ae87b0"
   },
   "execution_count": 34,
   "outputs": [
    {
     "output_type": "execute_result",
     "data": {
      "text/plain": [
       "DeviceArray(3.668735, dtype=float32)"
      ]
     },
     "metadata": {},
     "execution_count": 34
    }
   ]
  },
  {
   "cell_type": "code",
   "source": [
    "target = jnp.array([50,60,70,30,25])\n",
    "preds = jnp.array([0.50,0.60,0.70,0.30,0.25])\n",
    "huber_loss = jm.losses.Huber()\n",
    "huber_loss(target=target, preds=preds)"
   ],
   "metadata": {
    "colab": {
     "base_uri": "https://localhost:8080/"
    },
    "id": "NsEz2Dn6oEiS",
    "outputId": "5e332af9-21ba-4ea2-d95f-5a7366f40b89"
   },
   "execution_count": 17,
   "outputs": [
    {
     "output_type": "execute_result",
     "data": {
      "text/plain": [
       "DeviceArray(46.030003, dtype=float32)"
      ]
     },
     "metadata": {},
     "execution_count": 17
    }
   ]
  },
  {
   "cell_type": "code",
   "source": [
    "target = jnp.array([50,60,70,30,25])\n",
    "preds = jnp.array([0.50,0.60,0.70,0.30,0.25])\n",
    "jm.losses.mean_absolute_error(target=target, preds=preds)\n"
   ],
   "metadata": {
    "colab": {
     "base_uri": "https://localhost:8080/"
    },
    "id": "c8_C1m5krPm8",
    "outputId": "9591ca1c-7191-4721-b278-6b40d2abdf6c"
   },
   "execution_count": 20,
   "outputs": [
    {
     "output_type": "execute_result",
     "data": {
      "text/plain": [
       "DeviceArray(46.530003, dtype=float32)"
      ]
     },
     "metadata": {},
     "execution_count": 20
    }
   ]
  },
  {
   "cell_type": "code",
   "source": [
    "rng = jax.random.PRNGKey(42)\n",
    "\n",
    "target = jax.random.randint(rng, shape=(2, 3), minval=0, maxval=2)\n",
    "preds = jax.random.uniform(rng, shape=(2, 3))\n",
    "\n",
    "jm.losses.cosine_similarity(target, preds, axis=1)"
   ],
   "metadata": {
    "colab": {
     "base_uri": "https://localhost:8080/"
    },
    "id": "FMexJZTTrusj",
    "outputId": "b9c75d85-0b23-4c04-dc3d-60e31b9e07f7"
   },
   "execution_count": 26,
   "outputs": [
    {
     "output_type": "execute_result",
     "data": {
      "text/plain": [
       "DeviceArray([-0.8602638 , -0.33731455], dtype=float32)"
      ]
     },
     "metadata": {},
     "execution_count": 26
    }
   ]
  },
  {
   "cell_type": "code",
   "source": [
    "target = jnp.array([50,60,70,30,25])\n",
    "preds = jnp.array([0.50,0.60,0.70,0.30,0.25])\n",
    "jm.losses.mean_absolute_percentage_error(target=target, preds=preds)\n"
   ],
   "metadata": {
    "colab": {
     "base_uri": "https://localhost:8080/"
    },
    "id": "CagiFygIsUdO",
    "outputId": "d68e72c9-c875-4616-948e-f286d7fb1792"
   },
   "execution_count": 27,
   "outputs": [
    {
     "output_type": "execute_result",
     "data": {
      "text/plain": [
       "DeviceArray(98.99999, dtype=float32)"
      ]
     },
     "metadata": {},
     "execution_count": 27
    }
   ]
  },
  {
   "cell_type": "code",
   "source": [
    "target = jnp.array([50,60,70,30,25])\n",
    "preds = jnp.array([0.50,0.60,0.70,0.30,0.25])\n",
    "jm.losses.mean_squared_logarithmic_error(target=target, preds=preds)\n"
   ],
   "metadata": {
    "colab": {
     "base_uri": "https://localhost:8080/"
    },
    "id": "98t02OQAsfiW",
    "outputId": "639b406d-ce93-4024-f3bb-7b8740249419"
   },
   "execution_count": 28,
   "outputs": [
    {
     "output_type": "execute_result",
     "data": {
      "text/plain": [
       "DeviceArray(11.7779, dtype=float32)"
      ]
     },
     "metadata": {},
     "execution_count": 28
    }
   ]
  },
  {
   "cell_type": "code",
   "source": [
    "target = jnp.array([0.50,0.60,0.70,0.30,0.25])\n",
    "preds = jnp.array([0.50,0.60,0.70,0.30,0.25])\n",
    "jm.losses.mean_squared_error(target=target, preds=preds)\n"
   ],
   "metadata": {
    "colab": {
     "base_uri": "https://localhost:8080/"
    },
    "id": "qv2gdkjOsphL",
    "outputId": "62be36e8-0e2e-4ecd-d22f-c31e49bcc9ea"
   },
   "execution_count": 30,
   "outputs": [
    {
     "output_type": "execute_result",
     "data": {
      "text/plain": [
       "DeviceArray(0., dtype=float32)"
      ]
     },
     "metadata": {},
     "execution_count": 30
    }
   ]
  },
  {
   "cell_type": "markdown",
   "source": [
    "## Where to go from here\n",
    "Follow us on [LinkedIn](https://www.linkedin.com/company/mlnuggets), [Twitter](https://twitter.com/ml_nuggets), [GitHub](https://github.com/mlnuggets) and subscribe to our [blog](https://www.machinelearningnuggets.com/#/portal) so that you don't miss a new issue."
   ],
   "metadata": {
    "id": "5R21Yfd7ZEGx",
    "pycharm": {
     "name": "#%% md\n"
    }
   }
  }
 ]
}