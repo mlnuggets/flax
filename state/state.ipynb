{
 "cells": [
  {
   "cell_type": "markdown",
   "id": "jYAKNighl1pi",
   "metadata": {
    "id": "jYAKNighl1pi",
    "pycharm": {
     "name": "#%% md\n"
    }
   },
   "source": [
    "Dataset is obtained from [Kaggle](https://www.kaggle.com/c/dogs-vs-cats).\n",
    "\n",
    "Click the image below to read the post online.\n",
    "\n",
    "<a target=\"_blank\" href=\"https://www.machinelearningnuggets.com/handling-state-in-jax-flax-batchnorm-and-dropout-layers\"><img src=\"https://digitalpress.fra1.cdn.digitaloceanspaces.com/mhujhsj/2022/07/logho-1.png\" alt=\"Open in ML Nuggets\"></a>"
   ]
  },
  {
   "cell_type": "code",
   "execution_count": null,
   "id": "f15c6312-1ca1-4aa1-b613-fd9eacc7f50b",
   "metadata": {},
   "outputs": [],
   "source": [
    "pip install -U jax flax jaxlib"
   ]
  },
  {
   "cell_type": "code",
   "execution_count": null,
   "id": "rxMCPuVTl1pn",
   "metadata": {
    "id": "rxMCPuVTl1pn",
    "pycharm": {
     "name": "#%%\n"
    }
   },
   "outputs": [],
   "source": [
    "pip install wget"
   ]
  },
  {
   "cell_type": "code",
   "execution_count": null,
   "id": "b181d393",
   "metadata": {
    "id": "b181d393",
    "outputId": "99877c46-22bf-4c6b-8f70-1f25a2e2fd5f",
    "papermill": {
     "duration": 115.935491,
     "end_time": "2022-07-04T18:10:31.100682",
     "exception": false,
     "start_time": "2022-07-04T18:08:35.165191",
     "status": "completed"
    },
    "tags": []
   },
   "outputs": [],
   "source": [
    "import wget \n",
    "wget.download(\"https://ml.machinelearningnuggets.com/train.zip\")"
   ]
  },
  {
   "cell_type": "code",
   "execution_count": null,
   "id": "6391ed32",
   "metadata": {
    "id": "6391ed32",
    "papermill": {
     "duration": 7.645292,
     "end_time": "2022-07-04T18:10:38.757642",
     "exception": false,
     "start_time": "2022-07-04T18:10:31.112350",
     "status": "completed"
    },
    "tags": []
   },
   "outputs": [],
   "source": [
    "import zipfile\n",
    "with zipfile.ZipFile('train.zip', 'r') as zip_ref:\n",
    "  zip_ref.extractall('.')"
   ]
  },
  {
   "cell_type": "markdown",
   "id": "fd6d01b6",
   "metadata": {
    "id": "fd6d01b6",
    "papermill": {
     "duration": 0.011679,
     "end_time": "2022-07-04T18:10:38.781288",
     "exception": false,
     "start_time": "2022-07-04T18:10:38.769609",
     "status": "completed"
    },
    "tags": []
   },
   "source": [
    "## Perform standard imports"
   ]
  },
  {
   "cell_type": "code",
   "execution_count": 1,
   "id": "ea3f6d1d",
   "metadata": {
    "id": "ea3f6d1d",
    "papermill": {
     "duration": 2.258747,
     "end_time": "2022-07-04T18:10:41.052363",
     "exception": false,
     "start_time": "2022-07-04T18:10:38.793616",
     "status": "completed"
    },
    "tags": []
   },
   "outputs": [],
   "source": [
    "import torch\n",
    "from torch.utils.data import DataLoader\n",
    "import os\n",
    "from PIL import Image\n",
    "from torchvision import transforms\n",
    "from torch.utils.data import Dataset\n",
    "import numpy as np\n",
    "import pandas as pd\n",
    "from typing import Any\n",
    "import matplotlib.pyplot as plt\n",
    "%matplotlib inline\n",
    "# ignore harmless warnings\n",
    "import warnings\n",
    "warnings.filterwarnings(\"ignore\")"
   ]
  },
  {
   "cell_type": "code",
   "execution_count": 2,
   "id": "92133173",
   "metadata": {
    "id": "92133173",
    "papermill": {
     "duration": 2.941095,
     "end_time": "2022-07-04T18:10:44.006508",
     "exception": false,
     "start_time": "2022-07-04T18:10:41.065413",
     "status": "completed"
    },
    "tags": []
   },
   "outputs": [],
   "source": [
    "import jax\n",
    "from jax import numpy as jnp\n",
    "import flax\n",
    "from flax import linen as nn  \n",
    "from flax.training import train_state\n",
    "import optax"
   ]
  },
  {
   "cell_type": "code",
   "execution_count": 3,
   "id": "1565d02a",
   "metadata": {
    "id": "1565d02a",
    "papermill": {
     "duration": 0.024502,
     "end_time": "2022-07-04T18:10:44.042709",
     "exception": false,
     "start_time": "2022-07-04T18:10:44.018207",
     "status": "completed"
    },
    "tags": []
   },
   "outputs": [],
   "source": [
    "class CatsDogsDataset(Dataset):\n",
    "    def __init__(self, root_dir, annotation_file, transform=None):\n",
    "        self.root_dir = root_dir\n",
    "        self.annotations = pd.read_csv(annotation_file)\n",
    "        self.transform = transform\n",
    "\n",
    "    def __len__(self):\n",
    "        return len(self.annotations)\n",
    "\n",
    "    def __getitem__(self, index):\n",
    "        img_id = self.annotations.iloc[index, 0]\n",
    "        img = Image.open(os.path.join(self.root_dir, img_id)).convert(\"RGB\")\n",
    "        y_label = torch.tensor(float(self.annotations.iloc[index, 1]))\n",
    "\n",
    "        if self.transform is not None:\n",
    "            img = self.transform(img)\n",
    "\n",
    "        return (img, y_label)"
   ]
  },
  {
   "cell_type": "code",
   "execution_count": 4,
   "id": "6acc554a",
   "metadata": {
    "id": "6acc554a",
    "papermill": {
     "duration": 3.377732,
     "end_time": "2022-07-04T18:10:47.431532",
     "exception": false,
     "start_time": "2022-07-04T18:10:44.053800",
     "status": "completed"
    },
    "tags": []
   },
   "outputs": [],
   "source": [
    "train_df = pd.DataFrame(columns=[\"img_path\",\"label\"])\n",
    "train_df[\"img_path\"] = os.listdir(\"train/\")\n",
    "for idx, i in enumerate(os.listdir(\"train/\")):\n",
    "    if \"cat\" in i:\n",
    "        train_df[\"label\"][idx] = 0\n",
    "    if \"dog\" in i:\n",
    "        train_df[\"label\"][idx] = 1\n",
    "\n",
    "train_df.to_csv (r'train_csv.csv', index = False, header=True)"
   ]
  },
  {
   "cell_type": "code",
   "execution_count": 5,
   "id": "297d6ba0",
   "metadata": {
    "id": "297d6ba0",
    "papermill": {
     "duration": 1.665381,
     "end_time": "2022-07-04T18:10:49.109808",
     "exception": false,
     "start_time": "2022-07-04T18:10:47.444427",
     "status": "completed"
    },
    "tags": []
   },
   "outputs": [],
   "source": [
    "def custom_collate_fn(batch):\n",
    "    transposed_data = list(zip(*batch))\n",
    "    labels = np.array(transposed_data[1])\n",
    "    imgs = np.stack(transposed_data[0])\n",
    "    return imgs, labels"
   ]
  },
  {
   "cell_type": "code",
   "execution_count": 6,
   "id": "98da04e0",
   "metadata": {
    "id": "98da04e0",
    "papermill": {
     "duration": 0.113262,
     "end_time": "2022-07-04T18:10:49.237757",
     "exception": false,
     "start_time": "2022-07-04T18:10:49.124495",
     "status": "completed"
    },
    "tags": []
   },
   "outputs": [],
   "source": [
    "size_image = 224\n",
    "batch_size = 64\n",
    "\n",
    "transform = transforms.Compose([\n",
    "    transforms.Resize((size_image,size_image)),\n",
    "    np.array])\n",
    "dataset = CatsDogsDataset(\"train\",\"train_csv.csv\",transform=transform)\n",
    "train_set, validation_set = torch.utils.data.random_split(dataset,[20000,5000])\n",
    "train_loader = DataLoader(dataset=train_set, collate_fn=custom_collate_fn,shuffle=True, batch_size=batch_size)\n",
    "validation_loader = DataLoader(dataset=validation_set,collate_fn=custom_collate_fn, shuffle=False, batch_size=batch_size)"
   ]
  },
  {
   "cell_type": "code",
   "execution_count": null,
   "id": "4dd3440a",
   "metadata": {
    "id": "4dd3440a",
    "outputId": "6d6ee787-2203-4bab-8b5d-fc8f94e6e533",
    "papermill": {
     "duration": 0.219416,
     "end_time": "2022-07-04T18:10:49.471494",
     "exception": false,
     "start_time": "2022-07-04T18:10:49.252078",
     "status": "completed"
    },
    "tags": [],
    "pycharm": {
     "is_executing": true
    }
   },
   "outputs": [],
   "source": [
    "(image_batch, label_batch) = next(iter(train_loader))\n",
    "print(image_batch.shape)\n",
    "print(label_batch.shape)"
   ]
  },
  {
   "cell_type": "code",
   "execution_count": null,
   "id": "df226d35",
   "metadata": {
    "id": "df226d35",
    "outputId": "b54faa60-7559-42d6-be92-67722d6fa936",
    "papermill": {
     "duration": 0.023652,
     "end_time": "2022-07-04T18:10:49.507239",
     "exception": false,
     "start_time": "2022-07-04T18:10:49.483587",
     "status": "completed"
    },
    "tags": [],
    "pycharm": {
     "is_executing": true
    }
   },
   "outputs": [],
   "source": [
    "image_batch.shape[0]"
   ]
  },
  {
   "cell_type": "code",
   "execution_count": 9,
   "id": "240fceaa",
   "metadata": {
    "id": "240fceaa",
    "papermill": {
     "duration": 0.030855,
     "end_time": "2022-07-04T18:10:49.550126",
     "exception": false,
     "start_time": "2022-07-04T18:10:49.519271",
     "status": "completed"
    },
    "tags": []
   },
   "outputs": [],
   "source": [
    "class CNN(nn.Module):\n",
    "\n",
    "  @nn.compact\n",
    "  def __call__(self, x, training):\n",
    "    x = nn.Conv(features=128, kernel_size=(3, 3))(x)\n",
    "    x = nn.relu(x)\n",
    "    x = nn.max_pool(x, window_shape=(2, 2), strides=(2, 2))\n",
    "    x = nn.Conv(features=64, kernel_size=(3, 3))(x)\n",
    "    x = nn.relu(x)\n",
    "    x = nn.max_pool(x, window_shape=(2, 2), strides=(2, 2))\n",
    "    x = nn.Conv(features=32, kernel_size=(3, 3))(x)\n",
    "    x = nn.relu(x)\n",
    "    x = nn.max_pool(x, window_shape=(2, 2), strides=(2, 2))\n",
    "    x = x.reshape((x.shape[0], -1))  \n",
    "    x = nn.Dense(features=256)(x)\n",
    "    x = nn.Dense(features=128)(x)\n",
    "    x = nn.BatchNorm(use_running_average=not training)(x)\n",
    "    x = nn.Dropout(0.2, deterministic=not training)(x)\n",
    "    x = nn.relu(x)\n",
    "    x = nn.Dense(features=2)(x)\n",
    "    x = nn.log_softmax(x)\n",
    "    return x"
   ]
  },
  {
   "cell_type": "code",
   "execution_count": 10,
   "id": "0821b42d",
   "metadata": {
    "id": "0821b42d",
    "papermill": {
     "duration": 0.023934,
     "end_time": "2022-07-04T18:10:49.586397",
     "exception": false,
     "start_time": "2022-07-04T18:10:49.562463",
     "status": "completed"
    },
    "tags": []
   },
   "outputs": [],
   "source": [
    "def cross_entropy_loss(*, logits, labels):\n",
    "  labels_onehot = jax.nn.one_hot(labels, num_classes=2)\n",
    "  return optax.softmax_cross_entropy(logits=logits, labels=labels_onehot).mean()"
   ]
  },
  {
   "cell_type": "code",
   "execution_count": 11,
   "id": "68a8fefa-5f3e-4d1d-9bee-e8f0e180cffa",
   "metadata": {},
   "outputs": [],
   "source": [
    "def compute_loss(params, batch_stats, images, labels):\n",
    "    logits,batch_stats = CNN().apply({'params': params,'batch_stats': batch_stats},images, training=True,rngs={'dropout': jax.random.PRNGKey(0)}, mutable=['batch_stats'])\n",
    "    loss = cross_entropy_loss(logits=logits, labels=labels)\n",
    "    return loss, (logits, batch_stats)"
   ]
  },
  {
   "cell_type": "code",
   "execution_count": 12,
   "id": "a8a464c9",
   "metadata": {
    "id": "a8a464c9",
    "papermill": {
     "duration": 0.02158,
     "end_time": "2022-07-04T18:10:49.620041",
     "exception": false,
     "start_time": "2022-07-04T18:10:49.598461",
     "status": "completed"
    },
    "tags": []
   },
   "outputs": [],
   "source": [
    "def compute_metrics(*, logits, labels):\n",
    "  loss = cross_entropy_loss(logits=logits, labels=labels)\n",
    "  accuracy = jnp.mean(jnp.argmax(logits, -1) == labels)\n",
    "  metrics = {\n",
    "      'loss': loss,\n",
    "      'accuracy': accuracy,\n",
    "  }\n",
    "  return metrics"
   ]
  },
  {
   "cell_type": "code",
   "execution_count": 13,
   "id": "f99c7fea-5ea5-4117-a0a7-ee5922a5715f",
   "metadata": {},
   "outputs": [],
   "source": [
    "# initialize weights\n",
    "model = CNN()\n",
    "key = jax.random.PRNGKey(0)\n",
    "variables = model.init(key, jnp.ones([1, size_image, size_image, 3]), training=False)\n",
    "\n",
    "class TrainState(train_state.TrainState):\n",
    "    batch_stats: flax.core.FrozenDict\n",
    "    \n",
    "state = TrainState.create(\n",
    "    apply_fn = model.apply,\n",
    "    params = variables['params'],\n",
    "    tx = optax.sgd(0.01),\n",
    "    batch_stats = variables['batch_stats'],\n",
    ")"
   ]
  },
  {
   "cell_type": "markdown",
   "id": "8fea8f30-38d0-4686-a180-eb5753dc097f",
   "metadata": {},
   "source": [
    "<!-- jax.value_and_grad computes the loss wrt the first argument. So in this code snippet you are computing the gradients wrt the inputs instead of the params. You can fix this by passing the model params as the first argument of the loss function -->"
   ]
  },
  {
   "cell_type": "code",
   "execution_count": 16,
   "id": "a03d421f",
   "metadata": {
    "id": "a03d421f",
    "papermill": {
     "duration": 0.023257,
     "end_time": "2022-07-04T18:10:49.730185",
     "exception": false,
     "start_time": "2022-07-04T18:10:49.706928",
     "status": "completed"
    },
    "tags": []
   },
   "outputs": [],
   "source": [
    "@jax.jit\n",
    "def train_step(state,images, labels):\n",
    "  \"\"\"Train for a single step.\"\"\"\n",
    "  (batch_loss, (logits, batch_stats)), grads= jax.value_and_grad(compute_loss, has_aux=True)(state.params,state.batch_stats, images,labels)\n",
    "  state = state.apply_gradients(grads=grads) \n",
    "  \n",
    "  metrics = compute_metrics(logits=logits, labels=labels) \n",
    "  return state, metrics"
   ]
  },
  {
   "cell_type": "code",
   "execution_count": 17,
   "id": "868a67bc-e56e-4594-8a0f-1df806305135",
   "metadata": {},
   "outputs": [],
   "source": [
    "def train_one_epoch(state, dataloader):\n",
    "    \"\"\"Train for 1 epoch on the training set.\"\"\"\n",
    "    batch_metrics = []\n",
    "    for cnt, (images, labels) in enumerate(dataloader):\n",
    "        images = images / 255.0\n",
    "        state, metrics = train_step(state, images, labels)\n",
    "        batch_metrics.append(metrics)\n",
    "\n",
    "    batch_metrics_np = jax.device_get(batch_metrics)  \n",
    "    epoch_metrics_np = {\n",
    "        k: np.mean([metrics[k] for metrics in batch_metrics_np])\n",
    "        for k in batch_metrics_np[0]\n",
    "    }\n",
    "    return state, epoch_metrics_np"
   ]
  },
  {
   "cell_type": "code",
   "execution_count": 18,
   "id": "9580b05c",
   "metadata": {
    "id": "9580b05c",
    "papermill": {
     "duration": 0.022339,
     "end_time": "2022-07-04T18:10:49.765557",
     "exception": false,
     "start_time": "2022-07-04T18:10:49.743218",
     "status": "completed"
    },
    "tags": []
   },
   "outputs": [],
   "source": [
    "@jax.jit\n",
    "def eval_step(batch_stats, params, images, labels):\n",
    "    logits = CNN().apply({'params': params,'batch_stats': batch_stats}, images, training=False,rngs={'dropout': jax.random.PRNGKey(0)})\n",
    "    return compute_metrics(logits=logits, labels=labels)"
   ]
  },
  {
   "cell_type": "code",
   "execution_count": 19,
   "id": "f853a397",
   "metadata": {
    "id": "f853a397",
    "papermill": {
     "duration": 0.023969,
     "end_time": "2022-07-04T18:10:49.843542",
     "exception": false,
     "start_time": "2022-07-04T18:10:49.819573",
     "status": "completed"
    },
    "tags": []
   },
   "outputs": [],
   "source": [
    "def evaluate_model(state, test_imgs, test_lbls):\n",
    "    \"\"\"Evaluate on the validation set.\"\"\"\n",
    "    metrics = eval_step(state.batch_stats,state.params, test_imgs, test_lbls)\n",
    "    metrics = jax.device_get(metrics) \n",
    "    metrics = jax.tree_map(lambda x: x.item(), metrics)  \n",
    "    return metrics"
   ]
  },
  {
   "cell_type": "code",
   "execution_count": 23,
   "id": "2b2543eb",
   "metadata": {
    "id": "2b2543eb",
    "papermill": {
     "duration": 0.190089,
     "end_time": "2022-07-04T18:10:53.475401",
     "exception": false,
     "start_time": "2022-07-04T18:10:53.285312",
     "status": "completed"
    },
    "tags": []
   },
   "outputs": [],
   "source": [
    "(test_images, test_labels) = next(iter(validation_loader))\n",
    "test_images = test_images / 255.0"
   ]
  },
  {
   "cell_type": "code",
   "execution_count": 24,
   "id": "a64af4b9-6325-41e3-a1e0-f7755164150f",
   "metadata": {},
   "outputs": [],
   "source": [
    "from torch.utils.tensorboard import SummaryWriter\n",
    "import torchvision.transforms.functional as F\n",
    "logdir = \"flax_logs\"\n",
    "writer = SummaryWriter(logdir)"
   ]
  },
  {
   "cell_type": "code",
   "execution_count": 25,
   "id": "34b32e2e",
   "metadata": {
    "id": "34b32e2e",
    "papermill": {
     "duration": 6831.953211,
     "end_time": "2022-07-04T20:04:45.443357",
     "exception": false,
     "start_time": "2022-07-04T18:10:53.490146",
     "status": "completed"
    },
    "pycharm": {
     "is_executing": true
    },
    "tags": []
   },
   "outputs": [],
   "source": [
    "training_loss = []\n",
    "training_accuracy = []\n",
    "testing_loss = []\n",
    "testing_accuracy = []"
   ]
  },
  {
   "cell_type": "code",
   "execution_count": 26,
   "id": "578a1d57-de9a-4012-85cd-6586b081ccaa",
   "metadata": {},
   "outputs": [],
   "source": [
    "def train_model(epochs):\n",
    "    for epoch in range(1, epochs + 1):\n",
    "        train_state, train_metrics = train_one_epoch(state, train_loader)\n",
    "        training_loss.append(train_metrics['loss'])\n",
    "        training_accuracy.append(train_metrics['accuracy'])\n",
    "\n",
    "        test_metrics = evaluate_model(train_state, test_images, test_labels)\n",
    "        testing_loss.append(test_metrics['loss'])\n",
    "        testing_accuracy.append(test_metrics['accuracy'])\n",
    "    \n",
    "        writer.add_scalar('Loss/train', train_metrics['loss'], epoch)\n",
    "        writer.add_scalar('Loss/test', test_metrics['loss'], epoch)\n",
    "    \n",
    "        writer.add_scalar('Accuracy/train', train_metrics['accuracy'], epoch)\n",
    "        writer.add_scalar('Accuracy/test', test_metrics['accuracy'], epoch)\n",
    "    \n",
    "        print(f\"Epoch: {epoch}, training loss: {train_metrics['loss']}, training accuracy: {train_metrics['accuracy'] * 100}, validation loss: {test_metrics['loss']}, validation accuracy: {test_metrics['accuracy'] * 100}\")\n",
    "    return train_state"
   ]
  },
  {
   "cell_type": "code",
   "execution_count": null,
   "id": "340d66f2-eb9d-41d2-bbc0-3fdef27fc379",
   "metadata": {
    "pycharm": {
     "is_executing": true
    }
   },
   "outputs": [],
   "source": [
    "trained_model_state = train_model(30)"
   ]
  },
  {
   "cell_type": "code",
   "execution_count": null,
   "id": "9361dbd6-8648-4259-bc98-d86813707e2d",
   "metadata": {
    "pycharm": {
     "is_executing": true
    }
   },
   "outputs": [],
   "source": [
    "evaluate_model(trained_model_state,test_images, test_labels)\n"
   ]
  },
  {
   "cell_type": "code",
   "execution_count": null,
   "id": "ea608503-2dc0-4c9a-9f79-9f8234c3d349",
   "metadata": {
    "pycharm": {
     "is_executing": true
    }
   },
   "outputs": [],
   "source": [
    "pip install tensorstore"
   ]
  },
  {
   "cell_type": "code",
   "execution_count": null,
   "id": "ca6958cf-d555-40ee-bab6-637fbb20f6c6",
   "metadata": {
    "pycharm": {
     "is_executing": true
    }
   },
   "outputs": [],
   "source": [
    "from flax.training import checkpoints\n",
    "ckpt_dir = 'model_checkpoint/'\n",
    "checkpoints.save_checkpoint(ckpt_dir=ckpt_dir,  \n",
    "                            target=trained_model_state, \n",
    "                            step=100, \n",
    "                            prefix='flax_model',  \n",
    "                            overwrite=True  \n",
    "                           )"
   ]
  },
  {
   "cell_type": "code",
   "execution_count": 33,
   "id": "6bf5ddda-01ff-40e6-a31a-3c8ce0e97b2c",
   "metadata": {},
   "outputs": [],
   "source": [
    "loaded_model = checkpoints.restore_checkpoint(\n",
    "                                             ckpt_dir=ckpt_dir,   \n",
    "                                             target=state,  \n",
    "                                             prefix='flax_model'  \n",
    "                                            )"
   ]
  },
  {
   "cell_type": "code",
   "execution_count": 28,
   "id": "e353e764-6537-49a7-9a4c-22b0608396a5",
   "metadata": {},
   "outputs": [],
   "source": [
    "%load_ext tensorboard "
   ]
  },
  {
   "cell_type": "code",
   "execution_count": null,
   "id": "bba46732-802d-42f6-bdd7-0add1a60984a",
   "metadata": {
    "pycharm": {
     "is_executing": true
    }
   },
   "outputs": [],
   "source": [
    "%tensorboard --logdir={logdir}"
   ]
  },
  {
   "cell_type": "code",
   "execution_count": null,
   "id": "3a8c2417",
   "metadata": {
    "id": "3a8c2417",
    "papermill": {
     "duration": 0.350558,
     "end_time": "2022-07-04T20:04:45.807997",
     "exception": false,
     "start_time": "2022-07-04T20:04:45.457439",
     "status": "completed"
    },
    "pycharm": {
     "is_executing": true
    },
    "tags": []
   },
   "outputs": [],
   "source": [
    "plt.plot(training_accuracy, label=\"Training\")\n",
    "plt.plot(testing_accuracy, label=\"Test\")\n",
    "plt.xlabel(\"Epoch\")\n",
    "plt.ylabel(\"Accuracy\")\n",
    "plt.legend()\n",
    "plt.show()"
   ]
  },
  {
   "cell_type": "code",
   "execution_count": null,
   "id": "336b93de",
   "metadata": {
    "id": "336b93de",
    "papermill": {
     "duration": 0.241431,
     "end_time": "2022-07-04T20:04:46.065146",
     "exception": false,
     "start_time": "2022-07-04T20:04:45.823715",
     "status": "completed"
    },
    "pycharm": {
     "is_executing": true
    },
    "tags": []
   },
   "outputs": [],
   "source": [
    "plt.plot(training_loss, label=\"Training\")\n",
    "plt.plot(testing_loss, label=\"Test\")\n",
    "plt.xlabel(\"Epoch\")\n",
    "plt.ylabel(\"Accuracy\")\n",
    "plt.legend()\n",
    "plt.show()"
   ]
  },
  {
   "cell_type": "markdown",
   "id": "031e53e4",
   "metadata": {
    "id": "031e53e4",
    "papermill": {
     "duration": 0.016389,
     "end_time": "2022-07-04T20:04:46.097886",
     "exception": false,
     "start_time": "2022-07-04T20:04:46.081497",
     "status": "completed"
    },
    "pycharm": {
     "name": "#%% md\n"
    },
    "tags": []
   },
   "source": [
    "## Where to go from here\n",
    "Follow us on [LinkedIn](https://www.linkedin.com/company/mlnuggets), [Twitter](https://twitter.com/ml_nuggets), [GitHub](https://github.com/mlnuggets) and subscribe to our [blog](https://www.machinelearningnuggets.com/#/portal) so that you don't miss a new issue."
   ]
  }
 ],
 "metadata": {
  "colab": {
   "provenance": []
  },
  "kernelspec": {
   "display_name": "Python 3 (ipykernel)",
   "language": "python",
   "name": "python3"
  },
  "language_info": {
   "codemirror_mode": {
    "name": "ipython",
    "version": 3
   },
   "file_extension": ".py",
   "mimetype": "text/x-python",
   "name": "python",
   "nbconvert_exporter": "python",
   "pygments_lexer": "ipython3",
   "version": "3.9.10"
  },
  "papermill": {
   "default_parameters": {},
   "duration": 7014.77428,
   "end_time": "2022-07-04T20:04:49.369562",
   "environment_variables": {},
   "exception": null,
   "input_path": "__notebook__.ipynb",
   "output_path": "__notebook__.ipynb",
   "parameters": {},
   "start_time": "2022-07-04T18:07:54.595282",
   "version": "2.3.4"
  }
 },
 "nbformat": 4,
 "nbformat_minor": 5
}