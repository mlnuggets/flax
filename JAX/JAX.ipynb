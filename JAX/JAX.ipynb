{
 "cells": [
  {
   "cell_type": "markdown",
   "metadata": {
    "id": "QjoDFOXcm0fx"
   },
   "source": [
    "# JAX 101"
   ]
  },
  {
   "cell_type": "markdown",
   "metadata": {
    "id": "QyVLdzdUm0fz"
   },
   "source": [
    "\n",
    "Click the image below to read the post online.\n",
    "\n",
    "<a target=\"_blank\" href=\"https://www.machinelearningnuggets.com/what-is-jax\n",
    "\"><img src=\"https://digitalpress.fra1.cdn.digitaloceanspaces.com/mhujhsj/2022/07/logo.png\" alt=\"Open in ML Nuggets\"></a>"
   ]
  },
  {
   "cell_type": "markdown",
   "metadata": {
    "id": "VksNICG0m0f0"
   },
   "source": [
    "JAX is an open source Python package for numerical computation in with accelearators and XLA."
   ]
  },
  {
   "cell_type": "markdown",
   "metadata": {
    "id": "KPaIoNwzm0f0"
   },
   "source": [
    "## Installing JAX"
   ]
  },
  {
   "cell_type": "markdown",
   "metadata": {
    "id": "h1H8NijYm0f0"
   },
   "source": [
    "\n",
    "\n",
    "pip install jax"
   ]
  },
  {
   "cell_type": "markdown",
   "metadata": {
    "id": "xyJRbYAPm0f0"
   },
   "source": [
    "### Why use JAX?"
   ]
  },
  {
   "cell_type": "markdown",
   "metadata": {
    "id": "3h8-OoEIm0f1"
   },
   "source": [
    "- faster than NumPy\n",
    "- consumes less memory and is convenient to use\n",
    "- Other data science packages are built on top of it, for example Flax, Haiku etc"
   ]
  },
  {
   "cell_type": "markdown",
   "source": [
    "## Setting up TPUs on Google Colab\n",
    "\n",
    "Ensure you change the run time to TPUs"
   ],
   "metadata": {
    "id": "_hrtnuNqqG47"
   }
  },
  {
   "cell_type": "code",
   "source": [
    "import jax\n",
    "import jax.tools.colab_tpu\n",
    "jax.tools.colab_tpu.setup_tpu()\n",
    "jax.devices()"
   ],
   "metadata": {
    "id": "dcjM21W4qGkU"
   },
   "execution_count": 1,
   "outputs": []
  },
  {
   "cell_type": "code",
   "execution_count": 2,
   "metadata": {
    "id": "svFPvSPwm0f1"
   },
   "outputs": [],
   "source": [
    "import jax.numpy as jnp \n",
    "import numpy as np"
   ]
  },
  {
   "cell_type": "markdown",
   "metadata": {
    "id": "9NPwAyVam0f2"
   },
   "source": [
    "# Data Types in JAX"
   ]
  },
  {
   "cell_type": "code",
   "execution_count": 11,
   "metadata": {
    "id": "4Wb1Ojkgm0f2"
   },
   "outputs": [],
   "source": [
    "x = jnp.float32(1.25844) "
   ]
  },
  {
   "cell_type": "code",
   "execution_count": 12,
   "metadata": {
    "colab": {
     "base_uri": "https://localhost:8080/"
    },
    "id": "gtlTskCSm0f3",
    "outputId": "c98b0daf-7563-4569-8d2c-dabd2be127ab"
   },
   "outputs": [
    {
     "output_type": "execute_result",
     "data": {
      "text/plain": [
       "DeviceArray(1.25844, dtype=float32)"
      ]
     },
     "metadata": {},
     "execution_count": 12
    }
   ],
   "source": [
    "x"
   ]
  },
  {
   "cell_type": "code",
   "execution_count": 13,
   "metadata": {
    "colab": {
     "base_uri": "https://localhost:8080/"
    },
    "id": "IefLqcChm0f3",
    "outputId": "1136831a-5ad0-4499-bc88-1901a04cefbd"
   },
   "outputs": [
    {
     "output_type": "execute_result",
     "data": {
      "text/plain": [
       "jaxlib.xla_extension.DeviceArray"
      ]
     },
     "metadata": {},
     "execution_count": 13
    }
   ],
   "source": [
    "type(x)"
   ]
  },
  {
   "cell_type": "code",
   "source": [
    "x = jnp.int32(45.25844) "
   ],
   "metadata": {
    "id": "SrOrGUSyqznt"
   },
   "execution_count": 14,
   "outputs": []
  },
  {
   "cell_type": "code",
   "source": [
    "x"
   ],
   "metadata": {
    "colab": {
     "base_uri": "https://localhost:8080/"
    },
    "id": "0nfVaFtOq6TA",
    "outputId": "a8966834-acf7-4006-f955-eb734c794597"
   },
   "execution_count": 15,
   "outputs": [
    {
     "output_type": "execute_result",
     "data": {
      "text/plain": [
       "DeviceArray(45, dtype=int32)"
      ]
     },
     "metadata": {},
     "execution_count": 15
    }
   ]
  },
  {
   "cell_type": "markdown",
   "metadata": {
    "id": "qCDDsVTEm0f3"
   },
   "source": [
    "## Ways to Create JAX NumPy Arrays"
   ]
  },
  {
   "cell_type": "markdown",
   "metadata": {
    "id": "JdJWNp7Wm0f4"
   },
   "source": [
    "A NumPy array is a multidimensional array-like data structure"
   ]
  },
  {
   "cell_type": "markdown",
   "metadata": {
    "id": "RMlWxDIPm0f4"
   },
   "source": [
    "### np.arange()"
   ]
  },
  {
   "cell_type": "code",
   "execution_count": 16,
   "metadata": {
    "id": "z9GNw3qhm0f4",
    "outputId": "e95cde53-a5c3-4747-bb94-068a5e925528",
    "colab": {
     "base_uri": "https://localhost:8080/"
    }
   },
   "outputs": [
    {
     "output_type": "execute_result",
     "data": {
      "text/plain": [
       "DeviceArray([0, 1, 2, 3, 4, 5, 6, 7, 8, 9], dtype=int32)"
      ]
     },
     "metadata": {},
     "execution_count": 16
    }
   ],
   "source": [
    "jnp.arange(10)"
   ]
  },
  {
   "cell_type": "code",
   "execution_count": 17,
   "metadata": {
    "id": "Y2W-0p0vm0f4",
    "outputId": "62835f6e-81ec-4448-92fc-346cc02f8b98",
    "colab": {
     "base_uri": "https://localhost:8080/"
    }
   },
   "outputs": [
    {
     "output_type": "execute_result",
     "data": {
      "text/plain": [
       "DeviceArray([0, 1, 2, 3, 4, 5, 6, 7, 8, 9], dtype=int32)"
      ]
     },
     "metadata": {},
     "execution_count": 17
    }
   ],
   "source": [
    "jnp.arange(0,10)"
   ]
  },
  {
   "cell_type": "code",
   "execution_count": 18,
   "metadata": {
    "id": "mrKXK3hRm0f4",
    "outputId": "6e8c1576-d331-4e2e-ca9d-13f8af4444a8",
    "colab": {
     "base_uri": "https://localhost:8080/"
    }
   },
   "outputs": [
    {
     "output_type": "execute_result",
     "data": {
      "text/plain": [
       "DeviceArray([0, 2, 4, 6, 8], dtype=int32)"
      ]
     },
     "metadata": {},
     "execution_count": 18
    }
   ],
   "source": [
    "jnp.arange(0,10,2)"
   ]
  },
  {
   "cell_type": "markdown",
   "metadata": {
    "id": "Akiq4c3ym0f4"
   },
   "source": [
    "### Covert Python List to a NumPy Array"
   ]
  },
  {
   "cell_type": "code",
   "execution_count": 19,
   "metadata": {
    "id": "Rl4rrfJwm0f4"
   },
   "outputs": [],
   "source": [
    "scores = [50,60,70,30,25,70]"
   ]
  },
  {
   "cell_type": "code",
   "execution_count": null,
   "metadata": {
    "id": "evQsnDHmm0f4"
   },
   "outputs": [],
   "source": [
    "scores_array = jnp.array(scores)"
   ]
  },
  {
   "cell_type": "code",
   "execution_count": null,
   "metadata": {
    "id": "gI2B-KtPm0f4",
    "outputId": "10d5175f-f17c-4def-cf25-eb00668b85c8"
   },
   "outputs": [
    {
     "data": {
      "text/plain": [
       "DeviceArray([50, 60, 70, 30, 25, 70], dtype=int32)"
      ]
     },
     "execution_count": 11,
     "metadata": {},
     "output_type": "execute_result"
    }
   ],
   "source": [
    "scores_array"
   ]
  },
  {
   "cell_type": "code",
   "execution_count": null,
   "metadata": {
    "id": "qT3fOpPLm0f4",
    "outputId": "0fba13a5-0536-4b89-fcc6-9a136f579eb8"
   },
   "outputs": [
    {
     "data": {
      "text/plain": [
       "jaxlib.xla_extension.DeviceArray"
      ]
     },
     "execution_count": 12,
     "metadata": {},
     "output_type": "execute_result"
    }
   ],
   "source": [
    "type(scores_array)"
   ]
  },
  {
   "cell_type": "code",
   "execution_count": null,
   "metadata": {
    "id": "H5PnpSc0m0f5",
    "outputId": "77e7cb71-9e08-455f-8159-940f159fb984"
   },
   "outputs": [
    {
     "data": {
      "text/plain": [
       "1"
      ]
     },
     "execution_count": 13,
     "metadata": {},
     "output_type": "execute_result"
    }
   ],
   "source": [
    "scores_array.ndim # the dimension of the array"
   ]
  },
  {
   "cell_type": "code",
   "execution_count": null,
   "metadata": {
    "id": "3jNjszDWm0f5",
    "outputId": "4620a721-92aa-467c-85cb-a64681b9d31b"
   },
   "outputs": [
    {
     "data": {
      "text/plain": [
       "6"
      ]
     },
     "execution_count": 14,
     "metadata": {},
     "output_type": "execute_result"
    }
   ],
   "source": [
    "scores_array.size # the number of items in the array"
   ]
  },
  {
   "cell_type": "code",
   "execution_count": null,
   "metadata": {
    "id": "Tw6sI4QIm0f5",
    "outputId": "4eda3953-7fa7-4973-8d08-bc5f316f7f6c"
   },
   "outputs": [
    {
     "data": {
      "text/plain": [
       "dtype('int32')"
      ]
     },
     "execution_count": 15,
     "metadata": {},
     "output_type": "execute_result"
    }
   ],
   "source": [
    "scores_array.dtype # the type of data in the array"
   ]
  },
  {
   "cell_type": "code",
   "execution_count": null,
   "metadata": {
    "id": "eKN3pBtYm0f5",
    "outputId": "95dd2937-7122-4055-94fa-c1f071901b33"
   },
   "outputs": [
    {
     "data": {
      "text/plain": [
       "DeviceArray([25, 30, 50, 60, 70], dtype=int32)"
      ]
     },
     "execution_count": 16,
     "metadata": {},
     "output_type": "execute_result"
    }
   ],
   "source": [
    "jnp.unique(scores_array) # print unique items from the array"
   ]
  },
  {
   "cell_type": "code",
   "execution_count": null,
   "metadata": {
    "id": "k_l-eK3sm0f5",
    "outputId": "73eba0af-5c26-4c87-8031-911c66c6d0fa"
   },
   "outputs": [
    {
     "data": {
      "text/plain": [
       "DeviceArray([50, 60, 70, 30, 25, 70], dtype=int32)"
      ]
     },
     "execution_count": 17,
     "metadata": {},
     "output_type": "execute_result"
    }
   ],
   "source": [
    "scores_array"
   ]
  },
  {
   "cell_type": "code",
   "execution_count": null,
   "metadata": {
    "id": "3sscCvbbm0f5",
    "outputId": "1ddf6a77-47a5-4f0c-ca00-7b2ec39d423d"
   },
   "outputs": [
    {
     "data": {
      "text/plain": [
       "DeviceArray([70, 25, 30, 70, 60, 50], dtype=int32)"
      ]
     },
     "execution_count": 18,
     "metadata": {},
     "output_type": "execute_result"
    }
   ],
   "source": [
    "jnp.flip(scores_array) # reverse the array"
   ]
  },
  {
   "cell_type": "code",
   "execution_count": null,
   "metadata": {
    "id": "PW6DREP6m0f5",
    "outputId": "534b3a43-9b1e-4454-b697-c1b9da94a129"
   },
   "outputs": [
    {
     "data": {
      "text/plain": [
       "DeviceArray([25, 30, 50, 60, 70, 70], dtype=int32)"
      ]
     },
     "execution_count": 19,
     "metadata": {},
     "output_type": "execute_result"
    }
   ],
   "source": [
    "jnp.sort(scores_array)"
   ]
  },
  {
   "cell_type": "code",
   "execution_count": null,
   "metadata": {
    "id": "bPbtIGFCm0f5",
    "outputId": "47ab38ed-e990-47f3-adc4-8ad4eb1ae0a1"
   },
   "outputs": [
    {
     "data": {
      "text/plain": [
       "DeviceArray([50, 60, 70, 30, 25, 70], dtype=int32)"
      ]
     },
     "execution_count": 20,
     "metadata": {},
     "output_type": "execute_result"
    }
   ],
   "source": [
    "scores_array"
   ]
  },
  {
   "cell_type": "code",
   "execution_count": null,
   "metadata": {
    "id": "fjLVA2CMm0f5",
    "outputId": "84dda44c-1b0c-43d1-a529-62d721ea1d89"
   },
   "outputs": [
    {
     "data": {
      "text/plain": [
       "DeviceArray([50, 59, 59, 30, 25, 59], dtype=int32)"
      ]
     },
     "execution_count": 21,
     "metadata": {},
     "output_type": "execute_result"
    }
   ],
   "source": [
    "jnp.clip(scores_array, 20,59)"
   ]
  },
  {
   "cell_type": "markdown",
   "metadata": {
    "id": "iOsp3mj6m0f5"
   },
   "source": [
    "# Part Two"
   ]
  },
  {
   "cell_type": "markdown",
   "metadata": {
    "id": "_oAPGBlim0f5"
   },
   "source": [
    "### Joining Two Arrays"
   ]
  },
  {
   "cell_type": "code",
   "execution_count": null,
   "metadata": {
    "id": "tagorqcmm0f5"
   },
   "outputs": [],
   "source": [
    "array_two = jnp.array([90, 26, 37, 77, 65, 55])"
   ]
  },
  {
   "cell_type": "code",
   "execution_count": null,
   "metadata": {
    "id": "oOqhRPlzm0f5",
    "outputId": "b87540c9-8a37-41b4-d7ef-476ed2e30b43"
   },
   "outputs": [
    {
     "data": {
      "text/plain": [
       "DeviceArray([50, 60, 70, 30, 25, 70], dtype=int32)"
      ]
     },
     "execution_count": 23,
     "metadata": {},
     "output_type": "execute_result"
    }
   ],
   "source": [
    "scores_array"
   ]
  },
  {
   "cell_type": "code",
   "execution_count": null,
   "metadata": {
    "id": "cUBTmG-Fm0f5",
    "outputId": "4487cb52-1466-4bc7-91e5-874f035a49cf"
   },
   "outputs": [
    {
     "data": {
      "text/plain": [
       "DeviceArray([50, 60, 70, 30, 25, 70, 90, 26, 37, 77, 65, 55], dtype=int32)"
      ]
     },
     "execution_count": 24,
     "metadata": {},
     "output_type": "execute_result"
    }
   ],
   "source": [
    "jnp.concatenate((scores_array, array_two))"
   ]
  },
  {
   "cell_type": "markdown",
   "metadata": {
    "id": "P1DNPZ_Im0f5"
   },
   "source": [
    "### jnp.zeros()"
   ]
  },
  {
   "cell_type": "code",
   "execution_count": null,
   "metadata": {
    "id": "wqMQTh55m0f6",
    "outputId": "9f758718-c684-4bcc-8dbb-4ff5fbfed7bd"
   },
   "outputs": [
    {
     "data": {
      "text/plain": [
       "DeviceArray([0., 0., 0., 0., 0.], dtype=float32)"
      ]
     },
     "execution_count": 25,
     "metadata": {},
     "output_type": "execute_result"
    }
   ],
   "source": [
    "jnp.zeros(5)"
   ]
  },
  {
   "cell_type": "markdown",
   "metadata": {
    "id": "Tvpvd6ijm0f6"
   },
   "source": [
    "### jnp.ones()"
   ]
  },
  {
   "cell_type": "code",
   "execution_count": null,
   "metadata": {
    "id": "IRAQc8lpm0f6",
    "outputId": "0bd70b5a-8a67-448b-f1d9-ca4bbcc4b7c8"
   },
   "outputs": [
    {
     "data": {
      "text/plain": [
       "DeviceArray([1., 1., 1., 1., 1.], dtype=float32)"
      ]
     },
     "execution_count": 26,
     "metadata": {},
     "output_type": "execute_result"
    }
   ],
   "source": [
    "jnp.ones(5)"
   ]
  },
  {
   "cell_type": "code",
   "execution_count": null,
   "metadata": {
    "id": "w262GExpm0f6",
    "outputId": "9bcd033f-17b7-4866-8a34-62eca19e1c90"
   },
   "outputs": [
    {
     "data": {
      "text/plain": [
       "DeviceArray([[1., 0., 0., 0., 0.],\n",
       "             [0., 1., 0., 0., 0.],\n",
       "             [0., 0., 1., 0., 0.],\n",
       "             [0., 0., 0., 1., 0.],\n",
       "             [0., 0., 0., 0., 1.]], dtype=float32)"
      ]
     },
     "execution_count": 27,
     "metadata": {},
     "output_type": "execute_result"
    }
   ],
   "source": [
    "jnp.eye(5) # Return a 2-D array with ones on the diagonal\n",
    "           # and zeros elsewhere."
   ]
  },
  {
   "cell_type": "code",
   "execution_count": null,
   "metadata": {
    "id": "Js_CeN0Tm0f6",
    "outputId": "6d42dc43-18b9-49aa-8f68-8dfdadfe92e4"
   },
   "outputs": [
    {
     "data": {
      "text/plain": [
       "DeviceArray([[1., 0., 0., 0., 0.],\n",
       "             [0., 1., 0., 0., 0.],\n",
       "             [0., 0., 1., 0., 0.],\n",
       "             [0., 0., 0., 1., 0.],\n",
       "             [0., 0., 0., 0., 1.]], dtype=float32)"
      ]
     },
     "execution_count": 28,
     "metadata": {},
     "output_type": "execute_result"
    }
   ],
   "source": [
    "jnp.identity(5)"
   ]
  },
  {
   "cell_type": "markdown",
   "metadata": {
    "id": "r-2jWeh2m0f6"
   },
   "source": [
    "### jnp.linspace()"
   ]
  },
  {
   "cell_type": "code",
   "execution_count": null,
   "metadata": {
    "id": "7Yg3dkdFm0f6",
    "outputId": "789cab2d-58e1-4573-fd7e-51d80b3373a6"
   },
   "outputs": [
    {
     "data": {
      "text/plain": [
       "DeviceArray([10., 20., 30., 40., 50.], dtype=float32)"
      ]
     },
     "execution_count": 29,
     "metadata": {},
     "output_type": "execute_result"
    }
   ],
   "source": [
    "jnp.linspace(10,50,5) # Return evenly spaced numbers over a \n",
    "                      # specified interval.\n",
    "                    # start,stop, num=5,"
   ]
  },
  {
   "cell_type": "code",
   "execution_count": null,
   "metadata": {
    "id": "loeFeujXm0f6",
    "outputId": "0fe38cf5-3551-4808-e21d-97076cdce663"
   },
   "outputs": [
    {
     "data": {
      "text/plain": [
       "DeviceArray([10.  , 11.25, 12.5 , 13.75, 15.  ], dtype=float32)"
      ]
     },
     "execution_count": 30,
     "metadata": {},
     "output_type": "execute_result"
    }
   ],
   "source": [
    "jnp.linspace(10,15,5)"
   ]
  },
  {
   "cell_type": "markdown",
   "source": [
    "## Generating random numbers with JAX"
   ],
   "metadata": {
    "id": "XEnK3qIUrTO1"
   }
  },
  {
   "cell_type": "code",
   "source": [
    "print(np.random.random())\n",
    "print(np.random.random())\n",
    "print(np.random.random())"
   ],
   "metadata": {
    "colab": {
     "base_uri": "https://localhost:8080/"
    },
    "id": "6dw37haAO9qt",
    "outputId": "7063a9a1-bec1-44a2-f009-468a8f76ccd3"
   },
   "execution_count": 20,
   "outputs": [
    {
     "output_type": "stream",
     "name": "stdout",
     "text": [
      "0.5537111303546517\n",
      "0.7468391798711446\n",
      "0.526741353307414\n"
     ]
    }
   ]
  },
  {
   "cell_type": "code",
   "source": [
    "seed = 98\n",
    "key = jax.random.PRNGKey(seed)"
   ],
   "metadata": {
    "id": "qB47-MznruGC"
   },
   "execution_count": 21,
   "outputs": []
  },
  {
   "cell_type": "code",
   "source": [
    "key"
   ],
   "metadata": {
    "colab": {
     "base_uri": "https://localhost:8080/"
    },
    "id": "Zrxf4Tcjrt-Q",
    "outputId": "20c79743-40dd-4733-b310-0d3fb86aff89"
   },
   "execution_count": 22,
   "outputs": [
    {
     "output_type": "execute_result",
     "data": {
      "text/plain": [
       "DeviceArray([ 0, 98], dtype=uint32)"
      ]
     },
     "metadata": {},
     "execution_count": 22
    }
   ]
  },
  {
   "cell_type": "code",
   "source": [
    "jax.random.uniform(key)"
   ],
   "metadata": {
    "colab": {
     "base_uri": "https://localhost:8080/"
    },
    "id": "yvFHD8Vjscuv",
    "outputId": "0ffceb6e-0bdb-4eef-b868-86d685e75d0b"
   },
   "execution_count": 23,
   "outputs": [
    {
     "output_type": "execute_result",
     "data": {
      "text/plain": [
       "DeviceArray(0.3756802, dtype=float32)"
      ]
     },
     "metadata": {},
     "execution_count": 23
    }
   ]
  },
  {
   "cell_type": "code",
   "source": [
    "jax.random.uniform(key)"
   ],
   "metadata": {
    "colab": {
     "base_uri": "https://localhost:8080/"
    },
    "id": "SkWxr0CXscsL",
    "outputId": "33244cf0-4455-422b-8566-6d0c46811f25"
   },
   "execution_count": 24,
   "outputs": [
    {
     "output_type": "execute_result",
     "data": {
      "text/plain": [
       "DeviceArray(0.3756802, dtype=float32)"
      ]
     },
     "metadata": {},
     "execution_count": 24
    }
   ]
  },
  {
   "cell_type": "code",
   "source": [
    "key, subkey = jax.random.split(key)"
   ],
   "metadata": {
    "id": "sV1D9J82scpb"
   },
   "execution_count": 25,
   "outputs": []
  },
  {
   "cell_type": "code",
   "source": [
    "subkey"
   ],
   "metadata": {
    "colab": {
     "base_uri": "https://localhost:8080/"
    },
    "id": "ssmUxMVpQ5nd",
    "outputId": "1db73bcf-631b-486e-f76c-44264b1f94f2"
   },
   "execution_count": 27,
   "outputs": [
    {
     "output_type": "execute_result",
     "data": {
      "text/plain": [
       "DeviceArray([3614062411, 3294896607], dtype=uint32)"
      ]
     },
     "metadata": {},
     "execution_count": 27
    }
   ]
  },
  {
   "cell_type": "code",
   "source": [
    "jax.random.uniform(subkey)"
   ],
   "metadata": {
    "colab": {
     "base_uri": "https://localhost:8080/"
    },
    "id": "m7iCSZMnscfX",
    "outputId": "f4fc2b87-e64f-4051-b025-c83414d951a5"
   },
   "execution_count": 26,
   "outputs": [
    {
     "output_type": "execute_result",
     "data": {
      "text/plain": [
       "DeviceArray(0.95996785, dtype=float32)"
      ]
     },
     "metadata": {},
     "execution_count": 26
    }
   ]
  },
  {
   "cell_type": "code",
   "source": [
    "jax.random.uniform(subkey)"
   ],
   "metadata": {
    "colab": {
     "base_uri": "https://localhost:8080/"
    },
    "id": "-iZJpFirsccb",
    "outputId": "04f603ca-5010-4234-b8ac-f24ac6009be8"
   },
   "execution_count": null,
   "outputs": [
    {
     "output_type": "execute_result",
     "data": {
      "text/plain": [
       "DeviceArray(0.95996785, dtype=float32)"
      ]
     },
     "metadata": {},
     "execution_count": 34
    }
   ]
  },
  {
   "cell_type": "markdown",
   "metadata": {
    "id": "M6ZtcqJVm0f6"
   },
   "source": [
    "# Part 3"
   ]
  },
  {
   "cell_type": "markdown",
   "metadata": {
    "id": "Eg469tGym0f6"
   },
   "source": [
    "# Checking Documentation"
   ]
  },
  {
   "cell_type": "code",
   "execution_count": null,
   "metadata": {
    "id": "IdkHj6sfm0f6",
    "outputId": "cfd0fd24-d241-4be5-e65a-54affbbd5889"
   },
   "outputs": [
    {
     "name": "stdout",
     "output_type": "stream",
     "text": [
      "Help on function linspace in module jax._src.numpy.lax_numpy:\n",
      "\n",
      "linspace(start, stop, num=50, endpoint=True, retstep=False, dtype=None, axis: int = 0)\n",
      "    Return evenly spaced numbers over a specified interval.\n",
      "    \n",
      "    LAX-backend implementation of :func:`numpy.linspace`.\n",
      "    \n",
      "    *Original docstring below.*\n",
      "    \n",
      "    Returns `num` evenly spaced samples, calculated over the\n",
      "    interval [`start`, `stop`].\n",
      "    \n",
      "    The endpoint of the interval can optionally be excluded.\n",
      "    \n",
      "    .. versionchanged:: 1.16.0\n",
      "        Non-scalar `start` and `stop` are now supported.\n",
      "    \n",
      "    .. versionchanged:: 1.20.0\n",
      "        Values are rounded towards ``-inf`` instead of ``0`` when an\n",
      "        integer ``dtype`` is specified. The old behavior can\n",
      "        still be obtained with ``np.linspace(start, stop, num).astype(int)``\n",
      "    \n",
      "    Parameters\n",
      "    ----------\n",
      "    start : array_like\n",
      "        The starting value of the sequence.\n",
      "    stop : array_like\n",
      "        The end value of the sequence, unless `endpoint` is set to False.\n",
      "        In that case, the sequence consists of all but the last of ``num + 1``\n",
      "        evenly spaced samples, so that `stop` is excluded.  Note that the step\n",
      "        size changes when `endpoint` is False.\n",
      "    num : int, optional\n",
      "        Number of samples to generate. Default is 50. Must be non-negative.\n",
      "    endpoint : bool, optional\n",
      "        If True, `stop` is the last sample. Otherwise, it is not included.\n",
      "        Default is True.\n",
      "    retstep : bool, optional\n",
      "        If True, return (`samples`, `step`), where `step` is the spacing\n",
      "        between samples.\n",
      "    dtype : dtype, optional\n",
      "        The type of the output array.  If `dtype` is not given, the data type\n",
      "        is inferred from `start` and `stop`. The inferred dtype will never be\n",
      "        an integer; `float` is chosen even if the arguments would produce an\n",
      "        array of integers.\n",
      "    axis : int, optional\n",
      "        The axis in the result to store the samples.  Relevant only if start\n",
      "        or stop are array-like.  By default (0), the samples will be along a\n",
      "        new axis inserted at the beginning. Use -1 to get an axis at the end.\n",
      "    \n",
      "    Returns\n",
      "    -------\n",
      "    samples : ndarray\n",
      "        There are `num` equally spaced samples in the closed interval\n",
      "        ``[start, stop]`` or the half-open interval ``[start, stop)``\n",
      "        (depending on whether `endpoint` is True or False).\n",
      "    step : float, optional\n",
      "        Only returned if `retstep` is True\n",
      "    \n",
      "        Size of spacing between samples.\n",
      "\n"
     ]
    }
   ],
   "source": [
    "help(jnp.linspace)"
   ]
  },
  {
   "cell_type": "code",
   "execution_count": null,
   "metadata": {
    "id": "OJlND6yOm0f6",
    "outputId": "94f9ed07-225e-400f-d616-658d1b610e6e"
   },
   "outputs": [
    {
     "data": {
      "text/plain": [
       "\u001B[0;31mSignature:\u001B[0m\n",
       "\u001B[0mnp\u001B[0m\u001B[0;34m.\u001B[0m\u001B[0mlinspace\u001B[0m\u001B[0;34m(\u001B[0m\u001B[0;34m\u001B[0m\n",
       "\u001B[0;34m\u001B[0m    \u001B[0mstart\u001B[0m\u001B[0;34m,\u001B[0m\u001B[0;34m\u001B[0m\n",
       "\u001B[0;34m\u001B[0m    \u001B[0mstop\u001B[0m\u001B[0;34m,\u001B[0m\u001B[0;34m\u001B[0m\n",
       "\u001B[0;34m\u001B[0m    \u001B[0mnum\u001B[0m\u001B[0;34m=\u001B[0m\u001B[0;36m50\u001B[0m\u001B[0;34m,\u001B[0m\u001B[0;34m\u001B[0m\n",
       "\u001B[0;34m\u001B[0m    \u001B[0mendpoint\u001B[0m\u001B[0;34m=\u001B[0m\u001B[0;32mTrue\u001B[0m\u001B[0;34m,\u001B[0m\u001B[0;34m\u001B[0m\n",
       "\u001B[0;34m\u001B[0m    \u001B[0mretstep\u001B[0m\u001B[0;34m=\u001B[0m\u001B[0;32mFalse\u001B[0m\u001B[0;34m,\u001B[0m\u001B[0;34m\u001B[0m\n",
       "\u001B[0;34m\u001B[0m    \u001B[0mdtype\u001B[0m\u001B[0;34m=\u001B[0m\u001B[0;32mNone\u001B[0m\u001B[0;34m,\u001B[0m\u001B[0;34m\u001B[0m\n",
       "\u001B[0;34m\u001B[0m    \u001B[0maxis\u001B[0m\u001B[0;34m:\u001B[0m \u001B[0mint\u001B[0m \u001B[0;34m=\u001B[0m \u001B[0;36m0\u001B[0m\u001B[0;34m,\u001B[0m\u001B[0;34m\u001B[0m\n",
       "\u001B[0;34m\u001B[0m\u001B[0;34m)\u001B[0m\u001B[0;34m\u001B[0m\u001B[0;34m\u001B[0m\u001B[0m\n",
       "\u001B[0;31mDocstring:\u001B[0m\n",
       "Return evenly spaced numbers over a specified interval.\n",
       "\n",
       "LAX-backend implementation of :func:`numpy.linspace`.\n",
       "\n",
       "*Original docstring below.*\n",
       "\n",
       "Returns `num` evenly spaced samples, calculated over the\n",
       "interval [`start`, `stop`].\n",
       "\n",
       "The endpoint of the interval can optionally be excluded.\n",
       "\n",
       ".. versionchanged:: 1.16.0\n",
       "    Non-scalar `start` and `stop` are now supported.\n",
       "\n",
       ".. versionchanged:: 1.20.0\n",
       "    Values are rounded towards ``-inf`` instead of ``0`` when an\n",
       "    integer ``dtype`` is specified. The old behavior can\n",
       "    still be obtained with ``np.linspace(start, stop, num).astype(int)``\n",
       "\n",
       "Parameters\n",
       "----------\n",
       "start : array_like\n",
       "    The starting value of the sequence.\n",
       "stop : array_like\n",
       "    The end value of the sequence, unless `endpoint` is set to False.\n",
       "    In that case, the sequence consists of all but the last of ``num + 1``\n",
       "    evenly spaced samples, so that `stop` is excluded.  Note that the step\n",
       "    size changes when `endpoint` is False.\n",
       "num : int, optional\n",
       "    Number of samples to generate. Default is 50. Must be non-negative.\n",
       "endpoint : bool, optional\n",
       "    If True, `stop` is the last sample. Otherwise, it is not included.\n",
       "    Default is True.\n",
       "retstep : bool, optional\n",
       "    If True, return (`samples`, `step`), where `step` is the spacing\n",
       "    between samples.\n",
       "dtype : dtype, optional\n",
       "    The type of the output array.  If `dtype` is not given, the data type\n",
       "    is inferred from `start` and `stop`. The inferred dtype will never be\n",
       "    an integer; `float` is chosen even if the arguments would produce an\n",
       "    array of integers.\n",
       "axis : int, optional\n",
       "    The axis in the result to store the samples.  Relevant only if start\n",
       "    or stop are array-like.  By default (0), the samples will be along a\n",
       "    new axis inserted at the beginning. Use -1 to get an axis at the end.\n",
       "\n",
       "Returns\n",
       "-------\n",
       "samples : ndarray\n",
       "    There are `num` equally spaced samples in the closed interval\n",
       "    ``[start, stop]`` or the half-open interval ``[start, stop)``\n",
       "    (depending on whether `endpoint` is True or False).\n",
       "step : float, optional\n",
       "    Only returned if `retstep` is True\n",
       "\n",
       "    Size of spacing between samples.\n",
       "\u001B[0;31mFile:\u001B[0m      ~/miniforge3/envs/layer38/lib/python3.8/site-packages/jax/_src/numpy/lax_numpy.py\n",
       "\u001B[0;31mType:\u001B[0m      function\n"
      ]
     },
     "metadata": {},
     "output_type": "display_data"
    }
   ],
   "source": [
    "jnp.linspace?"
   ]
  },
  {
   "cell_type": "markdown",
   "metadata": {
    "id": "zL-gf-FWm0f7"
   },
   "source": [
    "JAX NumPy Operations"
   ]
  },
  {
   "cell_type": "code",
   "execution_count": 30,
   "metadata": {
    "id": "VgeLA7MIm0f7"
   },
   "outputs": [],
   "source": [
    "matrix = jnp.arange(17,33)"
   ]
  },
  {
   "cell_type": "code",
   "source": [
    "matrix = matrix.reshape(4,4)"
   ],
   "metadata": {
    "id": "e6y3MrZPoZ0w"
   },
   "execution_count": 31,
   "outputs": []
  },
  {
   "cell_type": "code",
   "source": [
    "matrix"
   ],
   "metadata": {
    "colab": {
     "base_uri": "https://localhost:8080/"
    },
    "id": "N7petHc0oZ3W",
    "outputId": "8ae3fda2-5ca8-47d8-a481-51ecc238ecb7"
   },
   "execution_count": 32,
   "outputs": [
    {
     "output_type": "execute_result",
     "data": {
      "text/plain": [
       "DeviceArray([[17, 18, 19, 20],\n",
       "             [21, 22, 23, 24],\n",
       "             [25, 26, 27, 28],\n",
       "             [29, 30, 31, 32]], dtype=int32)"
      ]
     },
     "metadata": {},
     "execution_count": 32
    }
   ]
  },
  {
   "cell_type": "code",
   "source": [
    "try:\n",
    "  jnp.sum([1, 2, 3])\n",
    "except TypeError as e:\n",
    "  print(f\"TypeError: {e}\")"
   ],
   "metadata": {
    "colab": {
     "base_uri": "https://localhost:8080/"
    },
    "id": "6B1zhJM-QAEm",
    "outputId": "f7177b4c-f88d-4404-a279-4b7b130e89de"
   },
   "execution_count": 49,
   "outputs": [
    {
     "output_type": "stream",
     "name": "stdout",
     "text": [
      "TypeError: sum requires ndarray or scalar arguments, got <class 'list'> at position 0.\n"
     ]
    }
   ]
  },
  {
   "cell_type": "code",
   "source": [
    "matrix.shape"
   ],
   "metadata": {
    "colab": {
     "base_uri": "https://localhost:8080/"
    },
    "id": "60sQAA6zoZ5_",
    "outputId": "642c8a64-c0cd-4a67-b027-5622e1f0af6f"
   },
   "execution_count": 33,
   "outputs": [
    {
     "output_type": "execute_result",
     "data": {
      "text/plain": [
       "(4, 4)"
      ]
     },
     "metadata": {},
     "execution_count": 33
    }
   ]
  },
  {
   "cell_type": "code",
   "source": [
    "matrix.ndim"
   ],
   "metadata": {
    "colab": {
     "base_uri": "https://localhost:8080/"
    },
    "id": "STs9xoHPoZ8Q",
    "outputId": "67d17ce1-39b2-42dd-8a47-64bb9908f413"
   },
   "execution_count": 34,
   "outputs": [
    {
     "output_type": "execute_result",
     "data": {
      "text/plain": [
       "2"
      ]
     },
     "metadata": {},
     "execution_count": 34
    }
   ]
  },
  {
   "cell_type": "code",
   "source": [
    "jnp.max(matrix)"
   ],
   "metadata": {
    "colab": {
     "base_uri": "https://localhost:8080/"
    },
    "id": "A_yRZSRJoZ-n",
    "outputId": "386e559a-a713-4ab6-f19b-1bc63769bbb9"
   },
   "execution_count": 35,
   "outputs": [
    {
     "output_type": "execute_result",
     "data": {
      "text/plain": [
       "DeviceArray(32, dtype=int32)"
      ]
     },
     "metadata": {},
     "execution_count": 35
    }
   ]
  },
  {
   "cell_type": "code",
   "source": [
    "matrix"
   ],
   "metadata": {
    "colab": {
     "base_uri": "https://localhost:8080/"
    },
    "id": "myeLBTsUoaBO",
    "outputId": "decc18db-deb6-4906-b34e-b4c6bc601ce0"
   },
   "execution_count": 36,
   "outputs": [
    {
     "output_type": "execute_result",
     "data": {
      "text/plain": [
       "DeviceArray([[17, 18, 19, 20],\n",
       "             [21, 22, 23, 24],\n",
       "             [25, 26, 27, 28],\n",
       "             [29, 30, 31, 32]], dtype=int32)"
      ]
     },
     "metadata": {},
     "execution_count": 36
    }
   ]
  },
  {
   "cell_type": "code",
   "source": [
    "jnp.argmax(matrix)"
   ],
   "metadata": {
    "colab": {
     "base_uri": "https://localhost:8080/"
    },
    "id": "ZfI5FA9moaDj",
    "outputId": "42939794-121f-4e09-be0d-16e0b473b0f4"
   },
   "execution_count": 37,
   "outputs": [
    {
     "output_type": "execute_result",
     "data": {
      "text/plain": [
       "DeviceArray(15, dtype=int32)"
      ]
     },
     "metadata": {},
     "execution_count": 37
    }
   ]
  },
  {
   "cell_type": "code",
   "source": [
    "jnp.min(matrix)"
   ],
   "metadata": {
    "colab": {
     "base_uri": "https://localhost:8080/"
    },
    "id": "5tP2kB0goaIA",
    "outputId": "33b2464c-2e17-44d1-fe9f-cd486dfece7f"
   },
   "execution_count": 38,
   "outputs": [
    {
     "output_type": "execute_result",
     "data": {
      "text/plain": [
       "DeviceArray(17, dtype=int32)"
      ]
     },
     "metadata": {},
     "execution_count": 38
    }
   ]
  },
  {
   "cell_type": "code",
   "source": [
    "jnp.argmin(matrix)"
   ],
   "metadata": {
    "colab": {
     "base_uri": "https://localhost:8080/"
    },
    "id": "XI8ilC6noaKW",
    "outputId": "57acc1ca-eb46-4df4-9e7b-9f57660cd863"
   },
   "execution_count": 39,
   "outputs": [
    {
     "output_type": "execute_result",
     "data": {
      "text/plain": [
       "DeviceArray(0, dtype=int32)"
      ]
     },
     "metadata": {},
     "execution_count": 39
    }
   ]
  },
  {
   "cell_type": "code",
   "source": [
    "jnp.sum(matrix)"
   ],
   "metadata": {
    "colab": {
     "base_uri": "https://localhost:8080/"
    },
    "id": "_OHrMe7MoaMv",
    "outputId": "f3c30230-da8a-4a6c-edea-ad65e7e067c3"
   },
   "execution_count": 40,
   "outputs": [
    {
     "output_type": "execute_result",
     "data": {
      "text/plain": [
       "DeviceArray(392, dtype=int32)"
      ]
     },
     "metadata": {},
     "execution_count": 40
    }
   ]
  },
  {
   "cell_type": "code",
   "source": [
    "jnp.sqrt(matrix)"
   ],
   "metadata": {
    "colab": {
     "base_uri": "https://localhost:8080/"
    },
    "id": "o6gkEj5LoqOw",
    "outputId": "e4b559b9-1f51-4efc-9ae5-633d1ccc6e42"
   },
   "execution_count": 41,
   "outputs": [
    {
     "output_type": "execute_result",
     "data": {
      "text/plain": [
       "DeviceArray([[4.1231055, 4.2426405, 4.358899 , 4.472136 ],\n",
       "             [4.582576 , 4.690416 , 4.7958317, 4.8989797],\n",
       "             [5.       , 5.0990195, 5.196152 , 5.2915025],\n",
       "             [5.3851647, 5.477226 , 5.5677643, 5.656854 ]], dtype=float32)"
      ]
     },
     "metadata": {},
     "execution_count": 41
    }
   ]
  },
  {
   "cell_type": "code",
   "source": [
    "matrix.transpose()"
   ],
   "metadata": {
    "colab": {
     "base_uri": "https://localhost:8080/"
    },
    "id": "irYgozusoqMo",
    "outputId": "5209fe22-29ca-40b0-c484-d8392d269269"
   },
   "execution_count": 42,
   "outputs": [
    {
     "output_type": "execute_result",
     "data": {
      "text/plain": [
       "DeviceArray([[17, 21, 25, 29],\n",
       "             [18, 22, 26, 30],\n",
       "             [19, 23, 27, 31],\n",
       "             [20, 24, 28, 32]], dtype=int32)"
      ]
     },
     "metadata": {},
     "execution_count": 42
    }
   ]
  },
  {
   "cell_type": "code",
   "source": [
    "matrix.flatten()"
   ],
   "metadata": {
    "colab": {
     "base_uri": "https://localhost:8080/"
    },
    "id": "uVcfs7QLoqKT",
    "outputId": "1dbc1762-4912-43ff-9264-92b60914efe1"
   },
   "execution_count": 43,
   "outputs": [
    {
     "output_type": "execute_result",
     "data": {
      "text/plain": [
       "DeviceArray([17, 18, 19, 20, 21, 22, 23, 24, 25, 26, 27, 28, 29, 30, 31,\n",
       "             32], dtype=int32)"
      ]
     },
     "metadata": {},
     "execution_count": 43
    }
   ]
  },
  {
   "cell_type": "code",
   "source": [
    "matrix.ravel()"
   ],
   "metadata": {
    "colab": {
     "base_uri": "https://localhost:8080/"
    },
    "id": "mckqylIOoqHp",
    "outputId": "39c1a8cb-54c1-4f4e-e62e-501e12c3f7c3"
   },
   "execution_count": 44,
   "outputs": [
    {
     "output_type": "execute_result",
     "data": {
      "text/plain": [
       "DeviceArray([17, 18, 19, 20, 21, 22, 23, 24, 25, 26, 27, 28, 29, 30, 31,\n",
       "             32], dtype=int32)"
      ]
     },
     "metadata": {},
     "execution_count": 44
    }
   ]
  },
  {
   "cell_type": "code",
   "source": [
    "matrix2 = jnp.arange(1,17).reshape(4,4)"
   ],
   "metadata": {
    "id": "FqA7B5NyoqEz"
   },
   "execution_count": 45,
   "outputs": []
  },
  {
   "cell_type": "code",
   "source": [
    "matrix + matrix2"
   ],
   "metadata": {
    "colab": {
     "base_uri": "https://localhost:8080/"
    },
    "id": "GvarPLLVop8_",
    "outputId": "4c2324d4-acba-42e5-d569-f10f7a1c7b9f"
   },
   "execution_count": 46,
   "outputs": [
    {
     "output_type": "execute_result",
     "data": {
      "text/plain": [
       "DeviceArray([[18, 20, 22, 24],\n",
       "             [26, 28, 30, 32],\n",
       "             [34, 36, 38, 40],\n",
       "             [42, 44, 46, 48]], dtype=int32)"
      ]
     },
     "metadata": {},
     "execution_count": 46
    }
   ]
  },
  {
   "cell_type": "code",
   "source": [
    "matrix = np.arange(17,33)\n",
    "matrix = matrix.reshape(4,4)\n",
    "matrix2 = np.arange(1,17).reshape(4,4)"
   ],
   "metadata": {
    "id": "2aQkq3ghdduy"
   },
   "execution_count": 53,
   "outputs": []
  },
  {
   "cell_type": "code",
   "source": [
    "%timeit matrix * matrix2"
   ],
   "metadata": {
    "colab": {
     "base_uri": "https://localhost:8080/"
    },
    "id": "BGDtTtglop18",
    "outputId": "003c9361-084d-4105-eb01-271a7556d1a9"
   },
   "execution_count": 54,
   "outputs": [
    {
     "output_type": "stream",
     "name": "stdout",
     "text": [
      "The slowest run took 54.28 times longer than the fastest. This could mean that an intermediate result is being cached.\n",
      "1000000 loops, best of 5: 560 ns per loop\n"
     ]
    }
   ]
  },
  {
   "cell_type": "code",
   "source": [
    "%timeit jnp.dot(jnp.arange(17,33).reshape(4,4), jnp.arange(1,17).reshape(4,4)).block_until_ready() "
   ],
   "metadata": {
    "colab": {
     "base_uri": "https://localhost:8080/"
    },
    "id": "4dsdRr57vf5l",
    "outputId": "eb61dad6-3480-4efd-9703-0252a526a763"
   },
   "execution_count": 59,
   "outputs": [
    {
     "output_type": "stream",
     "name": "stdout",
     "text": [
      "1000 loops, best of 5: 462 µs per loop\n"
     ]
    }
   ]
  },
  {
   "cell_type": "code",
   "source": [
    "matrix /  matrix2"
   ],
   "metadata": {
    "colab": {
     "base_uri": "https://localhost:8080/"
    },
    "id": "HtNq9J-QopxS",
    "outputId": "f28a16bf-b6e2-4b1f-88b8-698c502d666f"
   },
   "execution_count": null,
   "outputs": [
    {
     "output_type": "execute_result",
     "data": {
      "text/plain": [
       "DeviceArray([[17.       ,  9.       ,  6.3333335,  5.       ],\n",
       "             [ 4.2      ,  3.6666667,  3.2857144,  3.       ],\n",
       "             [ 2.7777777,  2.6      ,  2.4545455,  2.3333333],\n",
       "             [ 2.2307692,  2.142857 ,  2.0666666,  2.       ]],            dtype=float32)"
      ]
     },
     "metadata": {},
     "execution_count": 53
    }
   ]
  },
  {
   "cell_type": "code",
   "source": [
    "matrix %  matrix2"
   ],
   "metadata": {
    "colab": {
     "base_uri": "https://localhost:8080/"
    },
    "id": "Y8vUuHN6pINQ",
    "outputId": "cf13df21-d159-4a0a-adeb-10db76374398"
   },
   "execution_count": null,
   "outputs": [
    {
     "output_type": "execute_result",
     "data": {
      "text/plain": [
       "DeviceArray([[0, 0, 1, 0],\n",
       "             [1, 4, 2, 0],\n",
       "             [7, 6, 5, 4],\n",
       "             [3, 2, 1, 0]], dtype=int32)"
      ]
     },
     "metadata": {},
     "execution_count": 54
    }
   ]
  },
  {
   "cell_type": "markdown",
   "source": [
    "## Device put"
   ],
   "metadata": {
    "id": "8O5K7_x6xHQI"
   }
  },
  {
   "cell_type": "code",
   "source": [
    "from jax import device_put\n",
    "import numpy as np \n",
    "size = 5000\n",
    "x = np.random.normal(size=(size, size)).astype(np.float32)\n",
    "x = device_put(x)"
   ],
   "metadata": {
    "id": "awrYKU5rxJzN"
   },
   "execution_count": 2,
   "outputs": []
  },
  {
   "cell_type": "code",
   "source": [
    "x"
   ],
   "metadata": {
    "colab": {
     "base_uri": "https://localhost:8080/"
    },
    "id": "wJQ0OOCo5UHS",
    "outputId": "42d6205e-b9fc-4c2a-fd98-cde2825b8e00"
   },
   "execution_count": 3,
   "outputs": [
    {
     "output_type": "execute_result",
     "data": {
      "text/plain": [
       "DeviceArray([[-0.1144228 , -0.24054267, -0.766892  , ...,  1.5308956 ,\n",
       "               0.92768997, -1.2955136 ],\n",
       "             [-1.2012097 , -1.3346976 ,  1.0732094 , ...,  1.6548555 ,\n",
       "              -0.11896823, -0.03097145],\n",
       "             [-0.42850187,  0.48592672, -0.02518239, ..., -0.26078698,\n",
       "              -0.5199622 ,  0.9433329 ],\n",
       "             ...,\n",
       "             [-1.2751442 ,  0.15932202, -0.18655974, ...,  1.8270756 ,\n",
       "               1.4053702 ,  1.3269509 ],\n",
       "             [ 0.90323037, -0.165994  , -0.04873463, ...,  0.3966682 ,\n",
       "               0.9030303 ,  0.7333918 ],\n",
       "             [ 0.5417945 , -0.8683455 , -2.1000135 , ...,  0.483317  ,\n",
       "               0.13317995,  1.0398728 ]], dtype=float32)"
      ]
     },
     "metadata": {},
     "execution_count": 3
    }
   ]
  },
  {
   "cell_type": "markdown",
   "source": [
    "# Indexing & Broadcasting in Numpy"
   ],
   "metadata": {
    "id": "hSXBFtGZpK1B"
   }
  },
  {
   "cell_type": "code",
   "source": [
    "matrix = jnp.arange(1,17)"
   ],
   "metadata": {
    "id": "au_MsUFApIK0"
   },
   "execution_count": null,
   "outputs": []
  },
  {
   "cell_type": "code",
   "source": [
    "matrix"
   ],
   "metadata": {
    "colab": {
     "base_uri": "https://localhost:8080/"
    },
    "id": "IOA3dhS8PJU7",
    "outputId": "ec9d9fcb-8549-4ae6-937f-a0b071d2ba0a"
   },
   "execution_count": null,
   "outputs": [
    {
     "output_type": "execute_result",
     "data": {
      "text/plain": [
       "DeviceArray([ 1,  2,  3,  4,  5,  6,  7,  8,  9, 10, 11, 12, 13, 14, 15,\n",
       "             16], dtype=int32)"
      ]
     },
     "metadata": {},
     "execution_count": 148
    }
   ]
  },
  {
   "cell_type": "code",
   "source": [
    "matrix[0]"
   ],
   "metadata": {
    "colab": {
     "base_uri": "https://localhost:8080/"
    },
    "id": "35vQJbEbpIIV",
    "outputId": "f11f3bca-94b8-442c-a15b-7041a164ae6e"
   },
   "execution_count": null,
   "outputs": [
    {
     "output_type": "execute_result",
     "data": {
      "text/plain": [
       "DeviceArray(1, dtype=int32)"
      ]
     },
     "metadata": {},
     "execution_count": 147
    }
   ]
  },
  {
   "cell_type": "markdown",
   "source": [
    "## Out-of-Bounds Indexing"
   ],
   "metadata": {
    "id": "DClRSGl4R8eP"
   }
  },
  {
   "cell_type": "code",
   "source": [
    "# Out-of-Bounds Indexing\n",
    "matrix[20]"
   ],
   "metadata": {
    "colab": {
     "base_uri": "https://localhost:8080/"
    },
    "id": "YLVmYChtPFQQ",
    "outputId": "be83de0f-aba7-4bbb-9131-210fb5be1cc2"
   },
   "execution_count": null,
   "outputs": [
    {
     "output_type": "execute_result",
     "data": {
      "text/plain": [
       "DeviceArray(16, dtype=int32)"
      ]
     },
     "metadata": {},
     "execution_count": 149
    }
   ]
  },
  {
   "cell_type": "code",
   "source": [
    "matrix[2]"
   ],
   "metadata": {
    "colab": {
     "base_uri": "https://localhost:8080/"
    },
    "id": "u-EzWSD8pIF8",
    "outputId": "3ce8ec74-57e9-4e1c-a69c-b296eac1662d"
   },
   "execution_count": null,
   "outputs": [
    {
     "output_type": "execute_result",
     "data": {
      "text/plain": [
       "DeviceArray(3, dtype=int32)"
      ]
     },
     "metadata": {},
     "execution_count": 57
    }
   ]
  },
  {
   "cell_type": "code",
   "source": [
    "matrix[2:6]"
   ],
   "metadata": {
    "colab": {
     "base_uri": "https://localhost:8080/"
    },
    "id": "-sfd5nNRpYuf",
    "outputId": "083d661b-28b3-4e04-f5ed-f5581b2506a8"
   },
   "execution_count": null,
   "outputs": [
    {
     "output_type": "execute_result",
     "data": {
      "text/plain": [
       "DeviceArray([3, 4, 5, 6], dtype=int32)"
      ]
     },
     "metadata": {},
     "execution_count": 58
    }
   ]
  },
  {
   "cell_type": "code",
   "source": [
    "matrix[12:]"
   ],
   "metadata": {
    "colab": {
     "base_uri": "https://localhost:8080/"
    },
    "id": "0n1FOeIspYsJ",
    "outputId": "1ede35a7-9f4b-4912-a448-46083851438a"
   },
   "execution_count": null,
   "outputs": [
    {
     "output_type": "execute_result",
     "data": {
      "text/plain": [
       "DeviceArray([13, 14, 15, 16], dtype=int32)"
      ]
     },
     "metadata": {},
     "execution_count": 59
    }
   ]
  },
  {
   "cell_type": "markdown",
   "source": [
    "### Indexing Two Dimensional Array"
   ],
   "metadata": {
    "id": "pEe4MxIlpdiO"
   }
  },
  {
   "cell_type": "code",
   "source": [
    "matrix = matrix.reshape(4,4)"
   ],
   "metadata": {
    "id": "H_TBgzFopYp0"
   },
   "execution_count": null,
   "outputs": []
  },
  {
   "cell_type": "code",
   "source": [
    "matrix[0] "
   ],
   "metadata": {
    "colab": {
     "base_uri": "https://localhost:8080/"
    },
    "id": "wxskXLNGpYnK",
    "outputId": "7e8af7ae-fb69-430c-aedc-e90d0a7d0b5f"
   },
   "execution_count": null,
   "outputs": [
    {
     "output_type": "execute_result",
     "data": {
      "text/plain": [
       "DeviceArray([1, 2, 3, 4], dtype=int32)"
      ]
     },
     "metadata": {},
     "execution_count": 61
    }
   ]
  },
  {
   "cell_type": "code",
   "source": [
    "matrix[0:2]"
   ],
   "metadata": {
    "colab": {
     "base_uri": "https://localhost:8080/"
    },
    "id": "4MH-268vpYkz",
    "outputId": "e40be872-cc23-4fa5-85e9-507642594fd5"
   },
   "execution_count": null,
   "outputs": [
    {
     "output_type": "execute_result",
     "data": {
      "text/plain": [
       "DeviceArray([[1, 2, 3, 4],\n",
       "             [5, 6, 7, 8]], dtype=int32)"
      ]
     },
     "metadata": {},
     "execution_count": 62
    }
   ]
  },
  {
   "cell_type": "code",
   "source": [
    "matrix[1:3,1:3] # [startrow:endrow, startcolumn:endcolumn]"
   ],
   "metadata": {
    "colab": {
     "base_uri": "https://localhost:8080/"
    },
    "id": "tQwVO6idpYfH",
    "outputId": "585880c0-d943-4101-9c79-b459af80f757"
   },
   "execution_count": null,
   "outputs": [
    {
     "output_type": "execute_result",
     "data": {
      "text/plain": [
       "DeviceArray([[ 6,  7],\n",
       "             [10, 11]], dtype=int32)"
      ]
     },
     "metadata": {},
     "execution_count": 63
    }
   ]
  },
  {
   "cell_type": "code",
   "source": [
    "matrix[2:4,1:2]"
   ],
   "metadata": {
    "colab": {
     "base_uri": "https://localhost:8080/"
    },
    "id": "3GataaH6ppUN",
    "outputId": "7340d1a0-e69b-4d05-c45c-963f8cff60c2"
   },
   "execution_count": null,
   "outputs": [
    {
     "output_type": "execute_result",
     "data": {
      "text/plain": [
       "DeviceArray([[10],\n",
       "             [14]], dtype=int32)"
      ]
     },
     "metadata": {},
     "execution_count": 64
    }
   ]
  },
  {
   "cell_type": "code",
   "source": [
    "matrix[2:4,2:4]"
   ],
   "metadata": {
    "colab": {
     "base_uri": "https://localhost:8080/"
    },
    "id": "qr9yno1-ppRW",
    "outputId": "5fb5fe06-8dfc-4fd7-d0b8-1cc6fd098c15"
   },
   "execution_count": null,
   "outputs": [
    {
     "output_type": "execute_result",
     "data": {
      "text/plain": [
       "DeviceArray([[11, 12],\n",
       "             [15, 16]], dtype=int32)"
      ]
     },
     "metadata": {},
     "execution_count": 65
    }
   ]
  },
  {
   "cell_type": "code",
   "source": [
    "matrix[2:,2:]"
   ],
   "metadata": {
    "colab": {
     "base_uri": "https://localhost:8080/"
    },
    "id": "ZhKy6bovppL2",
    "outputId": "a84c832b-9575-4e6e-e080-ab0745ee219f"
   },
   "execution_count": null,
   "outputs": [
    {
     "output_type": "execute_result",
     "data": {
      "text/plain": [
       "DeviceArray([[11, 12],\n",
       "             [15, 16]], dtype=int32)"
      ]
     },
     "metadata": {},
     "execution_count": 66
    }
   ]
  },
  {
   "cell_type": "markdown",
   "source": [
    "### Broadcasting in NumPy"
   ],
   "metadata": {
    "id": "1BKHznL-px4n"
   }
  },
  {
   "cell_type": "code",
   "source": [
    "scores = [50,60,70,30,25]"
   ],
   "metadata": {
    "id": "432COJJ0ppHB"
   },
   "execution_count": 74,
   "outputs": []
  },
  {
   "cell_type": "code",
   "source": [
    "scores_array = jnp.array(scores)"
   ],
   "metadata": {
    "id": "J4TUr_xIppEk"
   },
   "execution_count": 75,
   "outputs": []
  },
  {
   "cell_type": "code",
   "source": [
    "scores_array"
   ],
   "metadata": {
    "colab": {
     "base_uri": "https://localhost:8080/"
    },
    "id": "F8oyekYCppB9",
    "outputId": "1cce8c76-f332-4816-85f3-f12b2c70bf41"
   },
   "execution_count": 76,
   "outputs": [
    {
     "output_type": "execute_result",
     "data": {
      "text/plain": [
       "DeviceArray([50, 60, 70, 30, 25], dtype=int32)"
      ]
     },
     "metadata": {},
     "execution_count": 76
    }
   ]
  },
  {
   "cell_type": "code",
   "source": [
    "scores_array[0:3]"
   ],
   "metadata": {
    "colab": {
     "base_uri": "https://localhost:8080/"
    },
    "id": "rc50YgU4po_G",
    "outputId": "d9e3ad9b-7e0a-4595-c0cd-5a64d37d87a7"
   },
   "execution_count": 77,
   "outputs": [
    {
     "output_type": "execute_result",
     "data": {
      "text/plain": [
       "DeviceArray([50, 60, 70], dtype=int32)"
      ]
     },
     "metadata": {},
     "execution_count": 77
    }
   ]
  },
  {
   "cell_type": "markdown",
   "source": [
    "### JAX arrays are immutable"
   ],
   "metadata": {
    "id": "9sQ3DXCKtvLL"
   }
  },
  {
   "cell_type": "code",
   "source": [
    "scores_array[0:3] = [20,40,90]"
   ],
   "metadata": {
    "colab": {
     "base_uri": "https://localhost:8080/",
     "height": 312
    },
    "id": "tZd0bOqcp9GE",
    "outputId": "aae47a99-6995-4fb3-9081-56217c763c09"
   },
   "execution_count": null,
   "outputs": [
    {
     "output_type": "error",
     "ename": "TypeError",
     "evalue": "ignored",
     "traceback": [
      "\u001B[0;31m---------------------------------------------------------------------------\u001B[0m",
      "\u001B[0;31mTypeError\u001B[0m                                 Traceback (most recent call last)",
      "\u001B[0;32m<ipython-input-71-efa7e4344329>\u001B[0m in \u001B[0;36m<module>\u001B[0;34m()\u001B[0m\n\u001B[0;32m----> 1\u001B[0;31m \u001B[0mscores_array\u001B[0m\u001B[0;34m[\u001B[0m\u001B[0;36m0\u001B[0m\u001B[0;34m:\u001B[0m\u001B[0;36m3\u001B[0m\u001B[0;34m]\u001B[0m \u001B[0;34m=\u001B[0m \u001B[0;34m[\u001B[0m\u001B[0;36m20\u001B[0m\u001B[0;34m,\u001B[0m\u001B[0;36m40\u001B[0m\u001B[0;34m,\u001B[0m\u001B[0;36m90\u001B[0m\u001B[0;34m]\u001B[0m\u001B[0;34m\u001B[0m\u001B[0;34m\u001B[0m\u001B[0m\n\u001B[0m",
      "\u001B[0;32m/usr/local/lib/python3.7/dist-packages/jax/_src/numpy/lax_numpy.py\u001B[0m in \u001B[0;36m_unimplemented_setitem\u001B[0;34m(self, i, x)\u001B[0m\n\u001B[1;32m   4564\u001B[0m          \u001B[0;34m\"or another .at[] method: \"\u001B[0m\u001B[0;34m\u001B[0m\u001B[0;34m\u001B[0m\u001B[0m\n\u001B[1;32m   4565\u001B[0m          \"https://jax.readthedocs.io/en/latest/_autosummary/jax.numpy.ndarray.at.html\")\n\u001B[0;32m-> 4566\u001B[0;31m   \u001B[0;32mraise\u001B[0m \u001B[0mTypeError\u001B[0m\u001B[0;34m(\u001B[0m\u001B[0mmsg\u001B[0m\u001B[0;34m.\u001B[0m\u001B[0mformat\u001B[0m\u001B[0;34m(\u001B[0m\u001B[0mtype\u001B[0m\u001B[0;34m(\u001B[0m\u001B[0mself\u001B[0m\u001B[0;34m)\u001B[0m\u001B[0;34m)\u001B[0m\u001B[0;34m)\u001B[0m\u001B[0;34m\u001B[0m\u001B[0;34m\u001B[0m\u001B[0m\n\u001B[0m\u001B[1;32m   4567\u001B[0m \u001B[0;34m\u001B[0m\u001B[0m\n\u001B[1;32m   4568\u001B[0m \u001B[0;32mdef\u001B[0m \u001B[0m_operator_round\u001B[0m\u001B[0;34m(\u001B[0m\u001B[0mnumber\u001B[0m\u001B[0;34m,\u001B[0m \u001B[0mndigits\u001B[0m\u001B[0;34m=\u001B[0m\u001B[0;32mNone\u001B[0m\u001B[0;34m)\u001B[0m\u001B[0;34m:\u001B[0m\u001B[0;34m\u001B[0m\u001B[0;34m\u001B[0m\u001B[0m\n",
      "\u001B[0;31mTypeError\u001B[0m: '<class 'jaxlib.xla_extension.DeviceArray'>' object does not support item assignment. JAX arrays are immutable. Instead of ``x[idx] = y``, use ``x = x.at[idx].set(y)`` or another .at[] method: https://jax.readthedocs.io/en/latest/_autosummary/jax.numpy.ndarray.at.html"
     ]
    }
   ]
  },
  {
   "cell_type": "code",
   "source": [
    "new_scores_array = scores_array.at[0:3].set([20,40,90])"
   ],
   "metadata": {
    "id": "LIyMVccBp_Ge"
   },
   "execution_count": 78,
   "outputs": []
  },
  {
   "cell_type": "code",
   "source": [
    "new_scores_array"
   ],
   "metadata": {
    "colab": {
     "base_uri": "https://localhost:8080/"
    },
    "id": "x8LffCzQtrgp",
    "outputId": "8ce02168-a3a2-4790-f58c-b419164302c2"
   },
   "execution_count": 79,
   "outputs": [
    {
     "output_type": "execute_result",
     "data": {
      "text/plain": [
       "DeviceArray([20, 40, 90, 30, 25], dtype=int32)"
      ]
     },
     "metadata": {},
     "execution_count": 79
    }
   ]
  },
  {
   "cell_type": "markdown",
   "source": [
    "## Using jit() to speed up functions"
   ],
   "metadata": {
    "id": "qGWkbxgUxoaI"
   }
  },
  {
   "cell_type": "code",
   "source": [
    "def test_fn(sample_rate=3000,frequency=3):\n",
    "  x = jnp.arange(sample_rate) \n",
    "  y = np.sin(2*jnp.pi*frequency * (frequency/sample_rate)) \n",
    "  return jnp.dot(x,y)"
   ],
   "metadata": {
    "id": "LG13MQaKuMUA"
   },
   "execution_count": 60,
   "outputs": []
  },
  {
   "cell_type": "code",
   "source": [
    "%timeit test_fn()"
   ],
   "metadata": {
    "colab": {
     "base_uri": "https://localhost:8080/"
    },
    "id": "I5kdhTKizTT9",
    "outputId": "954921b4-ea46-4950-b757-3316a6770690"
   },
   "execution_count": 61,
   "outputs": [
    {
     "output_type": "stream",
     "name": "stdout",
     "text": [
      "The slowest run took 704.38 times longer than the fastest. This could mean that an intermediate result is being cached.\n",
      "10000 loops, best of 5: 76.1 µs per loop\n"
     ]
    }
   ]
  },
  {
   "cell_type": "code",
   "source": [
    "test_fn_jit = jax.jit(test_fn)\n",
    "%timeit test_fn_jit().block_until_ready()"
   ],
   "metadata": {
    "colab": {
     "base_uri": "https://localhost:8080/"
    },
    "id": "qPR5kG2ezTV3",
    "outputId": "e94aaeb7-769c-4c7b-a322-c743aba9514a"
   },
   "execution_count": 62,
   "outputs": [
    {
     "output_type": "stream",
     "name": "stdout",
     "text": [
      "The slowest run took 13996.83 times longer than the fastest. This could mean that an intermediate result is being cached.\n",
      "100000 loops, best of 5: 4.54 µs per loop\n"
     ]
    }
   ]
  },
  {
   "cell_type": "markdown",
   "source": [
    "## How JIT works"
   ],
   "metadata": {
    "id": "E52-kxUBCSAs"
   }
  },
  {
   "cell_type": "markdown",
   "source": [
    "By default JAX executes operations one at a time, in sequence.\n",
    "\n",
    "Using a just-in-time (JIT) compilation decorator, sequences of operations can be optimized together and run at once.\n",
    "\n",
    "Not all JAX code can be JIT compiled, as it requires array shapes to be static & known at compile time.\n",
    "\n",
    "The fact that all JAX operations are expressed in terms of XLA allows JAX to use the XLA compiler to execute blocks of code very efficiently."
   ],
   "metadata": {
    "id": "INKbAOnaDP-S"
   }
  },
  {
   "cell_type": "code",
   "source": [
    "@jax.jit\n",
    "def f(x, y):\n",
    "  print(\"Running f():\")\n",
    "  print(f\"  x = {x}\")\n",
    "  print(f\"  y = {y}\")\n",
    "  result = jnp.dot(x + 1, y + 1)\n",
    "  print(f\"  result = {result}\")\n",
    "  return result\n",
    "\n",
    "x = np.random.randn(3, 4)\n",
    "y = np.random.randn(4)\n",
    "f(x, y)"
   ],
   "metadata": {
    "colab": {
     "base_uri": "https://localhost:8080/"
    },
    "id": "jOMsDeIpCV-m",
    "outputId": "36b8e203-8410-40b8-b216-33894e67a8a3"
   },
   "execution_count": null,
   "outputs": [
    {
     "output_type": "stream",
     "name": "stdout",
     "text": [
      "Running f():\n",
      "  x = Traced<ShapedArray(float32[3,4])>with<DynamicJaxprTrace(level=0/1)>\n",
      "  y = Traced<ShapedArray(float32[4])>with<DynamicJaxprTrace(level=0/1)>\n",
      "  result = Traced<ShapedArray(float32[3])>with<DynamicJaxprTrace(level=0/1)>\n"
     ]
    },
    {
     "output_type": "execute_result",
     "data": {
      "text/plain": [
       "DeviceArray([3.7037132, 1.5194231, 5.3635793], dtype=float32)"
      ]
     },
     "metadata": {},
     "execution_count": 128
    }
   ]
  },
  {
   "cell_type": "code",
   "source": [
    "x2 = np.random.randn(3, 4)\n",
    "y2 = np.random.randn(4)\n",
    "f(x2, y2)"
   ],
   "metadata": {
    "colab": {
     "base_uri": "https://localhost:8080/"
    },
    "id": "hpXZFlOTCVvv",
    "outputId": "fb6fbbb0-20f3-4722-fff7-9830ca3f3020"
   },
   "execution_count": null,
   "outputs": [
    {
     "output_type": "execute_result",
     "data": {
      "text/plain": [
       "DeviceArray([-3.1307886, -2.3813279, -0.6085395], dtype=float32)"
      ]
     },
     "metadata": {},
     "execution_count": 129
    }
   ]
  },
  {
   "cell_type": "code",
   "source": [
    "from jax import make_jaxpr\n",
    "\n",
    "def f(x, y):\n",
    "  return jnp.dot(x + 1, y + 1)\n",
    "\n",
    "make_jaxpr(f)(x, y)"
   ],
   "metadata": {
    "colab": {
     "base_uri": "https://localhost:8080/"
    },
    "id": "RQ7fvDZxGSms",
    "outputId": "f64f0961-2450-48de-c0b3-0a4ad9de1873"
   },
   "execution_count": null,
   "outputs": [
    {
     "output_type": "execute_result",
     "data": {
      "text/plain": [
       "{ lambda ; a:f32[3,4] b:f32[4]. let\n",
       "    c:f32[3,4] = add a 1.0\n",
       "    d:f32[4] = add b 1.0\n",
       "    e:f32[3] = dot_general[\n",
       "      dimension_numbers=(((1,), (0,)), ((), ()))\n",
       "      precision=None\n",
       "      preferred_element_type=None\n",
       "    ] c d\n",
       "  in (e,) }"
      ]
     },
     "metadata": {},
     "execution_count": 130
    }
   ]
  },
  {
   "cell_type": "code",
   "source": [
    "@jax.jit\n",
    "def f(boolean, x):\n",
    "  return -x if boolean else x\n",
    "\n",
    "f(True, 1)"
   ],
   "metadata": {
    "colab": {
     "base_uri": "https://localhost:8080/",
     "height": 728
    },
    "id": "GPqk7g_WHuKC",
    "outputId": "dd41fca6-8735-465c-9f01-da33cddd8e39"
   },
   "execution_count": null,
   "outputs": [
    {
     "output_type": "error",
     "ename": "ConcretizationTypeError",
     "evalue": "ignored",
     "traceback": [
      "\u001B[0;31m---------------------------------------------------------------------------\u001B[0m",
      "\u001B[0;31mUnfilteredStackTrace\u001B[0m                      Traceback (most recent call last)",
      "\u001B[0;32m<ipython-input-135-0a57f26bc138>\u001B[0m in \u001B[0;36m<module>\u001B[0;34m()\u001B[0m\n\u001B[1;32m      4\u001B[0m \u001B[0;34m\u001B[0m\u001B[0m\n\u001B[0;32m----> 5\u001B[0;31m \u001B[0mf\u001B[0m\u001B[0;34m(\u001B[0m\u001B[0;32mTrue\u001B[0m\u001B[0;34m,\u001B[0m \u001B[0;36m1\u001B[0m\u001B[0;34m)\u001B[0m\u001B[0;34m\u001B[0m\u001B[0;34m\u001B[0m\u001B[0m\n\u001B[0m",
      "\u001B[0;32m/usr/local/lib/python3.7/dist-packages/jax/_src/traceback_util.py\u001B[0m in \u001B[0;36mreraise_with_filtered_traceback\u001B[0;34m(*args, **kwargs)\u001B[0m\n\u001B[1;32m    161\u001B[0m     \u001B[0;32mtry\u001B[0m\u001B[0;34m:\u001B[0m\u001B[0;34m\u001B[0m\u001B[0;34m\u001B[0m\u001B[0m\n\u001B[0;32m--> 162\u001B[0;31m       \u001B[0;32mreturn\u001B[0m \u001B[0mfun\u001B[0m\u001B[0;34m(\u001B[0m\u001B[0;34m*\u001B[0m\u001B[0margs\u001B[0m\u001B[0;34m,\u001B[0m \u001B[0;34m**\u001B[0m\u001B[0mkwargs\u001B[0m\u001B[0;34m)\u001B[0m\u001B[0;34m\u001B[0m\u001B[0;34m\u001B[0m\u001B[0m\n\u001B[0m\u001B[1;32m    163\u001B[0m     \u001B[0;32mexcept\u001B[0m \u001B[0mException\u001B[0m \u001B[0;32mas\u001B[0m \u001B[0me\u001B[0m\u001B[0;34m:\u001B[0m\u001B[0;34m\u001B[0m\u001B[0;34m\u001B[0m\u001B[0m\n",
      "\u001B[0;32m/usr/local/lib/python3.7/dist-packages/jax/_src/api.py\u001B[0m in \u001B[0;36mcache_miss\u001B[0;34m(*args, **kwargs)\u001B[0m\n\u001B[1;32m    467\u001B[0m         \u001B[0mdevice\u001B[0m\u001B[0;34m=\u001B[0m\u001B[0mdevice\u001B[0m\u001B[0;34m,\u001B[0m \u001B[0mbackend\u001B[0m\u001B[0;34m=\u001B[0m\u001B[0mbackend\u001B[0m\u001B[0;34m,\u001B[0m \u001B[0mname\u001B[0m\u001B[0;34m=\u001B[0m\u001B[0mflat_fun\u001B[0m\u001B[0;34m.\u001B[0m\u001B[0m__name__\u001B[0m\u001B[0;34m,\u001B[0m\u001B[0;34m\u001B[0m\u001B[0;34m\u001B[0m\u001B[0m\n\u001B[0;32m--> 468\u001B[0;31m         donated_invars=donated_invars, inline=inline)\n\u001B[0m\u001B[1;32m    469\u001B[0m     \u001B[0mout_pytree_def\u001B[0m \u001B[0;34m=\u001B[0m \u001B[0mout_tree\u001B[0m\u001B[0;34m(\u001B[0m\u001B[0;34m)\u001B[0m\u001B[0;34m\u001B[0m\u001B[0;34m\u001B[0m\u001B[0m\n",
      "\u001B[0;32m/usr/local/lib/python3.7/dist-packages/jax/core.py\u001B[0m in \u001B[0;36mbind\u001B[0;34m(self, fun, *args, **params)\u001B[0m\n\u001B[1;32m   1795\u001B[0m   \u001B[0;32mdef\u001B[0m \u001B[0mbind\u001B[0m\u001B[0;34m(\u001B[0m\u001B[0mself\u001B[0m\u001B[0;34m,\u001B[0m \u001B[0mfun\u001B[0m\u001B[0;34m,\u001B[0m \u001B[0;34m*\u001B[0m\u001B[0margs\u001B[0m\u001B[0;34m,\u001B[0m \u001B[0;34m**\u001B[0m\u001B[0mparams\u001B[0m\u001B[0;34m)\u001B[0m\u001B[0;34m:\u001B[0m\u001B[0;34m\u001B[0m\u001B[0;34m\u001B[0m\u001B[0m\n\u001B[0;32m-> 1796\u001B[0;31m     \u001B[0;32mreturn\u001B[0m \u001B[0mcall_bind\u001B[0m\u001B[0;34m(\u001B[0m\u001B[0mself\u001B[0m\u001B[0;34m,\u001B[0m \u001B[0mfun\u001B[0m\u001B[0;34m,\u001B[0m \u001B[0;34m*\u001B[0m\u001B[0margs\u001B[0m\u001B[0;34m,\u001B[0m \u001B[0;34m**\u001B[0m\u001B[0mparams\u001B[0m\u001B[0;34m)\u001B[0m\u001B[0;34m\u001B[0m\u001B[0;34m\u001B[0m\u001B[0m\n\u001B[0m\u001B[1;32m   1797\u001B[0m \u001B[0;34m\u001B[0m\u001B[0m\n",
      "\u001B[0;32m/usr/local/lib/python3.7/dist-packages/jax/core.py\u001B[0m in \u001B[0;36mcall_bind\u001B[0;34m(primitive, fun, *args, **params)\u001B[0m\n\u001B[1;32m   1811\u001B[0m   \u001B[0mfun_\u001B[0m \u001B[0;34m=\u001B[0m \u001B[0mlu\u001B[0m\u001B[0;34m.\u001B[0m\u001B[0mannotate\u001B[0m\u001B[0;34m(\u001B[0m\u001B[0mfun_\u001B[0m\u001B[0;34m,\u001B[0m \u001B[0mfun\u001B[0m\u001B[0;34m.\u001B[0m\u001B[0min_type\u001B[0m\u001B[0;34m)\u001B[0m\u001B[0;34m\u001B[0m\u001B[0;34m\u001B[0m\u001B[0m\n\u001B[0;32m-> 1812\u001B[0;31m   \u001B[0mouts\u001B[0m \u001B[0;34m=\u001B[0m \u001B[0mtop_trace\u001B[0m\u001B[0;34m.\u001B[0m\u001B[0mprocess_call\u001B[0m\u001B[0;34m(\u001B[0m\u001B[0mprimitive\u001B[0m\u001B[0;34m,\u001B[0m \u001B[0mfun_\u001B[0m\u001B[0;34m,\u001B[0m \u001B[0mtracers\u001B[0m\u001B[0;34m,\u001B[0m \u001B[0mparams\u001B[0m\u001B[0;34m)\u001B[0m\u001B[0;34m\u001B[0m\u001B[0;34m\u001B[0m\u001B[0m\n\u001B[0m\u001B[1;32m   1813\u001B[0m   \u001B[0;32mreturn\u001B[0m \u001B[0mmap\u001B[0m\u001B[0;34m(\u001B[0m\u001B[0mfull_lower\u001B[0m\u001B[0;34m,\u001B[0m \u001B[0mapply_todos\u001B[0m\u001B[0;34m(\u001B[0m\u001B[0menv_trace_todo\u001B[0m\u001B[0;34m(\u001B[0m\u001B[0;34m)\u001B[0m\u001B[0;34m,\u001B[0m \u001B[0mouts\u001B[0m\u001B[0;34m)\u001B[0m\u001B[0;34m)\u001B[0m\u001B[0;34m\u001B[0m\u001B[0;34m\u001B[0m\u001B[0m\n",
      "\u001B[0;32m/usr/local/lib/python3.7/dist-packages/jax/core.py\u001B[0m in \u001B[0;36mprocess_call\u001B[0;34m(self, primitive, f, tracers, params)\u001B[0m\n\u001B[1;32m    680\u001B[0m   \u001B[0;32mdef\u001B[0m \u001B[0mprocess_call\u001B[0m\u001B[0;34m(\u001B[0m\u001B[0mself\u001B[0m\u001B[0;34m,\u001B[0m \u001B[0mprimitive\u001B[0m\u001B[0;34m,\u001B[0m \u001B[0mf\u001B[0m\u001B[0;34m,\u001B[0m \u001B[0mtracers\u001B[0m\u001B[0;34m,\u001B[0m \u001B[0mparams\u001B[0m\u001B[0;34m)\u001B[0m\u001B[0;34m:\u001B[0m\u001B[0;34m\u001B[0m\u001B[0;34m\u001B[0m\u001B[0m\n\u001B[0;32m--> 681\u001B[0;31m     \u001B[0;32mreturn\u001B[0m \u001B[0mprimitive\u001B[0m\u001B[0;34m.\u001B[0m\u001B[0mimpl\u001B[0m\u001B[0;34m(\u001B[0m\u001B[0mf\u001B[0m\u001B[0;34m,\u001B[0m \u001B[0;34m*\u001B[0m\u001B[0mtracers\u001B[0m\u001B[0;34m,\u001B[0m \u001B[0;34m**\u001B[0m\u001B[0mparams\u001B[0m\u001B[0;34m)\u001B[0m\u001B[0;34m\u001B[0m\u001B[0;34m\u001B[0m\u001B[0m\n\u001B[0m\u001B[1;32m    682\u001B[0m   \u001B[0mprocess_map\u001B[0m \u001B[0;34m=\u001B[0m \u001B[0mprocess_call\u001B[0m\u001B[0;34m\u001B[0m\u001B[0;34m\u001B[0m\u001B[0m\n",
      "\u001B[0;32m/usr/local/lib/python3.7/dist-packages/jax/_src/dispatch.py\u001B[0m in \u001B[0;36m_xla_call_impl\u001B[0;34m(***failed resolving arguments***)\u001B[0m\n\u001B[1;32m    149\u001B[0m   compiled_fun = _xla_callable(fun, device, backend, name, donated_invars,\n\u001B[0;32m--> 150\u001B[0;31m                                *arg_specs)\n\u001B[0m\u001B[1;32m    151\u001B[0m   \u001B[0;32mtry\u001B[0m\u001B[0;34m:\u001B[0m\u001B[0;34m\u001B[0m\u001B[0;34m\u001B[0m\u001B[0m\n",
      "\u001B[0;32m/usr/local/lib/python3.7/dist-packages/jax/linear_util.py\u001B[0m in \u001B[0;36mmemoized_fun\u001B[0;34m(fun, *args)\u001B[0m\n\u001B[1;32m    284\u001B[0m     \u001B[0;32melse\u001B[0m\u001B[0;34m:\u001B[0m\u001B[0;34m\u001B[0m\u001B[0;34m\u001B[0m\u001B[0m\n\u001B[0;32m--> 285\u001B[0;31m       \u001B[0mans\u001B[0m \u001B[0;34m=\u001B[0m \u001B[0mcall\u001B[0m\u001B[0;34m(\u001B[0m\u001B[0mfun\u001B[0m\u001B[0;34m,\u001B[0m \u001B[0;34m*\u001B[0m\u001B[0margs\u001B[0m\u001B[0;34m)\u001B[0m\u001B[0;34m\u001B[0m\u001B[0;34m\u001B[0m\u001B[0m\n\u001B[0m\u001B[1;32m    286\u001B[0m       \u001B[0mcache\u001B[0m\u001B[0;34m[\u001B[0m\u001B[0mkey\u001B[0m\u001B[0;34m]\u001B[0m \u001B[0;34m=\u001B[0m \u001B[0;34m(\u001B[0m\u001B[0mans\u001B[0m\u001B[0;34m,\u001B[0m \u001B[0mfun\u001B[0m\u001B[0;34m.\u001B[0m\u001B[0mstores\u001B[0m\u001B[0;34m)\u001B[0m\u001B[0;34m\u001B[0m\u001B[0;34m\u001B[0m\u001B[0m\n",
      "\u001B[0;32m/usr/local/lib/python3.7/dist-packages/jax/_src/dispatch.py\u001B[0m in \u001B[0;36m_xla_callable_uncached\u001B[0;34m(fun, device, backend, name, donated_invars, *arg_specs)\u001B[0m\n\u001B[1;32m    197\u001B[0m   return lower_xla_callable(fun, device, backend, name, donated_invars, False,\n\u001B[0;32m--> 198\u001B[0;31m                             *arg_specs).compile().unsafe_call\n\u001B[0m\u001B[1;32m    199\u001B[0m \u001B[0;34m\u001B[0m\u001B[0m\n",
      "\u001B[0;32m/usr/local/lib/python3.7/dist-packages/jax/_src/profiler.py\u001B[0m in \u001B[0;36mwrapper\u001B[0;34m(*args, **kwargs)\u001B[0m\n\u001B[1;32m    205\u001B[0m     \u001B[0;32mwith\u001B[0m \u001B[0mTraceAnnotation\u001B[0m\u001B[0;34m(\u001B[0m\u001B[0mname\u001B[0m\u001B[0;34m,\u001B[0m \u001B[0;34m**\u001B[0m\u001B[0mdecorator_kwargs\u001B[0m\u001B[0;34m)\u001B[0m\u001B[0;34m:\u001B[0m\u001B[0;34m\u001B[0m\u001B[0;34m\u001B[0m\u001B[0m\n\u001B[0;32m--> 206\u001B[0;31m       \u001B[0;32mreturn\u001B[0m \u001B[0mfunc\u001B[0m\u001B[0;34m(\u001B[0m\u001B[0;34m*\u001B[0m\u001B[0margs\u001B[0m\u001B[0;34m,\u001B[0m \u001B[0;34m**\u001B[0m\u001B[0mkwargs\u001B[0m\u001B[0;34m)\u001B[0m\u001B[0;34m\u001B[0m\u001B[0;34m\u001B[0m\u001B[0m\n\u001B[0m\u001B[1;32m    207\u001B[0m     \u001B[0;32mreturn\u001B[0m \u001B[0mwrapper\u001B[0m\u001B[0;34m\u001B[0m\u001B[0;34m\u001B[0m\u001B[0m\n",
      "\u001B[0;32m/usr/local/lib/python3.7/dist-packages/jax/_src/dispatch.py\u001B[0m in \u001B[0;36mlower_xla_callable\u001B[0;34m(fun, device, backend, name, donated_invars, always_lower, *arg_specs)\u001B[0m\n\u001B[1;32m    228\u001B[0m     jaxpr, out_avals, consts = pe.trace_to_jaxpr_final(\n\u001B[0;32m--> 229\u001B[0;31m         fun, abstract_args, pe.debug_info_final(fun, \"jit\"), which_explicit)\n\u001B[0m\u001B[1;32m    230\u001B[0m   \u001B[0;32mif\u001B[0m \u001B[0many\u001B[0m\u001B[0;34m(\u001B[0m\u001B[0misinstance\u001B[0m\u001B[0;34m(\u001B[0m\u001B[0mc\u001B[0m\u001B[0;34m,\u001B[0m \u001B[0mcore\u001B[0m\u001B[0;34m.\u001B[0m\u001B[0mTracer\u001B[0m\u001B[0;34m)\u001B[0m \u001B[0;32mfor\u001B[0m \u001B[0mc\u001B[0m \u001B[0;32min\u001B[0m \u001B[0mconsts\u001B[0m\u001B[0;34m)\u001B[0m\u001B[0;34m:\u001B[0m\u001B[0;34m\u001B[0m\u001B[0;34m\u001B[0m\u001B[0m\n",
      "\u001B[0;32m/usr/local/lib/python3.7/dist-packages/jax/_src/profiler.py\u001B[0m in \u001B[0;36mwrapper\u001B[0;34m(*args, **kwargs)\u001B[0m\n\u001B[1;32m    205\u001B[0m     \u001B[0;32mwith\u001B[0m \u001B[0mTraceAnnotation\u001B[0m\u001B[0;34m(\u001B[0m\u001B[0mname\u001B[0m\u001B[0;34m,\u001B[0m \u001B[0;34m**\u001B[0m\u001B[0mdecorator_kwargs\u001B[0m\u001B[0;34m)\u001B[0m\u001B[0;34m:\u001B[0m\u001B[0;34m\u001B[0m\u001B[0;34m\u001B[0m\u001B[0m\n\u001B[0;32m--> 206\u001B[0;31m       \u001B[0;32mreturn\u001B[0m \u001B[0mfunc\u001B[0m\u001B[0;34m(\u001B[0m\u001B[0;34m*\u001B[0m\u001B[0margs\u001B[0m\u001B[0;34m,\u001B[0m \u001B[0;34m**\u001B[0m\u001B[0mkwargs\u001B[0m\u001B[0;34m)\u001B[0m\u001B[0;34m\u001B[0m\u001B[0;34m\u001B[0m\u001B[0m\n\u001B[0m\u001B[1;32m    207\u001B[0m     \u001B[0;32mreturn\u001B[0m \u001B[0mwrapper\u001B[0m\u001B[0;34m\u001B[0m\u001B[0;34m\u001B[0m\u001B[0m\n",
      "\u001B[0;32m/usr/local/lib/python3.7/dist-packages/jax/interpreters/partial_eval.py\u001B[0m in \u001B[0;36mtrace_to_jaxpr_final\u001B[0;34m(fun, in_avals, debug_info, keep_inputs)\u001B[0m\n\u001B[1;32m   1854\u001B[0m       jaxpr, out_avals, consts = trace_to_subjaxpr_dynamic(\n\u001B[0;32m-> 1855\u001B[0;31m         fun, main, in_avals, keep_inputs=keep_inputs)\n\u001B[0m\u001B[1;32m   1856\u001B[0m     \u001B[0;32mdel\u001B[0m \u001B[0mfun\u001B[0m\u001B[0;34m,\u001B[0m \u001B[0mmain\u001B[0m\u001B[0;34m\u001B[0m\u001B[0;34m\u001B[0m\u001B[0m\n",
      "\u001B[0;32m/usr/local/lib/python3.7/dist-packages/jax/interpreters/partial_eval.py\u001B[0m in \u001B[0;36mtrace_to_subjaxpr_dynamic\u001B[0;34m(fun, main, in_avals, keep_inputs)\u001B[0m\n\u001B[1;32m   1825\u001B[0m     \u001B[0min_tracers_\u001B[0m \u001B[0;34m=\u001B[0m \u001B[0;34m[\u001B[0m\u001B[0mt\u001B[0m \u001B[0;32mfor\u001B[0m \u001B[0mt\u001B[0m\u001B[0;34m,\u001B[0m \u001B[0mkeep\u001B[0m \u001B[0;32min\u001B[0m \u001B[0mzip\u001B[0m\u001B[0;34m(\u001B[0m\u001B[0min_tracers\u001B[0m\u001B[0;34m,\u001B[0m \u001B[0mkeep_inputs\u001B[0m\u001B[0;34m)\u001B[0m \u001B[0;32mif\u001B[0m \u001B[0mkeep\u001B[0m\u001B[0;34m]\u001B[0m\u001B[0;34m\u001B[0m\u001B[0;34m\u001B[0m\u001B[0m\n\u001B[0;32m-> 1826\u001B[0;31m     \u001B[0mans\u001B[0m \u001B[0;34m=\u001B[0m \u001B[0mfun\u001B[0m\u001B[0;34m.\u001B[0m\u001B[0mcall_wrapped\u001B[0m\u001B[0;34m(\u001B[0m\u001B[0;34m*\u001B[0m\u001B[0min_tracers_\u001B[0m\u001B[0;34m)\u001B[0m\u001B[0;34m\u001B[0m\u001B[0;34m\u001B[0m\u001B[0m\n\u001B[0m\u001B[1;32m   1827\u001B[0m     \u001B[0mout_tracers\u001B[0m \u001B[0;34m=\u001B[0m \u001B[0mmap\u001B[0m\u001B[0;34m(\u001B[0m\u001B[0mtrace\u001B[0m\u001B[0;34m.\u001B[0m\u001B[0mfull_raise\u001B[0m\u001B[0;34m,\u001B[0m \u001B[0mans\u001B[0m\u001B[0;34m)\u001B[0m\u001B[0;34m\u001B[0m\u001B[0;34m\u001B[0m\u001B[0m\n",
      "\u001B[0;32m/usr/local/lib/python3.7/dist-packages/jax/linear_util.py\u001B[0m in \u001B[0;36mcall_wrapped\u001B[0;34m(self, *args, **kwargs)\u001B[0m\n\u001B[1;32m    167\u001B[0m     \u001B[0;32mtry\u001B[0m\u001B[0;34m:\u001B[0m\u001B[0;34m\u001B[0m\u001B[0;34m\u001B[0m\u001B[0m\n\u001B[0;32m--> 168\u001B[0;31m       \u001B[0mans\u001B[0m \u001B[0;34m=\u001B[0m \u001B[0mself\u001B[0m\u001B[0;34m.\u001B[0m\u001B[0mf\u001B[0m\u001B[0;34m(\u001B[0m\u001B[0;34m*\u001B[0m\u001B[0margs\u001B[0m\u001B[0;34m,\u001B[0m \u001B[0;34m**\u001B[0m\u001B[0mdict\u001B[0m\u001B[0;34m(\u001B[0m\u001B[0mself\u001B[0m\u001B[0;34m.\u001B[0m\u001B[0mparams\u001B[0m\u001B[0;34m,\u001B[0m \u001B[0;34m**\u001B[0m\u001B[0mkwargs\u001B[0m\u001B[0;34m)\u001B[0m\u001B[0;34m)\u001B[0m\u001B[0;34m\u001B[0m\u001B[0;34m\u001B[0m\u001B[0m\n\u001B[0m\u001B[1;32m    169\u001B[0m     \u001B[0;32mexcept\u001B[0m\u001B[0;34m:\u001B[0m\u001B[0;34m\u001B[0m\u001B[0;34m\u001B[0m\u001B[0m\n",
      "\u001B[0;32m<ipython-input-135-0a57f26bc138>\u001B[0m in \u001B[0;36mf\u001B[0;34m(boolean, x)\u001B[0m\n\u001B[1;32m      2\u001B[0m \u001B[0;32mdef\u001B[0m \u001B[0mf\u001B[0m\u001B[0;34m(\u001B[0m\u001B[0mboolean\u001B[0m\u001B[0;34m,\u001B[0m \u001B[0mx\u001B[0m\u001B[0;34m)\u001B[0m\u001B[0;34m:\u001B[0m\u001B[0;34m\u001B[0m\u001B[0;34m\u001B[0m\u001B[0m\n\u001B[0;32m----> 3\u001B[0;31m   \u001B[0;32mreturn\u001B[0m \u001B[0;34m-\u001B[0m\u001B[0mx\u001B[0m \u001B[0;32mif\u001B[0m \u001B[0mboolean\u001B[0m \u001B[0;32melse\u001B[0m \u001B[0mx\u001B[0m\u001B[0;34m\u001B[0m\u001B[0;34m\u001B[0m\u001B[0m\n\u001B[0m\u001B[1;32m      4\u001B[0m \u001B[0;34m\u001B[0m\u001B[0m\n",
      "\u001B[0;32m/usr/local/lib/python3.7/dist-packages/jax/core.py\u001B[0m in \u001B[0;36m__bool__\u001B[0;34m(self)\u001B[0m\n\u001B[1;32m    602\u001B[0m   \u001B[0;32mdef\u001B[0m \u001B[0m__nonzero__\u001B[0m\u001B[0;34m(\u001B[0m\u001B[0mself\u001B[0m\u001B[0;34m)\u001B[0m\u001B[0;34m:\u001B[0m \u001B[0;32mreturn\u001B[0m \u001B[0mself\u001B[0m\u001B[0;34m.\u001B[0m\u001B[0maval\u001B[0m\u001B[0;34m.\u001B[0m\u001B[0m_nonzero\u001B[0m\u001B[0;34m(\u001B[0m\u001B[0mself\u001B[0m\u001B[0;34m)\u001B[0m\u001B[0;34m\u001B[0m\u001B[0;34m\u001B[0m\u001B[0m\n\u001B[0;32m--> 603\u001B[0;31m   \u001B[0;32mdef\u001B[0m \u001B[0m__bool__\u001B[0m\u001B[0;34m(\u001B[0m\u001B[0mself\u001B[0m\u001B[0;34m)\u001B[0m\u001B[0;34m:\u001B[0m \u001B[0;32mreturn\u001B[0m \u001B[0mself\u001B[0m\u001B[0;34m.\u001B[0m\u001B[0maval\u001B[0m\u001B[0;34m.\u001B[0m\u001B[0m_bool\u001B[0m\u001B[0;34m(\u001B[0m\u001B[0mself\u001B[0m\u001B[0;34m)\u001B[0m\u001B[0;34m\u001B[0m\u001B[0;34m\u001B[0m\u001B[0m\n\u001B[0m\u001B[1;32m    604\u001B[0m   \u001B[0;32mdef\u001B[0m \u001B[0m__int__\u001B[0m\u001B[0;34m(\u001B[0m\u001B[0mself\u001B[0m\u001B[0;34m)\u001B[0m\u001B[0;34m:\u001B[0m \u001B[0;32mreturn\u001B[0m \u001B[0mself\u001B[0m\u001B[0;34m.\u001B[0m\u001B[0maval\u001B[0m\u001B[0;34m.\u001B[0m\u001B[0m_int\u001B[0m\u001B[0;34m(\u001B[0m\u001B[0mself\u001B[0m\u001B[0;34m)\u001B[0m\u001B[0;34m\u001B[0m\u001B[0;34m\u001B[0m\u001B[0m\n",
      "\u001B[0;32m/usr/local/lib/python3.7/dist-packages/jax/core.py\u001B[0m in \u001B[0;36merror\u001B[0;34m(self, arg)\u001B[0m\n\u001B[1;32m   1143\u001B[0m   \u001B[0;32mdef\u001B[0m \u001B[0merror\u001B[0m\u001B[0;34m(\u001B[0m\u001B[0mself\u001B[0m\u001B[0;34m,\u001B[0m \u001B[0marg\u001B[0m\u001B[0;34m)\u001B[0m\u001B[0;34m:\u001B[0m\u001B[0;34m\u001B[0m\u001B[0;34m\u001B[0m\u001B[0m\n\u001B[0;32m-> 1144\u001B[0;31m     \u001B[0;32mraise\u001B[0m \u001B[0mConcretizationTypeError\u001B[0m\u001B[0;34m(\u001B[0m\u001B[0marg\u001B[0m\u001B[0;34m,\u001B[0m \u001B[0mfname_context\u001B[0m\u001B[0;34m)\u001B[0m\u001B[0;34m\u001B[0m\u001B[0;34m\u001B[0m\u001B[0m\n\u001B[0m\u001B[1;32m   1145\u001B[0m   \u001B[0;32mreturn\u001B[0m \u001B[0merror\u001B[0m\u001B[0;34m\u001B[0m\u001B[0;34m\u001B[0m\u001B[0m\n",
      "\u001B[0;31mUnfilteredStackTrace\u001B[0m: jax._src.errors.ConcretizationTypeError: Abstract tracer value encountered where concrete value is expected: Traced<ShapedArray(bool[], weak_type=True)>with<DynamicJaxprTrace(level=0/1)>\nThe problem arose with the `bool` function. \nWhile tracing the function f at <ipython-input-135-0a57f26bc138>:1 for jit, this concrete value was not available in Python because it depends on the value of the argument 'boolean'.\n\nSee https://jax.readthedocs.io/en/latest/errors.html#jax.errors.ConcretizationTypeError\n\nThe stack trace below excludes JAX-internal frames.\nThe preceding is the original exception that occurred, unmodified.\n\n--------------------",
      "\nThe above exception was the direct cause of the following exception:\n",
      "\u001B[0;31mConcretizationTypeError\u001B[0m                   Traceback (most recent call last)",
      "\u001B[0;32m<ipython-input-135-0a57f26bc138>\u001B[0m in \u001B[0;36m<module>\u001B[0;34m()\u001B[0m\n\u001B[1;32m      3\u001B[0m   \u001B[0;32mreturn\u001B[0m \u001B[0;34m-\u001B[0m\u001B[0mx\u001B[0m \u001B[0;32mif\u001B[0m \u001B[0mboolean\u001B[0m \u001B[0;32melse\u001B[0m \u001B[0mx\u001B[0m\u001B[0;34m\u001B[0m\u001B[0;34m\u001B[0m\u001B[0m\n\u001B[1;32m      4\u001B[0m \u001B[0;34m\u001B[0m\u001B[0m\n\u001B[0;32m----> 5\u001B[0;31m \u001B[0mf\u001B[0m\u001B[0;34m(\u001B[0m\u001B[0;32mTrue\u001B[0m\u001B[0;34m,\u001B[0m \u001B[0;36m1\u001B[0m\u001B[0;34m)\u001B[0m\u001B[0;34m\u001B[0m\u001B[0;34m\u001B[0m\u001B[0m\n\u001B[0m",
      "\u001B[0;32m<ipython-input-135-0a57f26bc138>\u001B[0m in \u001B[0;36mf\u001B[0;34m(boolean, x)\u001B[0m\n\u001B[1;32m      1\u001B[0m \u001B[0;34m@\u001B[0m\u001B[0mjax\u001B[0m\u001B[0;34m.\u001B[0m\u001B[0mjit\u001B[0m\u001B[0;34m\u001B[0m\u001B[0;34m\u001B[0m\u001B[0m\n\u001B[1;32m      2\u001B[0m \u001B[0;32mdef\u001B[0m \u001B[0mf\u001B[0m\u001B[0;34m(\u001B[0m\u001B[0mboolean\u001B[0m\u001B[0;34m,\u001B[0m \u001B[0mx\u001B[0m\u001B[0;34m)\u001B[0m\u001B[0;34m:\u001B[0m\u001B[0;34m\u001B[0m\u001B[0;34m\u001B[0m\u001B[0m\n\u001B[0;32m----> 3\u001B[0;31m   \u001B[0;32mreturn\u001B[0m \u001B[0;34m-\u001B[0m\u001B[0mx\u001B[0m \u001B[0;32mif\u001B[0m \u001B[0mboolean\u001B[0m \u001B[0;32melse\u001B[0m \u001B[0mx\u001B[0m\u001B[0;34m\u001B[0m\u001B[0;34m\u001B[0m\u001B[0m\n\u001B[0m\u001B[1;32m      4\u001B[0m \u001B[0;34m\u001B[0m\u001B[0m\n\u001B[1;32m      5\u001B[0m \u001B[0mf\u001B[0m\u001B[0;34m(\u001B[0m\u001B[0;32mTrue\u001B[0m\u001B[0;34m,\u001B[0m \u001B[0;36m1\u001B[0m\u001B[0;34m)\u001B[0m\u001B[0;34m\u001B[0m\u001B[0;34m\u001B[0m\u001B[0m\n",
      "\u001B[0;31mConcretizationTypeError\u001B[0m: Abstract tracer value encountered where concrete value is expected: Traced<ShapedArray(bool[], weak_type=True)>with<DynamicJaxprTrace(level=0/1)>\nThe problem arose with the `bool` function. \nWhile tracing the function f at <ipython-input-135-0a57f26bc138>:1 for jit, this concrete value was not available in Python because it depends on the value of the argument 'boolean'.\n\nSee https://jax.readthedocs.io/en/latest/errors.html#jax.errors.ConcretizationTypeError"
     ]
    }
   ]
  },
  {
   "cell_type": "code",
   "source": [
    "from functools import partial\n",
    "\n",
    "@partial(jax.jit, static_argnums=(0,))\n",
    "def f(boolean, x):\n",
    "  return -x if boolean else x\n",
    "\n",
    "f(True, 1)"
   ],
   "metadata": {
    "colab": {
     "base_uri": "https://localhost:8080/"
    },
    "id": "yU65BFb_ISJ5",
    "outputId": "fa5b35da-7bde-482d-8ef8-b7dce3ca44f9"
   },
   "execution_count": null,
   "outputs": [
    {
     "output_type": "execute_result",
     "data": {
      "text/plain": [
       "DeviceArray(-1, dtype=int32, weak_type=True)"
      ]
     },
     "metadata": {},
     "execution_count": 137
    }
   ]
  },
  {
   "cell_type": "code",
   "source": [
    "f(False, 1)"
   ],
   "metadata": {
    "colab": {
     "base_uri": "https://localhost:8080/"
    },
    "id": "vev6kS9rIlQl",
    "outputId": "a36df310-d399-4833-eef4-a613a654a4f4"
   },
   "execution_count": null,
   "outputs": [
    {
     "output_type": "execute_result",
     "data": {
      "text/plain": [
       "DeviceArray(1, dtype=int32, weak_type=True)"
      ]
     },
     "metadata": {},
     "execution_count": 138
    }
   ]
  },
  {
   "cell_type": "markdown",
   "source": [
    "## Taking derivatives with grad()"
   ],
   "metadata": {
    "id": "M36xke8Zz83q"
   }
  },
  {
   "cell_type": "code",
   "source": [
    "@jax.jit\n",
    "def sum_logistic(x):\n",
    "  return jnp.sum(1.0 / (1.0 + jnp.exp(-x)))\n",
    "\n",
    "x_small = jnp.arange(6.)\n",
    "derivative_fn = jax.grad(sum_logistic)\n",
    "print(derivative_fn(x_small))"
   ],
   "metadata": {
    "colab": {
     "base_uri": "https://localhost:8080/"
    },
    "id": "iG2-92D5z2MZ",
    "outputId": "eb27470e-9202-4055-ca6d-45807935c1f9"
   },
   "execution_count": 7,
   "outputs": [
    {
     "output_type": "stream",
     "name": "stdout",
     "text": [
      "[0.25       0.19661194 0.10499357 0.04517666 0.01766271 0.00664806]\n"
     ]
    }
   ]
  },
  {
   "cell_type": "code",
   "source": [
    "@jax.jit\n",
    "def sum_logistic(x):\n",
    "  return jnp.sum(1.0 / (1.0 + jnp.exp(-x))),(x + 1)\n",
    "\n",
    "x_small = jnp.arange(6.)\n",
    "derivative_fn = jax.grad(sum_logistic, has_aux=True)\n",
    "print(derivative_fn(x_small))"
   ],
   "metadata": {
    "colab": {
     "base_uri": "https://localhost:8080/"
    },
    "id": "MCt2xn4m-tkJ",
    "outputId": "55b8dc6e-96c7-44c9-d703-422050340499"
   },
   "execution_count": 9,
   "outputs": [
    {
     "output_type": "stream",
     "name": "stdout",
     "text": [
      "(DeviceArray([0.25      , 0.19661194, 0.10499357, 0.04517666, 0.01766271,\n",
      "             0.00664806], dtype=float32), DeviceArray([1., 2., 3., 4., 5., 6.], dtype=float32))\n"
     ]
    }
   ]
  },
  {
   "cell_type": "code",
   "source": [
    "arcsinh = jax.grad(jax.numpy.arcsinh)\n",
    "print(arcsinh(0.9))"
   ],
   "metadata": {
    "colab": {
     "base_uri": "https://localhost:8080/"
    },
    "id": "Q-tSAXWf33tW",
    "outputId": "9e798284-1f7d-4162-a6e8-1bad39fe3fd6"
   },
   "execution_count": 6,
   "outputs": [
    {
     "output_type": "stream",
     "name": "stdout",
     "text": [
      "0.7432942\n"
     ]
    }
   ]
  },
  {
   "cell_type": "markdown",
   "source": [
    "## Auto-vectorization with vmap()"
   ],
   "metadata": {
    "id": "DYtLKr5B6Axm"
   }
  },
  {
   "cell_type": "code",
   "source": [
    "mat = jax.random.normal(key, (150, 100))\n",
    "batched_x = jax.random.normal(key, (10, 100))\n",
    "def apply_matrix(v):\n",
    "  return jnp.dot(mat, v)"
   ],
   "metadata": {
    "id": "04PiW-V-6S-Z"
   },
   "execution_count": null,
   "outputs": []
  },
  {
   "cell_type": "code",
   "source": [
    "def naively_batched_apply_matrix(v_batched):\n",
    "  return jnp.stack([apply_matrix(v) for v in v_batched])\n",
    "\n",
    "print('Naively batched')\n",
    "%timeit naively_batched_apply_matrix(batched_x).block_until_ready()"
   ],
   "metadata": {
    "colab": {
     "base_uri": "https://localhost:8080/"
    },
    "id": "90KHD9-N6axi",
    "outputId": "66ef53d8-8377-4a29-cef1-df354b1cd18c"
   },
   "execution_count": null,
   "outputs": [
    {
     "output_type": "stream",
     "name": "stdout",
     "text": [
      "Naively batched\n",
      "The slowest run took 67.91 times longer than the fastest. This could mean that an intermediate result is being cached.\n",
      "100 loops, best of 5: 2.35 ms per loop\n"
     ]
    }
   ]
  },
  {
   "cell_type": "code",
   "source": [
    "@jax.jit\n",
    "def batched_apply_matrix(v_batched):\n",
    "  return jnp.dot(v_batched, mat.T)\n",
    "\n",
    "print('Manually batched')\n",
    "%timeit batched_apply_matrix(batched_x).block_until_ready()"
   ],
   "metadata": {
    "colab": {
     "base_uri": "https://localhost:8080/"
    },
    "id": "3z6DH--96a_V",
    "outputId": "8108f43e-85da-417e-cd7c-8f67bcabe7e5"
   },
   "execution_count": null,
   "outputs": [
    {
     "output_type": "stream",
     "name": "stdout",
     "text": [
      "Manually batched\n",
      "The slowest run took 1684.56 times longer than the fastest. This could mean that an intermediate result is being cached.\n",
      "100000 loops, best of 5: 16.6 µs per loop\n"
     ]
    }
   ]
  },
  {
   "cell_type": "code",
   "source": [
    "@jax.jit\n",
    "def vmap_batched_apply_matrix(v_batched):\n",
    "  return jax.vmap(apply_matrix)(v_batched)\n",
    "\n",
    "print('Auto-vectorized with vmap')\n",
    "%timeit vmap_batched_apply_matrix(batched_x).block_until_ready()"
   ],
   "metadata": {
    "colab": {
     "base_uri": "https://localhost:8080/"
    },
    "id": "RqyvNzjp6S7q",
    "outputId": "95b6552c-a839-41b5-d57d-17e64c17b9c6"
   },
   "execution_count": null,
   "outputs": [
    {
     "output_type": "stream",
     "name": "stdout",
     "text": [
      "Auto-vectorized with vmap\n",
      "The slowest run took 449.09 times longer than the fastest. This could mean that an intermediate result is being cached.\n",
      "10000 loops, best of 5: 50.2 µs per loop\n"
     ]
    }
   ]
  },
  {
   "cell_type": "markdown",
   "source": [
    "## Parallelization with pmap"
   ],
   "metadata": {
    "id": "-hrqRY_B7a8D"
   }
  },
  {
   "cell_type": "code",
   "source": [
    "x = np.arange(5)\n",
    "w = np.array([2., 3., 4.])\n",
    "\n",
    "def convolve(x, w):\n",
    "  output = []\n",
    "  for i in range(1, len(x)-1):\n",
    "    output.append(jnp.dot(x[i-1:i+2], w))\n",
    "  return jnp.array(output)\n",
    "\n",
    "convolve(x, w)"
   ],
   "metadata": {
    "colab": {
     "base_uri": "https://localhost:8080/"
    },
    "id": "3nsxw5S57dId",
    "outputId": "4295724c-c503-423c-8dea-4f32cb25be02"
   },
   "execution_count": 3,
   "outputs": [
    {
     "output_type": "execute_result",
     "data": {
      "text/plain": [
       "DeviceArray([11., 20., 29.], dtype=float32)"
      ]
     },
     "metadata": {},
     "execution_count": 3
    }
   ]
  },
  {
   "cell_type": "code",
   "source": [
    "n_devices = jax.local_device_count() \n",
    "xs = np.arange(5 * n_devices).reshape(-1, 5)\n",
    "ws = np.stack([w] * n_devices)\n",
    "\n",
    "xs"
   ],
   "metadata": {
    "colab": {
     "base_uri": "https://localhost:8080/"
    },
    "id": "3SZn5V1lj6nN",
    "outputId": "aceb477d-758c-415d-a621-f382351cc1fd"
   },
   "execution_count": 4,
   "outputs": [
    {
     "output_type": "execute_result",
     "data": {
      "text/plain": [
       "array([[ 0,  1,  2,  3,  4],\n",
       "       [ 5,  6,  7,  8,  9],\n",
       "       [10, 11, 12, 13, 14],\n",
       "       [15, 16, 17, 18, 19],\n",
       "       [20, 21, 22, 23, 24],\n",
       "       [25, 26, 27, 28, 29],\n",
       "       [30, 31, 32, 33, 34],\n",
       "       [35, 36, 37, 38, 39]])"
      ]
     },
     "metadata": {},
     "execution_count": 4
    }
   ]
  },
  {
   "cell_type": "code",
   "source": [
    "jax.vmap(convolve)(xs, ws)"
   ],
   "metadata": {
    "colab": {
     "base_uri": "https://localhost:8080/"
    },
    "id": "jKbFb9xHkBVJ",
    "outputId": "a9799cae-6528-4bd4-9234-f8bfdd83f28b"
   },
   "execution_count": 5,
   "outputs": [
    {
     "output_type": "execute_result",
     "data": {
      "text/plain": [
       "DeviceArray([[ 11.,  20.,  29.],\n",
       "             [ 56.,  65.,  74.],\n",
       "             [101., 110., 119.],\n",
       "             [146., 155., 164.],\n",
       "             [191., 200., 209.],\n",
       "             [236., 245., 254.],\n",
       "             [281., 290., 299.],\n",
       "             [326., 335., 344.]], dtype=float32)"
      ]
     },
     "metadata": {},
     "execution_count": 5
    }
   ]
  },
  {
   "cell_type": "code",
   "source": [
    "jax.pmap(convolve)(xs, ws)"
   ],
   "metadata": {
    "colab": {
     "base_uri": "https://localhost:8080/"
    },
    "id": "g1ijPKpSEFG_",
    "outputId": "a0f4b3a5-bf52-44fd-f861-153a6df06edc"
   },
   "execution_count": 6,
   "outputs": [
    {
     "output_type": "execute_result",
     "data": {
      "text/plain": [
       "ShardedDeviceArray([[ 11.,  20.,  29.],\n",
       "                    [ 56.,  65.,  74.],\n",
       "                    [101., 110., 119.],\n",
       "                    [146., 155., 164.],\n",
       "                    [191., 200., 209.],\n",
       "                    [236., 245., 254.],\n",
       "                    [281., 290., 299.],\n",
       "                    [326., 335., 344.]], dtype=float32)"
      ]
     },
     "metadata": {},
     "execution_count": 6
    }
   ]
  },
  {
   "cell_type": "markdown",
   "source": [
    "## Debugging NaNs"
   ],
   "metadata": {
    "id": "p8rwRLiQHqtB"
   }
  },
  {
   "cell_type": "code",
   "source": [
    "jnp.divide(0.0,0.0)"
   ],
   "metadata": {
    "colab": {
     "base_uri": "https://localhost:8080/"
    },
    "id": "yfHSFexBHqFn",
    "outputId": "4c6a2931-0e88-426c-8e71-70e5e3f35da7"
   },
   "execution_count": 3,
   "outputs": [
    {
     "output_type": "stream",
     "name": "stderr",
     "text": [
      "WARNING:absl:No GPU/TPU found, falling back to CPU. (Set TF_CPP_MIN_LOG_LEVEL=0 and rerun for more info.)\n"
     ]
    },
    {
     "output_type": "execute_result",
     "data": {
      "text/plain": [
       "DeviceArray(nan, dtype=float32, weak_type=True)"
      ]
     },
     "metadata": {},
     "execution_count": 3
    }
   ]
  },
  {
   "cell_type": "code",
   "source": [
    "from jax.config import config\n",
    "config.update(\"jax_debug_nans\", True)\n",
    "jnp.divide(0.0,0.0)"
   ],
   "metadata": {
    "colab": {
     "base_uri": "https://localhost:8080/",
     "height": 746
    },
    "id": "rLkQtLagIS6t",
    "outputId": "5c047874-bd0f-4e87-a174-0c9c92ea24f6"
   },
   "execution_count": 4,
   "outputs": [
    {
     "output_type": "stream",
     "name": "stdout",
     "text": [
      "Invalid nan value encountered in the output of a C++-jit/pmap function. Calling the de-optimized version.\n",
      "Invalid value encountered in the output of a jit-decorated function. Calling the de-optimized version.\n"
     ]
    },
    {
     "output_type": "error",
     "ename": "FloatingPointError",
     "evalue": "ignored",
     "traceback": [
      "\u001B[0;31m---------------------------------------------------------------------------\u001B[0m",
      "\u001B[0;31mFloatingPointError\u001B[0m                        Traceback (most recent call last)",
      "\u001B[0;32m/usr/local/lib/python3.7/dist-packages/jax/_src/api.py\u001B[0m in \u001B[0;36m_nan_check_posthook\u001B[0;34m(fun, args, kwargs, output)\u001B[0m\n\u001B[1;32m    141\u001B[0m   \u001B[0;32mtry\u001B[0m\u001B[0;34m:\u001B[0m\u001B[0;34m\u001B[0m\u001B[0;34m\u001B[0m\u001B[0m\n\u001B[0;32m--> 142\u001B[0;31m     \u001B[0mdispatch\u001B[0m\u001B[0;34m.\u001B[0m\u001B[0mcheck_special\u001B[0m\u001B[0;34m(\u001B[0m\u001B[0mxla\u001B[0m\u001B[0;34m.\u001B[0m\u001B[0mxla_call_p\u001B[0m\u001B[0;34m,\u001B[0m \u001B[0mbuffers\u001B[0m\u001B[0;34m)\u001B[0m\u001B[0;34m\u001B[0m\u001B[0;34m\u001B[0m\u001B[0m\n\u001B[0m\u001B[1;32m    143\u001B[0m   \u001B[0;32mexcept\u001B[0m \u001B[0mFloatingPointError\u001B[0m\u001B[0;34m:\u001B[0m\u001B[0;34m\u001B[0m\u001B[0;34m\u001B[0m\u001B[0m\n",
      "\u001B[0;32m/usr/local/lib/python3.7/dist-packages/jax/_src/dispatch.py\u001B[0m in \u001B[0;36mcheck_special\u001B[0;34m(name, bufs)\u001B[0m\n\u001B[1;32m    536\u001B[0m     \u001B[0;32mfor\u001B[0m \u001B[0mbuf\u001B[0m \u001B[0;32min\u001B[0m \u001B[0mbufs\u001B[0m\u001B[0;34m:\u001B[0m\u001B[0;34m\u001B[0m\u001B[0;34m\u001B[0m\u001B[0m\n\u001B[0;32m--> 537\u001B[0;31m       \u001B[0m_check_special\u001B[0m\u001B[0;34m(\u001B[0m\u001B[0mname\u001B[0m\u001B[0;34m,\u001B[0m \u001B[0mbuf\u001B[0m\u001B[0;34m.\u001B[0m\u001B[0mxla_shape\u001B[0m\u001B[0;34m(\u001B[0m\u001B[0;34m)\u001B[0m\u001B[0;34m,\u001B[0m \u001B[0mbuf\u001B[0m\u001B[0;34m)\u001B[0m\u001B[0;34m\u001B[0m\u001B[0;34m\u001B[0m\u001B[0m\n\u001B[0m\u001B[1;32m    538\u001B[0m \u001B[0;34m\u001B[0m\u001B[0m\n",
      "\u001B[0;32m/usr/local/lib/python3.7/dist-packages/jax/_src/dispatch.py\u001B[0m in \u001B[0;36m_check_special\u001B[0;34m(name, xla_shape, buf)\u001B[0m\n\u001B[1;32m    542\u001B[0m     \u001B[0;32mif\u001B[0m \u001B[0mconfig\u001B[0m\u001B[0;34m.\u001B[0m\u001B[0mjax_debug_nans\u001B[0m \u001B[0;32mand\u001B[0m \u001B[0mnp\u001B[0m\u001B[0;34m.\u001B[0m\u001B[0many\u001B[0m\u001B[0;34m(\u001B[0m\u001B[0mnp\u001B[0m\u001B[0;34m.\u001B[0m\u001B[0misnan\u001B[0m\u001B[0;34m(\u001B[0m\u001B[0mbuf\u001B[0m\u001B[0;34m.\u001B[0m\u001B[0mto_py\u001B[0m\u001B[0;34m(\u001B[0m\u001B[0;34m)\u001B[0m\u001B[0;34m)\u001B[0m\u001B[0;34m)\u001B[0m\u001B[0;34m:\u001B[0m\u001B[0;34m\u001B[0m\u001B[0;34m\u001B[0m\u001B[0m\n\u001B[0;32m--> 543\u001B[0;31m       \u001B[0;32mraise\u001B[0m \u001B[0mFloatingPointError\u001B[0m\u001B[0;34m(\u001B[0m\u001B[0;34mf\"invalid value (nan) encountered in {name}\"\u001B[0m\u001B[0;34m)\u001B[0m\u001B[0;34m\u001B[0m\u001B[0;34m\u001B[0m\u001B[0m\n\u001B[0m\u001B[1;32m    544\u001B[0m     \u001B[0;32mif\u001B[0m \u001B[0mconfig\u001B[0m\u001B[0;34m.\u001B[0m\u001B[0mjax_debug_infs\u001B[0m \u001B[0;32mand\u001B[0m \u001B[0mnp\u001B[0m\u001B[0;34m.\u001B[0m\u001B[0many\u001B[0m\u001B[0;34m(\u001B[0m\u001B[0mnp\u001B[0m\u001B[0;34m.\u001B[0m\u001B[0misinf\u001B[0m\u001B[0;34m(\u001B[0m\u001B[0mbuf\u001B[0m\u001B[0;34m.\u001B[0m\u001B[0mto_py\u001B[0m\u001B[0;34m(\u001B[0m\u001B[0;34m)\u001B[0m\u001B[0;34m)\u001B[0m\u001B[0;34m)\u001B[0m\u001B[0;34m:\u001B[0m\u001B[0;34m\u001B[0m\u001B[0;34m\u001B[0m\u001B[0m\n",
      "\u001B[0;31mFloatingPointError\u001B[0m: invalid value (nan) encountered in xla_call",
      "\nDuring handling of the above exception, another exception occurred:\n",
      "\u001B[0;31mFloatingPointError\u001B[0m                        Traceback (most recent call last)",
      "\u001B[0;32m/usr/local/lib/python3.7/dist-packages/jax/_src/dispatch.py\u001B[0m in \u001B[0;36m_xla_call_impl\u001B[0;34m(***failed resolving arguments***)\u001B[0m\n\u001B[1;32m    151\u001B[0m   \u001B[0;32mtry\u001B[0m\u001B[0;34m:\u001B[0m\u001B[0;34m\u001B[0m\u001B[0;34m\u001B[0m\u001B[0m\n\u001B[0;32m--> 152\u001B[0;31m     \u001B[0;32mreturn\u001B[0m \u001B[0mcompiled_fun\u001B[0m\u001B[0;34m(\u001B[0m\u001B[0;34m*\u001B[0m\u001B[0margs\u001B[0m\u001B[0;34m)\u001B[0m\u001B[0;34m\u001B[0m\u001B[0;34m\u001B[0m\u001B[0m\n\u001B[0m\u001B[1;32m    153\u001B[0m   \u001B[0;32mexcept\u001B[0m \u001B[0mFloatingPointError\u001B[0m\u001B[0;34m:\u001B[0m\u001B[0;34m\u001B[0m\u001B[0;34m\u001B[0m\u001B[0m\n",
      "\u001B[0;32m/usr/local/lib/python3.7/dist-packages/jax/_src/dispatch.py\u001B[0m in \u001B[0;36m_execute_compiled\u001B[0;34m(name, compiled, input_handler, output_buffer_counts, result_handlers, kept_var_idx, *args)\u001B[0m\n\u001B[1;32m    556\u001B[0m   \u001B[0mout_bufs_flat\u001B[0m \u001B[0;34m=\u001B[0m \u001B[0mcompiled\u001B[0m\u001B[0;34m.\u001B[0m\u001B[0mexecute\u001B[0m\u001B[0;34m(\u001B[0m\u001B[0minput_bufs_flat\u001B[0m\u001B[0;34m)\u001B[0m\u001B[0;34m\u001B[0m\u001B[0;34m\u001B[0m\u001B[0m\n\u001B[0;32m--> 557\u001B[0;31m   \u001B[0mcheck_special\u001B[0m\u001B[0;34m(\u001B[0m\u001B[0mname\u001B[0m\u001B[0;34m,\u001B[0m \u001B[0mout_bufs_flat\u001B[0m\u001B[0;34m)\u001B[0m\u001B[0;34m\u001B[0m\u001B[0;34m\u001B[0m\u001B[0m\n\u001B[0m\u001B[1;32m    558\u001B[0m   \u001B[0;32mif\u001B[0m \u001B[0moutput_buffer_counts\u001B[0m \u001B[0;32mis\u001B[0m \u001B[0;32mNone\u001B[0m\u001B[0;34m:\u001B[0m\u001B[0;34m\u001B[0m\u001B[0;34m\u001B[0m\u001B[0m\n",
      "\u001B[0;32m/usr/local/lib/python3.7/dist-packages/jax/_src/dispatch.py\u001B[0m in \u001B[0;36mcheck_special\u001B[0;34m(name, bufs)\u001B[0m\n\u001B[1;32m    536\u001B[0m     \u001B[0;32mfor\u001B[0m \u001B[0mbuf\u001B[0m \u001B[0;32min\u001B[0m \u001B[0mbufs\u001B[0m\u001B[0;34m:\u001B[0m\u001B[0;34m\u001B[0m\u001B[0;34m\u001B[0m\u001B[0m\n\u001B[0;32m--> 537\u001B[0;31m       \u001B[0m_check_special\u001B[0m\u001B[0;34m(\u001B[0m\u001B[0mname\u001B[0m\u001B[0;34m,\u001B[0m \u001B[0mbuf\u001B[0m\u001B[0;34m.\u001B[0m\u001B[0mxla_shape\u001B[0m\u001B[0;34m(\u001B[0m\u001B[0;34m)\u001B[0m\u001B[0;34m,\u001B[0m \u001B[0mbuf\u001B[0m\u001B[0;34m)\u001B[0m\u001B[0;34m\u001B[0m\u001B[0;34m\u001B[0m\u001B[0m\n\u001B[0m\u001B[1;32m    538\u001B[0m \u001B[0;34m\u001B[0m\u001B[0m\n",
      "\u001B[0;32m/usr/local/lib/python3.7/dist-packages/jax/_src/dispatch.py\u001B[0m in \u001B[0;36m_check_special\u001B[0;34m(name, xla_shape, buf)\u001B[0m\n\u001B[1;32m    542\u001B[0m     \u001B[0;32mif\u001B[0m \u001B[0mconfig\u001B[0m\u001B[0;34m.\u001B[0m\u001B[0mjax_debug_nans\u001B[0m \u001B[0;32mand\u001B[0m \u001B[0mnp\u001B[0m\u001B[0;34m.\u001B[0m\u001B[0many\u001B[0m\u001B[0;34m(\u001B[0m\u001B[0mnp\u001B[0m\u001B[0;34m.\u001B[0m\u001B[0misnan\u001B[0m\u001B[0;34m(\u001B[0m\u001B[0mbuf\u001B[0m\u001B[0;34m.\u001B[0m\u001B[0mto_py\u001B[0m\u001B[0;34m(\u001B[0m\u001B[0;34m)\u001B[0m\u001B[0;34m)\u001B[0m\u001B[0;34m)\u001B[0m\u001B[0;34m:\u001B[0m\u001B[0;34m\u001B[0m\u001B[0;34m\u001B[0m\u001B[0m\n\u001B[0;32m--> 543\u001B[0;31m       \u001B[0;32mraise\u001B[0m \u001B[0mFloatingPointError\u001B[0m\u001B[0;34m(\u001B[0m\u001B[0;34mf\"invalid value (nan) encountered in {name}\"\u001B[0m\u001B[0;34m)\u001B[0m\u001B[0;34m\u001B[0m\u001B[0;34m\u001B[0m\u001B[0m\n\u001B[0m\u001B[1;32m    544\u001B[0m     \u001B[0;32mif\u001B[0m \u001B[0mconfig\u001B[0m\u001B[0;34m.\u001B[0m\u001B[0mjax_debug_infs\u001B[0m \u001B[0;32mand\u001B[0m \u001B[0mnp\u001B[0m\u001B[0;34m.\u001B[0m\u001B[0many\u001B[0m\u001B[0;34m(\u001B[0m\u001B[0mnp\u001B[0m\u001B[0;34m.\u001B[0m\u001B[0misinf\u001B[0m\u001B[0;34m(\u001B[0m\u001B[0mbuf\u001B[0m\u001B[0;34m.\u001B[0m\u001B[0mto_py\u001B[0m\u001B[0;34m(\u001B[0m\u001B[0;34m)\u001B[0m\u001B[0;34m)\u001B[0m\u001B[0;34m)\u001B[0m\u001B[0;34m:\u001B[0m\u001B[0;34m\u001B[0m\u001B[0;34m\u001B[0m\u001B[0m\n",
      "\u001B[0;31mFloatingPointError\u001B[0m: invalid value (nan) encountered in true_divide",
      "\nDuring handling of the above exception, another exception occurred:\n",
      "\u001B[0;31mUnfilteredStackTrace\u001B[0m                      Traceback (most recent call last)",
      "\u001B[0;32m<ipython-input-4-60f121be2329>\u001B[0m in \u001B[0;36m<module>\u001B[0;34m()\u001B[0m\n\u001B[1;32m      2\u001B[0m \u001B[0mconfig\u001B[0m\u001B[0;34m.\u001B[0m\u001B[0mupdate\u001B[0m\u001B[0;34m(\u001B[0m\u001B[0;34m\"jax_debug_nans\"\u001B[0m\u001B[0;34m,\u001B[0m \u001B[0;32mTrue\u001B[0m\u001B[0;34m)\u001B[0m\u001B[0;34m\u001B[0m\u001B[0;34m\u001B[0m\u001B[0m\n\u001B[0;32m----> 3\u001B[0;31m \u001B[0mjnp\u001B[0m\u001B[0;34m.\u001B[0m\u001B[0mdivide\u001B[0m\u001B[0;34m(\u001B[0m\u001B[0;36m0.0\u001B[0m\u001B[0;34m,\u001B[0m\u001B[0;36m0.0\u001B[0m\u001B[0;34m)\u001B[0m\u001B[0;34m\u001B[0m\u001B[0;34m\u001B[0m\u001B[0m\n\u001B[0m",
      "\u001B[0;32m/usr/local/lib/python3.7/dist-packages/jax/_src/traceback_util.py\u001B[0m in \u001B[0;36mreraise_with_filtered_traceback\u001B[0;34m(*args, **kwargs)\u001B[0m\n\u001B[1;32m    161\u001B[0m     \u001B[0;32mtry\u001B[0m\u001B[0;34m:\u001B[0m\u001B[0;34m\u001B[0m\u001B[0;34m\u001B[0m\u001B[0m\n\u001B[0;32m--> 162\u001B[0;31m       \u001B[0;32mreturn\u001B[0m \u001B[0mfun\u001B[0m\u001B[0;34m(\u001B[0m\u001B[0;34m*\u001B[0m\u001B[0margs\u001B[0m\u001B[0;34m,\u001B[0m \u001B[0;34m**\u001B[0m\u001B[0mkwargs\u001B[0m\u001B[0;34m)\u001B[0m\u001B[0;34m\u001B[0m\u001B[0;34m\u001B[0m\u001B[0m\n\u001B[0m\u001B[1;32m    163\u001B[0m     \u001B[0;32mexcept\u001B[0m \u001B[0mException\u001B[0m \u001B[0;32mas\u001B[0m \u001B[0me\u001B[0m\u001B[0;34m:\u001B[0m\u001B[0;34m\u001B[0m\u001B[0;34m\u001B[0m\u001B[0m\n",
      "\u001B[0;32m/usr/local/lib/python3.7/dist-packages/jax/_src/api.py\u001B[0m in \u001B[0;36mcache_miss\u001B[0;34m(*args, **kwargs)\u001B[0m\n\u001B[1;32m    467\u001B[0m         \u001B[0mdevice\u001B[0m\u001B[0;34m=\u001B[0m\u001B[0mdevice\u001B[0m\u001B[0;34m,\u001B[0m \u001B[0mbackend\u001B[0m\u001B[0;34m=\u001B[0m\u001B[0mbackend\u001B[0m\u001B[0;34m,\u001B[0m \u001B[0mname\u001B[0m\u001B[0;34m=\u001B[0m\u001B[0mflat_fun\u001B[0m\u001B[0;34m.\u001B[0m\u001B[0m__name__\u001B[0m\u001B[0;34m,\u001B[0m\u001B[0;34m\u001B[0m\u001B[0;34m\u001B[0m\u001B[0m\n\u001B[0;32m--> 468\u001B[0;31m         donated_invars=donated_invars, inline=inline)\n\u001B[0m\u001B[1;32m    469\u001B[0m     \u001B[0mout_pytree_def\u001B[0m \u001B[0;34m=\u001B[0m \u001B[0mout_tree\u001B[0m\u001B[0;34m(\u001B[0m\u001B[0;34m)\u001B[0m\u001B[0;34m\u001B[0m\u001B[0;34m\u001B[0m\u001B[0m\n",
      "\u001B[0;32m/usr/local/lib/python3.7/dist-packages/jax/core.py\u001B[0m in \u001B[0;36mbind\u001B[0;34m(self, fun, *args, **params)\u001B[0m\n\u001B[1;32m   1795\u001B[0m   \u001B[0;32mdef\u001B[0m \u001B[0mbind\u001B[0m\u001B[0;34m(\u001B[0m\u001B[0mself\u001B[0m\u001B[0;34m,\u001B[0m \u001B[0mfun\u001B[0m\u001B[0;34m,\u001B[0m \u001B[0;34m*\u001B[0m\u001B[0margs\u001B[0m\u001B[0;34m,\u001B[0m \u001B[0;34m**\u001B[0m\u001B[0mparams\u001B[0m\u001B[0;34m)\u001B[0m\u001B[0;34m:\u001B[0m\u001B[0;34m\u001B[0m\u001B[0;34m\u001B[0m\u001B[0m\n\u001B[0;32m-> 1796\u001B[0;31m     \u001B[0;32mreturn\u001B[0m \u001B[0mcall_bind\u001B[0m\u001B[0;34m(\u001B[0m\u001B[0mself\u001B[0m\u001B[0;34m,\u001B[0m \u001B[0mfun\u001B[0m\u001B[0;34m,\u001B[0m \u001B[0;34m*\u001B[0m\u001B[0margs\u001B[0m\u001B[0;34m,\u001B[0m \u001B[0;34m**\u001B[0m\u001B[0mparams\u001B[0m\u001B[0;34m)\u001B[0m\u001B[0;34m\u001B[0m\u001B[0;34m\u001B[0m\u001B[0m\n\u001B[0m\u001B[1;32m   1797\u001B[0m \u001B[0;34m\u001B[0m\u001B[0m\n",
      "\u001B[0;32m/usr/local/lib/python3.7/dist-packages/jax/core.py\u001B[0m in \u001B[0;36mcall_bind\u001B[0;34m(primitive, fun, *args, **params)\u001B[0m\n\u001B[1;32m   1811\u001B[0m   \u001B[0mfun_\u001B[0m \u001B[0;34m=\u001B[0m \u001B[0mlu\u001B[0m\u001B[0;34m.\u001B[0m\u001B[0mannotate\u001B[0m\u001B[0;34m(\u001B[0m\u001B[0mfun_\u001B[0m\u001B[0;34m,\u001B[0m \u001B[0mfun\u001B[0m\u001B[0;34m.\u001B[0m\u001B[0min_type\u001B[0m\u001B[0;34m)\u001B[0m\u001B[0;34m\u001B[0m\u001B[0;34m\u001B[0m\u001B[0m\n\u001B[0;32m-> 1812\u001B[0;31m   \u001B[0mouts\u001B[0m \u001B[0;34m=\u001B[0m \u001B[0mtop_trace\u001B[0m\u001B[0;34m.\u001B[0m\u001B[0mprocess_call\u001B[0m\u001B[0;34m(\u001B[0m\u001B[0mprimitive\u001B[0m\u001B[0;34m,\u001B[0m \u001B[0mfun_\u001B[0m\u001B[0;34m,\u001B[0m \u001B[0mtracers\u001B[0m\u001B[0;34m,\u001B[0m \u001B[0mparams\u001B[0m\u001B[0;34m)\u001B[0m\u001B[0;34m\u001B[0m\u001B[0;34m\u001B[0m\u001B[0m\n\u001B[0m\u001B[1;32m   1813\u001B[0m   \u001B[0;32mreturn\u001B[0m \u001B[0mmap\u001B[0m\u001B[0;34m(\u001B[0m\u001B[0mfull_lower\u001B[0m\u001B[0;34m,\u001B[0m \u001B[0mapply_todos\u001B[0m\u001B[0;34m(\u001B[0m\u001B[0menv_trace_todo\u001B[0m\u001B[0;34m(\u001B[0m\u001B[0;34m)\u001B[0m\u001B[0;34m,\u001B[0m \u001B[0mouts\u001B[0m\u001B[0;34m)\u001B[0m\u001B[0;34m)\u001B[0m\u001B[0;34m\u001B[0m\u001B[0;34m\u001B[0m\u001B[0m\n",
      "\u001B[0;32m/usr/local/lib/python3.7/dist-packages/jax/core.py\u001B[0m in \u001B[0;36mprocess_call\u001B[0;34m(self, primitive, f, tracers, params)\u001B[0m\n\u001B[1;32m    680\u001B[0m   \u001B[0;32mdef\u001B[0m \u001B[0mprocess_call\u001B[0m\u001B[0;34m(\u001B[0m\u001B[0mself\u001B[0m\u001B[0;34m,\u001B[0m \u001B[0mprimitive\u001B[0m\u001B[0;34m,\u001B[0m \u001B[0mf\u001B[0m\u001B[0;34m,\u001B[0m \u001B[0mtracers\u001B[0m\u001B[0;34m,\u001B[0m \u001B[0mparams\u001B[0m\u001B[0;34m)\u001B[0m\u001B[0;34m:\u001B[0m\u001B[0;34m\u001B[0m\u001B[0;34m\u001B[0m\u001B[0m\n\u001B[0;32m--> 681\u001B[0;31m     \u001B[0;32mreturn\u001B[0m \u001B[0mprimitive\u001B[0m\u001B[0;34m.\u001B[0m\u001B[0mimpl\u001B[0m\u001B[0;34m(\u001B[0m\u001B[0mf\u001B[0m\u001B[0;34m,\u001B[0m \u001B[0;34m*\u001B[0m\u001B[0mtracers\u001B[0m\u001B[0;34m,\u001B[0m \u001B[0;34m**\u001B[0m\u001B[0mparams\u001B[0m\u001B[0;34m)\u001B[0m\u001B[0;34m\u001B[0m\u001B[0;34m\u001B[0m\u001B[0m\n\u001B[0m\u001B[1;32m    682\u001B[0m   \u001B[0mprocess_map\u001B[0m \u001B[0;34m=\u001B[0m \u001B[0mprocess_call\u001B[0m\u001B[0;34m\u001B[0m\u001B[0;34m\u001B[0m\u001B[0m\n",
      "\u001B[0;32m/usr/local/lib/python3.7/dist-packages/jax/_src/dispatch.py\u001B[0m in \u001B[0;36m_xla_call_impl\u001B[0;34m(***failed resolving arguments***)\u001B[0m\n\u001B[1;32m    168\u001B[0m     \u001B[0;32mwith\u001B[0m \u001B[0mcore\u001B[0m\u001B[0;34m.\u001B[0m\u001B[0mnew_sublevel\u001B[0m\u001B[0;34m(\u001B[0m\u001B[0;34m)\u001B[0m\u001B[0;34m:\u001B[0m\u001B[0;34m\u001B[0m\u001B[0;34m\u001B[0m\u001B[0m\n\u001B[0;32m--> 169\u001B[0;31m       \u001B[0m_\u001B[0m \u001B[0;34m=\u001B[0m \u001B[0mclone\u001B[0m\u001B[0;34m.\u001B[0m\u001B[0mcall_wrapped\u001B[0m\u001B[0;34m(\u001B[0m\u001B[0;34m*\u001B[0m\u001B[0margs\u001B[0m\u001B[0;34m)\u001B[0m  \u001B[0;31m# may raise, not return\u001B[0m\u001B[0;34m\u001B[0m\u001B[0;34m\u001B[0m\u001B[0m\n\u001B[0m\u001B[1;32m    170\u001B[0m \u001B[0;34m\u001B[0m\u001B[0m\n",
      "\u001B[0;32m/usr/local/lib/python3.7/dist-packages/jax/linear_util.py\u001B[0m in \u001B[0;36mcall_wrapped\u001B[0;34m(self, *args, **kwargs)\u001B[0m\n\u001B[1;32m    167\u001B[0m     \u001B[0;32mtry\u001B[0m\u001B[0;34m:\u001B[0m\u001B[0;34m\u001B[0m\u001B[0;34m\u001B[0m\u001B[0m\n\u001B[0;32m--> 168\u001B[0;31m       \u001B[0mans\u001B[0m \u001B[0;34m=\u001B[0m \u001B[0mself\u001B[0m\u001B[0;34m.\u001B[0m\u001B[0mf\u001B[0m\u001B[0;34m(\u001B[0m\u001B[0;34m*\u001B[0m\u001B[0margs\u001B[0m\u001B[0;34m,\u001B[0m \u001B[0;34m**\u001B[0m\u001B[0mdict\u001B[0m\u001B[0;34m(\u001B[0m\u001B[0mself\u001B[0m\u001B[0;34m.\u001B[0m\u001B[0mparams\u001B[0m\u001B[0;34m,\u001B[0m \u001B[0;34m**\u001B[0m\u001B[0mkwargs\u001B[0m\u001B[0;34m)\u001B[0m\u001B[0;34m)\u001B[0m\u001B[0;34m\u001B[0m\u001B[0;34m\u001B[0m\u001B[0m\n\u001B[0m\u001B[1;32m    169\u001B[0m     \u001B[0;32mexcept\u001B[0m\u001B[0;34m:\u001B[0m\u001B[0;34m\u001B[0m\u001B[0;34m\u001B[0m\u001B[0m\n",
      "\u001B[0;32m/usr/local/lib/python3.7/dist-packages/jax/_src/numpy/ufuncs.py\u001B[0m in \u001B[0;36mtrue_divide\u001B[0;34m(x1, x2)\u001B[0m\n\u001B[1;32m    239\u001B[0m   \u001B[0mx1\u001B[0m\u001B[0;34m,\u001B[0m \u001B[0mx2\u001B[0m \u001B[0;34m=\u001B[0m \u001B[0m_promote_args_inexact\u001B[0m\u001B[0;34m(\u001B[0m\u001B[0;34m\"true_divide\"\u001B[0m\u001B[0;34m,\u001B[0m \u001B[0mx1\u001B[0m\u001B[0;34m,\u001B[0m \u001B[0mx2\u001B[0m\u001B[0;34m)\u001B[0m\u001B[0;34m\u001B[0m\u001B[0;34m\u001B[0m\u001B[0m\n\u001B[0;32m--> 240\u001B[0;31m   \u001B[0;32mreturn\u001B[0m \u001B[0mlax\u001B[0m\u001B[0;34m.\u001B[0m\u001B[0mdiv\u001B[0m\u001B[0;34m(\u001B[0m\u001B[0mx1\u001B[0m\u001B[0;34m,\u001B[0m \u001B[0mx2\u001B[0m\u001B[0;34m)\u001B[0m\u001B[0;34m\u001B[0m\u001B[0;34m\u001B[0m\u001B[0m\n\u001B[0m\u001B[1;32m    241\u001B[0m \u001B[0;34m\u001B[0m\u001B[0m\n",
      "\u001B[0;32m/usr/local/lib/python3.7/dist-packages/jax/_src/lax/lax.py\u001B[0m in \u001B[0;36mdiv\u001B[0;34m(x, y)\u001B[0m\n\u001B[1;32m    413\u001B[0m   \u001B[0;34mr\"\"\"Elementwise division: :math:`x \\over y`.\"\"\"\u001B[0m\u001B[0;34m\u001B[0m\u001B[0;34m\u001B[0m\u001B[0m\n\u001B[0;32m--> 414\u001B[0;31m   \u001B[0;32mreturn\u001B[0m \u001B[0mdiv_p\u001B[0m\u001B[0;34m.\u001B[0m\u001B[0mbind\u001B[0m\u001B[0;34m(\u001B[0m\u001B[0mx\u001B[0m\u001B[0;34m,\u001B[0m \u001B[0my\u001B[0m\u001B[0;34m)\u001B[0m\u001B[0;34m\u001B[0m\u001B[0;34m\u001B[0m\u001B[0m\n\u001B[0m\u001B[1;32m    415\u001B[0m \u001B[0;34m\u001B[0m\u001B[0m\n",
      "\u001B[0;32m/usr/local/lib/python3.7/dist-packages/jax/core.py\u001B[0m in \u001B[0;36mbind\u001B[0;34m(self, *args, **params)\u001B[0m\n\u001B[1;32m    324\u001B[0m             all(isinstance(arg, Tracer) or valid_jaxtype(arg) for arg in args)), args\n\u001B[0;32m--> 325\u001B[0;31m     \u001B[0;32mreturn\u001B[0m \u001B[0mself\u001B[0m\u001B[0;34m.\u001B[0m\u001B[0mbind_with_trace\u001B[0m\u001B[0;34m(\u001B[0m\u001B[0mfind_top_trace\u001B[0m\u001B[0;34m(\u001B[0m\u001B[0margs\u001B[0m\u001B[0;34m)\u001B[0m\u001B[0;34m,\u001B[0m \u001B[0margs\u001B[0m\u001B[0;34m,\u001B[0m \u001B[0mparams\u001B[0m\u001B[0;34m)\u001B[0m\u001B[0;34m\u001B[0m\u001B[0;34m\u001B[0m\u001B[0m\n\u001B[0m\u001B[1;32m    326\u001B[0m \u001B[0;34m\u001B[0m\u001B[0m\n",
      "\u001B[0;32m/usr/local/lib/python3.7/dist-packages/jax/core.py\u001B[0m in \u001B[0;36mbind_with_trace\u001B[0;34m(self, trace, args, params)\u001B[0m\n\u001B[1;32m    327\u001B[0m   \u001B[0;32mdef\u001B[0m \u001B[0mbind_with_trace\u001B[0m\u001B[0;34m(\u001B[0m\u001B[0mself\u001B[0m\u001B[0;34m,\u001B[0m \u001B[0mtrace\u001B[0m\u001B[0;34m,\u001B[0m \u001B[0margs\u001B[0m\u001B[0;34m,\u001B[0m \u001B[0mparams\u001B[0m\u001B[0;34m)\u001B[0m\u001B[0;34m:\u001B[0m\u001B[0;34m\u001B[0m\u001B[0;34m\u001B[0m\u001B[0m\n\u001B[0;32m--> 328\u001B[0;31m     \u001B[0mout\u001B[0m \u001B[0;34m=\u001B[0m \u001B[0mtrace\u001B[0m\u001B[0;34m.\u001B[0m\u001B[0mprocess_primitive\u001B[0m\u001B[0;34m(\u001B[0m\u001B[0mself\u001B[0m\u001B[0;34m,\u001B[0m \u001B[0mmap\u001B[0m\u001B[0;34m(\u001B[0m\u001B[0mtrace\u001B[0m\u001B[0;34m.\u001B[0m\u001B[0mfull_raise\u001B[0m\u001B[0;34m,\u001B[0m \u001B[0margs\u001B[0m\u001B[0;34m)\u001B[0m\u001B[0;34m,\u001B[0m \u001B[0mparams\u001B[0m\u001B[0;34m)\u001B[0m\u001B[0;34m\u001B[0m\u001B[0;34m\u001B[0m\u001B[0m\n\u001B[0m\u001B[1;32m    329\u001B[0m     \u001B[0;32mreturn\u001B[0m \u001B[0mmap\u001B[0m\u001B[0;34m(\u001B[0m\u001B[0mfull_lower\u001B[0m\u001B[0;34m,\u001B[0m \u001B[0mout\u001B[0m\u001B[0;34m)\u001B[0m \u001B[0;32mif\u001B[0m \u001B[0mself\u001B[0m\u001B[0;34m.\u001B[0m\u001B[0mmultiple_results\u001B[0m \u001B[0;32melse\u001B[0m \u001B[0mfull_lower\u001B[0m\u001B[0;34m(\u001B[0m\u001B[0mout\u001B[0m\u001B[0;34m)\u001B[0m\u001B[0;34m\u001B[0m\u001B[0;34m\u001B[0m\u001B[0m\n",
      "\u001B[0;32m/usr/local/lib/python3.7/dist-packages/jax/core.py\u001B[0m in \u001B[0;36mprocess_primitive\u001B[0;34m(self, primitive, tracers, params)\u001B[0m\n\u001B[1;32m    677\u001B[0m   \u001B[0;32mdef\u001B[0m \u001B[0mprocess_primitive\u001B[0m\u001B[0;34m(\u001B[0m\u001B[0mself\u001B[0m\u001B[0;34m,\u001B[0m \u001B[0mprimitive\u001B[0m\u001B[0;34m,\u001B[0m \u001B[0mtracers\u001B[0m\u001B[0;34m,\u001B[0m \u001B[0mparams\u001B[0m\u001B[0;34m)\u001B[0m\u001B[0;34m:\u001B[0m\u001B[0;34m\u001B[0m\u001B[0;34m\u001B[0m\u001B[0m\n\u001B[0;32m--> 678\u001B[0;31m     \u001B[0;32mreturn\u001B[0m \u001B[0mprimitive\u001B[0m\u001B[0;34m.\u001B[0m\u001B[0mimpl\u001B[0m\u001B[0;34m(\u001B[0m\u001B[0;34m*\u001B[0m\u001B[0mtracers\u001B[0m\u001B[0;34m,\u001B[0m \u001B[0;34m**\u001B[0m\u001B[0mparams\u001B[0m\u001B[0;34m)\u001B[0m\u001B[0;34m\u001B[0m\u001B[0;34m\u001B[0m\u001B[0m\n\u001B[0m\u001B[1;32m    679\u001B[0m \u001B[0;34m\u001B[0m\u001B[0m\n",
      "\u001B[0;32m/usr/local/lib/python3.7/dist-packages/jax/_src/dispatch.py\u001B[0m in \u001B[0;36mapply_primitive\u001B[0;34m(prim, *args, **params)\u001B[0m\n\u001B[1;32m     97\u001B[0m                                         **params)\n\u001B[0;32m---> 98\u001B[0;31m   \u001B[0;32mreturn\u001B[0m \u001B[0mcompiled_fun\u001B[0m\u001B[0;34m(\u001B[0m\u001B[0;34m*\u001B[0m\u001B[0margs\u001B[0m\u001B[0;34m)\u001B[0m\u001B[0;34m\u001B[0m\u001B[0;34m\u001B[0m\u001B[0m\n\u001B[0m\u001B[1;32m     99\u001B[0m \u001B[0;34m\u001B[0m\u001B[0m\n",
      "\u001B[0;32m/usr/local/lib/python3.7/dist-packages/jax/_src/dispatch.py\u001B[0m in \u001B[0;36m<lambda>\u001B[0;34m(*args, **kw)\u001B[0m\n\u001B[1;32m    117\u001B[0m   \u001B[0;32mif\u001B[0m \u001B[0;32mnot\u001B[0m \u001B[0mprim\u001B[0m\u001B[0;34m.\u001B[0m\u001B[0mmultiple_results\u001B[0m\u001B[0;34m:\u001B[0m\u001B[0;34m\u001B[0m\u001B[0;34m\u001B[0m\u001B[0m\n\u001B[0;32m--> 118\u001B[0;31m     \u001B[0;32mreturn\u001B[0m \u001B[0;32mlambda\u001B[0m \u001B[0;34m*\u001B[0m\u001B[0margs\u001B[0m\u001B[0;34m,\u001B[0m \u001B[0;34m**\u001B[0m\u001B[0mkw\u001B[0m\u001B[0;34m:\u001B[0m \u001B[0mcompiled\u001B[0m\u001B[0;34m(\u001B[0m\u001B[0;34m*\u001B[0m\u001B[0margs\u001B[0m\u001B[0;34m,\u001B[0m \u001B[0;34m**\u001B[0m\u001B[0mkw\u001B[0m\u001B[0;34m)\u001B[0m\u001B[0;34m[\u001B[0m\u001B[0;36m0\u001B[0m\u001B[0;34m]\u001B[0m\u001B[0;34m\u001B[0m\u001B[0;34m\u001B[0m\u001B[0m\n\u001B[0m\u001B[1;32m    119\u001B[0m   \u001B[0;32melse\u001B[0m\u001B[0;34m:\u001B[0m\u001B[0;34m\u001B[0m\u001B[0;34m\u001B[0m\u001B[0m\n",
      "\u001B[0;32m/usr/local/lib/python3.7/dist-packages/jax/_src/dispatch.py\u001B[0m in \u001B[0;36m_execute_compiled\u001B[0;34m(name, compiled, input_handler, output_buffer_counts, result_handlers, kept_var_idx, *args)\u001B[0m\n\u001B[1;32m    556\u001B[0m   \u001B[0mout_bufs_flat\u001B[0m \u001B[0;34m=\u001B[0m \u001B[0mcompiled\u001B[0m\u001B[0;34m.\u001B[0m\u001B[0mexecute\u001B[0m\u001B[0;34m(\u001B[0m\u001B[0minput_bufs_flat\u001B[0m\u001B[0;34m)\u001B[0m\u001B[0;34m\u001B[0m\u001B[0;34m\u001B[0m\u001B[0m\n\u001B[0;32m--> 557\u001B[0;31m   \u001B[0mcheck_special\u001B[0m\u001B[0;34m(\u001B[0m\u001B[0mname\u001B[0m\u001B[0;34m,\u001B[0m \u001B[0mout_bufs_flat\u001B[0m\u001B[0;34m)\u001B[0m\u001B[0;34m\u001B[0m\u001B[0;34m\u001B[0m\u001B[0m\n\u001B[0m\u001B[1;32m    558\u001B[0m   \u001B[0;32mif\u001B[0m \u001B[0moutput_buffer_counts\u001B[0m \u001B[0;32mis\u001B[0m \u001B[0;32mNone\u001B[0m\u001B[0;34m:\u001B[0m\u001B[0;34m\u001B[0m\u001B[0;34m\u001B[0m\u001B[0m\n",
      "\u001B[0;32m/usr/local/lib/python3.7/dist-packages/jax/_src/dispatch.py\u001B[0m in \u001B[0;36mcheck_special\u001B[0;34m(name, bufs)\u001B[0m\n\u001B[1;32m    536\u001B[0m     \u001B[0;32mfor\u001B[0m \u001B[0mbuf\u001B[0m \u001B[0;32min\u001B[0m \u001B[0mbufs\u001B[0m\u001B[0;34m:\u001B[0m\u001B[0;34m\u001B[0m\u001B[0;34m\u001B[0m\u001B[0m\n\u001B[0;32m--> 537\u001B[0;31m       \u001B[0m_check_special\u001B[0m\u001B[0;34m(\u001B[0m\u001B[0mname\u001B[0m\u001B[0;34m,\u001B[0m \u001B[0mbuf\u001B[0m\u001B[0;34m.\u001B[0m\u001B[0mxla_shape\u001B[0m\u001B[0;34m(\u001B[0m\u001B[0;34m)\u001B[0m\u001B[0;34m,\u001B[0m \u001B[0mbuf\u001B[0m\u001B[0;34m)\u001B[0m\u001B[0;34m\u001B[0m\u001B[0;34m\u001B[0m\u001B[0m\n\u001B[0m\u001B[1;32m    538\u001B[0m \u001B[0;34m\u001B[0m\u001B[0m\n",
      "\u001B[0;32m/usr/local/lib/python3.7/dist-packages/jax/_src/dispatch.py\u001B[0m in \u001B[0;36m_check_special\u001B[0;34m(name, xla_shape, buf)\u001B[0m\n\u001B[1;32m    542\u001B[0m     \u001B[0;32mif\u001B[0m \u001B[0mconfig\u001B[0m\u001B[0;34m.\u001B[0m\u001B[0mjax_debug_nans\u001B[0m \u001B[0;32mand\u001B[0m \u001B[0mnp\u001B[0m\u001B[0;34m.\u001B[0m\u001B[0many\u001B[0m\u001B[0;34m(\u001B[0m\u001B[0mnp\u001B[0m\u001B[0;34m.\u001B[0m\u001B[0misnan\u001B[0m\u001B[0;34m(\u001B[0m\u001B[0mbuf\u001B[0m\u001B[0;34m.\u001B[0m\u001B[0mto_py\u001B[0m\u001B[0;34m(\u001B[0m\u001B[0;34m)\u001B[0m\u001B[0;34m)\u001B[0m\u001B[0;34m)\u001B[0m\u001B[0;34m:\u001B[0m\u001B[0;34m\u001B[0m\u001B[0;34m\u001B[0m\u001B[0m\n\u001B[0;32m--> 543\u001B[0;31m       \u001B[0;32mraise\u001B[0m \u001B[0mFloatingPointError\u001B[0m\u001B[0;34m(\u001B[0m\u001B[0;34mf\"invalid value (nan) encountered in {name}\"\u001B[0m\u001B[0;34m)\u001B[0m\u001B[0;34m\u001B[0m\u001B[0;34m\u001B[0m\u001B[0m\n\u001B[0m\u001B[1;32m    544\u001B[0m     \u001B[0;32mif\u001B[0m \u001B[0mconfig\u001B[0m\u001B[0;34m.\u001B[0m\u001B[0mjax_debug_infs\u001B[0m \u001B[0;32mand\u001B[0m \u001B[0mnp\u001B[0m\u001B[0;34m.\u001B[0m\u001B[0many\u001B[0m\u001B[0;34m(\u001B[0m\u001B[0mnp\u001B[0m\u001B[0;34m.\u001B[0m\u001B[0misinf\u001B[0m\u001B[0;34m(\u001B[0m\u001B[0mbuf\u001B[0m\u001B[0;34m.\u001B[0m\u001B[0mto_py\u001B[0m\u001B[0;34m(\u001B[0m\u001B[0;34m)\u001B[0m\u001B[0;34m)\u001B[0m\u001B[0;34m)\u001B[0m\u001B[0;34m:\u001B[0m\u001B[0;34m\u001B[0m\u001B[0;34m\u001B[0m\u001B[0m\n",
      "\u001B[0;31mUnfilteredStackTrace\u001B[0m: FloatingPointError: invalid value (nan) encountered in div\n\nThe stack trace below excludes JAX-internal frames.\nThe preceding is the original exception that occurred, unmodified.\n\n--------------------",
      "\nThe above exception was the direct cause of the following exception:\n",
      "\u001B[0;31mFloatingPointError\u001B[0m                        Traceback (most recent call last)",
      "\u001B[0;32m<ipython-input-4-60f121be2329>\u001B[0m in \u001B[0;36m<module>\u001B[0;34m()\u001B[0m\n\u001B[1;32m      1\u001B[0m \u001B[0;32mfrom\u001B[0m \u001B[0mjax\u001B[0m\u001B[0;34m.\u001B[0m\u001B[0mconfig\u001B[0m \u001B[0;32mimport\u001B[0m \u001B[0mconfig\u001B[0m\u001B[0;34m\u001B[0m\u001B[0;34m\u001B[0m\u001B[0m\n\u001B[1;32m      2\u001B[0m \u001B[0mconfig\u001B[0m\u001B[0;34m.\u001B[0m\u001B[0mupdate\u001B[0m\u001B[0;34m(\u001B[0m\u001B[0;34m\"jax_debug_nans\"\u001B[0m\u001B[0;34m,\u001B[0m \u001B[0;32mTrue\u001B[0m\u001B[0;34m)\u001B[0m\u001B[0;34m\u001B[0m\u001B[0;34m\u001B[0m\u001B[0m\n\u001B[0;32m----> 3\u001B[0;31m \u001B[0mjnp\u001B[0m\u001B[0;34m.\u001B[0m\u001B[0mdivide\u001B[0m\u001B[0;34m(\u001B[0m\u001B[0;36m0.0\u001B[0m\u001B[0;34m,\u001B[0m\u001B[0;36m0.0\u001B[0m\u001B[0;34m)\u001B[0m\u001B[0;34m\u001B[0m\u001B[0;34m\u001B[0m\u001B[0m\n\u001B[0m",
      "\u001B[0;32m/usr/local/lib/python3.7/dist-packages/jax/_src/api.py\u001B[0m in \u001B[0;36m_nan_check_posthook\u001B[0;34m(fun, args, kwargs, output)\u001B[0m\n\u001B[1;32m    146\u001B[0m     print(\"Invalid nan value encountered in the output of a C++-jit/pmap \"\n\u001B[1;32m    147\u001B[0m           \"function. Calling the de-optimized version.\")\n\u001B[0;32m--> 148\u001B[0;31m     \u001B[0mfun\u001B[0m\u001B[0;34m.\u001B[0m\u001B[0m_cache_miss\u001B[0m\u001B[0;34m(\u001B[0m\u001B[0;34m*\u001B[0m\u001B[0margs\u001B[0m\u001B[0;34m,\u001B[0m \u001B[0;34m**\u001B[0m\u001B[0mkwargs\u001B[0m\u001B[0;34m)\u001B[0m\u001B[0;34m[\u001B[0m\u001B[0;36m0\u001B[0m\u001B[0;34m]\u001B[0m  \u001B[0;31m# probably won't return\u001B[0m\u001B[0;34m\u001B[0m\u001B[0;34m\u001B[0m\u001B[0m\n\u001B[0m\u001B[1;32m    149\u001B[0m \u001B[0;34m\u001B[0m\u001B[0m\n\u001B[1;32m    150\u001B[0m \u001B[0;32mdef\u001B[0m \u001B[0m_update_debug_special_global\u001B[0m\u001B[0;34m(\u001B[0m\u001B[0m_\u001B[0m\u001B[0;34m)\u001B[0m\u001B[0;34m:\u001B[0m\u001B[0;34m\u001B[0m\u001B[0;34m\u001B[0m\u001B[0m\n",
      "\u001B[0;32m/usr/local/lib/python3.7/dist-packages/jax/_src/numpy/ufuncs.py\u001B[0m in \u001B[0;36mtrue_divide\u001B[0;34m(x1, x2)\u001B[0m\n\u001B[1;32m    238\u001B[0m \u001B[0;32mdef\u001B[0m \u001B[0mtrue_divide\u001B[0m\u001B[0;34m(\u001B[0m\u001B[0mx1\u001B[0m\u001B[0;34m,\u001B[0m \u001B[0mx2\u001B[0m\u001B[0;34m)\u001B[0m\u001B[0;34m:\u001B[0m\u001B[0;34m\u001B[0m\u001B[0;34m\u001B[0m\u001B[0m\n\u001B[1;32m    239\u001B[0m   \u001B[0mx1\u001B[0m\u001B[0;34m,\u001B[0m \u001B[0mx2\u001B[0m \u001B[0;34m=\u001B[0m \u001B[0m_promote_args_inexact\u001B[0m\u001B[0;34m(\u001B[0m\u001B[0;34m\"true_divide\"\u001B[0m\u001B[0;34m,\u001B[0m \u001B[0mx1\u001B[0m\u001B[0;34m,\u001B[0m \u001B[0mx2\u001B[0m\u001B[0;34m)\u001B[0m\u001B[0;34m\u001B[0m\u001B[0;34m\u001B[0m\u001B[0m\n\u001B[0;32m--> 240\u001B[0;31m   \u001B[0;32mreturn\u001B[0m \u001B[0mlax\u001B[0m\u001B[0;34m.\u001B[0m\u001B[0mdiv\u001B[0m\u001B[0;34m(\u001B[0m\u001B[0mx1\u001B[0m\u001B[0;34m,\u001B[0m \u001B[0mx2\u001B[0m\u001B[0;34m)\u001B[0m\u001B[0;34m\u001B[0m\u001B[0;34m\u001B[0m\u001B[0m\n\u001B[0m\u001B[1;32m    241\u001B[0m \u001B[0;34m\u001B[0m\u001B[0m\n\u001B[1;32m    242\u001B[0m \u001B[0mdivide\u001B[0m \u001B[0;34m=\u001B[0m \u001B[0mtrue_divide\u001B[0m\u001B[0;34m\u001B[0m\u001B[0;34m\u001B[0m\u001B[0m\n",
      "\u001B[0;31mFloatingPointError\u001B[0m: invalid value (nan) encountered in div"
     ]
    }
   ]
  },
  {
   "cell_type": "markdown",
   "source": [
    "## Double (64bit) precision"
   ],
   "metadata": {
    "id": "7cfKTrlEK_Pu"
   }
  },
  {
   "cell_type": "code",
   "source": [
    "x = jnp.float64(1.25844) "
   ],
   "metadata": {
    "colab": {
     "base_uri": "https://localhost:8080/"
    },
    "id": "Twp3YOLOLD-y",
    "outputId": "e0fa31c9-de87-4c99-f3b5-4e10b43376e6"
   },
   "execution_count": 5,
   "outputs": [
    {
     "output_type": "stream",
     "name": "stderr",
     "text": [
      "/usr/local/lib/python3.7/dist-packages/jax/_src/numpy/lax_numpy.py:1806: UserWarning: Explicitly requested dtype float64 requested in array is not available, and will be truncated to dtype float32. To enable more dtypes, set the jax_enable_x64 configuration option or the JAX_ENABLE_X64 shell environment variable. See https://github.com/google/jax#current-gotchas for more.\n",
      "  lax_internal._check_user_dtype_supported(dtype, \"array\")\n"
     ]
    }
   ]
  },
  {
   "cell_type": "code",
   "source": [
    "x"
   ],
   "metadata": {
    "colab": {
     "base_uri": "https://localhost:8080/"
    },
    "id": "-PbvtQLMLD7-",
    "outputId": "be7c1f15-2bfb-4fc0-d1cb-e9613479e7f5"
   },
   "execution_count": 6,
   "outputs": [
    {
     "output_type": "execute_result",
     "data": {
      "text/plain": [
       "DeviceArray(1.25844, dtype=float32)"
      ]
     },
     "metadata": {},
     "execution_count": 6
    }
   ]
  },
  {
   "cell_type": "code",
   "source": [
    "# set this config at the begining of the program\n",
    "from jax.config import config\n",
    "config.update(\"jax_enable_x64\", True)\n",
    "x = jnp.float64(1.25844) \n",
    "x"
   ],
   "metadata": {
    "colab": {
     "base_uri": "https://localhost:8080/"
    },
    "id": "E7fQzRznLMuN",
    "outputId": "e6289eb2-367a-46af-a5c4-e82da7b45303"
   },
   "execution_count": 7,
   "outputs": [
    {
     "output_type": "execute_result",
     "data": {
      "text/plain": [
       "DeviceArray(1.25844, dtype=float64)"
      ]
     },
     "metadata": {},
     "execution_count": 7
    }
   ]
  },
  {
   "cell_type": "markdown",
   "source": [
    "## PyTrees"
   ],
   "metadata": {
    "id": "UMf3fgekwQlj"
   }
  },
  {
   "cell_type": "code",
   "source": [
    "example_trees = [\n",
    "    [1, 'a', object()],\n",
    "    (1, (2, 3), ()),\n",
    "    [1, {'k1': 2, 'k2': (3, 4)}, 5],\n",
    "    {'a': 2, 'b': (2, 3)},\n",
    "    jnp.array([1, 2, 3]),\n",
    "]"
   ],
   "metadata": {
    "id": "H_L1oyPRwSnR"
   },
   "execution_count": 8,
   "outputs": []
  },
  {
   "cell_type": "code",
   "source": [
    "# Let's see how many leaves they have:\n",
    "for pytree in example_trees:\n",
    "  leaves = jax.tree_leaves(pytree)\n",
    "  print(f\"{repr(pytree):<45} has {len(leaves)} leaves: {leaves}\")"
   ],
   "metadata": {
    "colab": {
     "base_uri": "https://localhost:8080/"
    },
    "id": "g_YY86tvO6ce",
    "outputId": "5b1b7bfe-68b2-48de-bfc2-64d0684d2ca8"
   },
   "execution_count": 9,
   "outputs": [
    {
     "output_type": "stream",
     "name": "stdout",
     "text": [
      "[1, 'a', <object object at 0x7f280a01f6d0>]   has 3 leaves: [1, 'a', <object object at 0x7f280a01f6d0>]\n",
      "(1, (2, 3), ())                               has 3 leaves: [1, 2, 3]\n",
      "[1, {'k1': 2, 'k2': (3, 4)}, 5]               has 5 leaves: [1, 2, 3, 4, 5]\n",
      "{'a': 2, 'b': (2, 3)}                         has 3 leaves: [2, 2, 3]\n",
      "DeviceArray([1, 2, 3], dtype=int64)           has 1 leaves: [DeviceArray([1, 2, 3], dtype=int64)]\n"
     ]
    }
   ]
  },
  {
   "cell_type": "markdown",
   "source": [
    "## Where to go from here\n",
    "Follow us on [LinkedIn](https://www.linkedin.com/company/mlnuggets), [Twitter](https://twitter.com/ml_nuggets), [GitHub](https://github.com/mlnuggets) and subscribe to our [blog](https://www.machinelearningnuggets.com/#/portal) so that you don't miss a new issue."
   ],
   "metadata": {
    "id": "9vnE60MYZIzW"
   }
  },
  {
   "cell_type": "code",
   "execution_count": null,
   "outputs": [],
   "source": [],
   "metadata": {
    "collapsed": false,
    "pycharm": {
     "name": "#%%\n"
    }
   }
  }
 ],
 "metadata": {
  "kernelspec": {
   "display_name": "Python 3 (ipykernel)",
   "language": "python",
   "name": "python3"
  },
  "language_info": {
   "codemirror_mode": {
    "name": "ipython",
    "version": 3
   },
   "file_extension": ".py",
   "mimetype": "text/x-python",
   "name": "python",
   "nbconvert_exporter": "python",
   "pygments_lexer": "ipython3",
   "version": "3.8.13"
  },
  "colab": {
   "name": "JAX 101",
   "provenance": [],
   "collapsed_sections": []
  },
  "gpuClass": "standard",
  "accelerator": "TPU"
 },
 "nbformat": 4,
 "nbformat_minor": 0
}